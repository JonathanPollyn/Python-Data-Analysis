{
 "cells": [
  {
   "cell_type": "markdown",
   "id": "67d80bd1",
   "metadata": {},
   "source": [
    "## Understanding Pandas DataFrame\n",
    "\n",
    "Welcome to the notebook titled \"Understanding Pandas DataFrame\"! The robust data manipulation and analysis features of Pandas, a popular Python package for data manipulation and analysis, will be explored in this notebook.\n",
    "\n",
    "For processing structured data, such as tabular data, CSV files, SQL tables, and more, Pandas offers the DataFrame, a highly effective and simple-to-use data structure. The DataFrame is an excellent option for data exploration, cleaning, transformation, and analysis because it is a two-dimensional labeled data structure with columns of potentially varied types.\n",
    "Creating and Accessing DataFrames: Discover how to generate DataFrames from various data sources, including CSV files, Excel spreadsheets, and Python dictionaries. We will also investigate various methods for accessing and obtaining data from DataFrames.\n",
    "1. Data Manipulation: Learn different methods for transforming and manipulating DataFrame data. Filtering rows, choosing columns, adding or removing columns, handling missing values, and grouping data for aggregation are a few of the procedures we'll examine.\n",
    "2. Data Cleaning: Acquire knowledge about DataFrames' cleaning and preprocessing procedures. We will examine methods for dealing with missing numbers, eliminating duplicates, managing outliers, and converting data types.\n",
    "3. Data Analysis: Explore DataFrames' analytical capabilities. Descriptive statistics, data visualization, handling of dates and timings, and complex data transformations will all be covered.\n",
    "4. Data Integration: Learn how to mix and integrate data from many sources by merging, joining, and concatenating DataFrames. We'll look at methods for combining data based on shared keys or indices.\n",
    "\n",
    "\n",
    "By the end of this notebook, you will be well equipped to carry out a variety of data manipulation, cleaning, and analysis activities effectively and have a firm grasp of the fundamental ideas of Pandas DataFrame.\n",
    "Let's begin and utilize Pandas DataFrame to its total capacity for your data analysis endeavors!"
   ]
  },
  {
   "cell_type": "code",
   "execution_count": 1,
   "id": "52089180",
   "metadata": {},
   "outputs": [],
   "source": [
    "# Import the needed library\n",
    "import pandas as pd"
   ]
  },
  {
   "cell_type": "code",
   "execution_count": 2,
   "id": "562c95e6",
   "metadata": {},
   "outputs": [],
   "source": [
    "# Create an empty DataFrame\n",
    "df = pd.DataFrame()"
   ]
  },
  {
   "cell_type": "code",
   "execution_count": 5,
   "id": "386450b7",
   "metadata": {},
   "outputs": [
    {
     "data": {
      "text/html": [
       "<div>\n",
       "<style scoped>\n",
       "    .dataframe tbody tr th:only-of-type {\n",
       "        vertical-align: middle;\n",
       "    }\n",
       "\n",
       "    .dataframe tbody tr th {\n",
       "        vertical-align: top;\n",
       "    }\n",
       "\n",
       "    .dataframe thead th {\n",
       "        text-align: right;\n",
       "    }\n",
       "</style>\n",
       "<table border=\"1\" class=\"dataframe\">\n",
       "  <thead>\n",
       "    <tr style=\"text-align: right;\">\n",
       "      <th></th>\n",
       "    </tr>\n",
       "  </thead>\n",
       "  <tbody>\n",
       "  </tbody>\n",
       "</table>\n",
       "</div>"
      ],
      "text/plain": [
       "Empty DataFrame\n",
       "Columns: []\n",
       "Index: []"
      ]
     },
     "execution_count": 5,
     "metadata": {},
     "output_type": "execute_result"
    }
   ],
   "source": [
    "# View the first 5 rows of the DataFrame\n",
    "df.head()"
   ]
  },
  {
   "cell_type": "code",
   "execution_count": 6,
   "id": "3a54f9b8",
   "metadata": {},
   "outputs": [
    {
     "data": {
      "text/html": [
       "<div>\n",
       "<style scoped>\n",
       "    .dataframe tbody tr th:only-of-type {\n",
       "        vertical-align: middle;\n",
       "    }\n",
       "\n",
       "    .dataframe tbody tr th {\n",
       "        vertical-align: top;\n",
       "    }\n",
       "\n",
       "    .dataframe thead th {\n",
       "        text-align: right;\n",
       "    }\n",
       "</style>\n",
       "<table border=\"1\" class=\"dataframe\">\n",
       "  <thead>\n",
       "    <tr style=\"text-align: right;\">\n",
       "      <th></th>\n",
       "    </tr>\n",
       "  </thead>\n",
       "  <tbody>\n",
       "  </tbody>\n",
       "</table>\n",
       "</div>"
      ],
      "text/plain": [
       "Empty DataFrame\n",
       "Columns: []\n",
       "Index: []"
      ]
     },
     "execution_count": 6,
     "metadata": {},
     "output_type": "execute_result"
    }
   ],
   "source": [
    "# View the last 5 rows of the DataFrame\n",
    "df.tail()"
   ]
  },
  {
   "cell_type": "markdown",
   "id": "1fc6302a",
   "metadata": {},
   "source": [
    "## Creating a DataFrame using a Dictionary"
   ]
  },
  {
   "cell_type": "code",
   "execution_count": 10,
   "id": "2dab44bd",
   "metadata": {},
   "outputs": [
    {
     "data": {
      "text/html": [
       "<div>\n",
       "<style scoped>\n",
       "    .dataframe tbody tr th:only-of-type {\n",
       "        vertical-align: middle;\n",
       "    }\n",
       "\n",
       "    .dataframe tbody tr th {\n",
       "        vertical-align: top;\n",
       "    }\n",
       "\n",
       "    .dataframe thead th {\n",
       "        text-align: right;\n",
       "    }\n",
       "</style>\n",
       "<table border=\"1\" class=\"dataframe\">\n",
       "  <thead>\n",
       "    <tr style=\"text-align: right;\">\n",
       "      <th></th>\n",
       "      <th>FirstName</th>\n",
       "      <th>Department</th>\n",
       "    </tr>\n",
       "  </thead>\n",
       "  <tbody>\n",
       "    <tr>\n",
       "      <th>0</th>\n",
       "      <td>Guy</td>\n",
       "      <td>Production</td>\n",
       "    </tr>\n",
       "    <tr>\n",
       "      <th>1</th>\n",
       "      <td>Kevin</td>\n",
       "      <td>Marketing</td>\n",
       "    </tr>\n",
       "    <tr>\n",
       "      <th>2</th>\n",
       "      <td>Roberto</td>\n",
       "      <td>Engineering</td>\n",
       "    </tr>\n",
       "    <tr>\n",
       "      <th>3</th>\n",
       "      <td>Rob</td>\n",
       "      <td>Tool</td>\n",
       "    </tr>\n",
       "    <tr>\n",
       "      <th>4</th>\n",
       "      <td>Thierry</td>\n",
       "      <td>Design</td>\n",
       "    </tr>\n",
       "    <tr>\n",
       "      <th>5</th>\n",
       "      <td>David</td>\n",
       "      <td>Production Control</td>\n",
       "    </tr>\n",
       "    <tr>\n",
       "      <th>6</th>\n",
       "      <td>JoLynn</td>\n",
       "      <td>Information Services</td>\n",
       "    </tr>\n",
       "    <tr>\n",
       "      <th>7</th>\n",
       "      <td>Ruth</td>\n",
       "      <td>Human Resources</td>\n",
       "    </tr>\n",
       "    <tr>\n",
       "      <th>8</th>\n",
       "      <td>Gail</td>\n",
       "      <td>Information Services</td>\n",
       "    </tr>\n",
       "    <tr>\n",
       "      <th>9</th>\n",
       "      <td>Barry</td>\n",
       "      <td>Human Resources</td>\n",
       "    </tr>\n",
       "  </tbody>\n",
       "</table>\n",
       "</div>"
      ],
      "text/plain": [
       "  FirstName            Department\n",
       "0       Guy            Production\n",
       "1     Kevin             Marketing\n",
       "2   Roberto           Engineering\n",
       "3       Rob                  Tool\n",
       "4   Thierry                Design\n",
       "5     David    Production Control\n",
       "6    JoLynn  Information Services\n",
       "7      Ruth       Human Resources\n",
       "8      Gail  Information Services\n",
       "9     Barry       Human Resources"
      ]
     },
     "execution_count": 10,
     "metadata": {},
     "output_type": "execute_result"
    }
   ],
   "source": [
    "# Creating dictionary of list\n",
    "data = {'FirstName':['Guy','Kevin','Roberto','Rob','Thierry','David','JoLynn','Ruth','Gail','Barry'], 'Department':['Production','Marketing','Engineering','Tool', 'Design',\n",
    "'Production Control','Information Services','Human Resources','Information Services','Human Resources']}\n",
    "a\n",
    "# Convert the dictionary to a DataFrame\n",
    "df = pd.DataFrame(data)\n",
    "\n",
    "# View the DataFrame\n",
    "df"
   ]
  },
  {
   "cell_type": "markdown",
   "id": "49a5c468",
   "metadata": {},
   "source": [
    "## Creating a DataFrame using a List of Tuple"
   ]
  },
  {
   "cell_type": "code",
   "execution_count": 12,
   "id": "8440c3c5",
   "metadata": {},
   "outputs": [
    {
     "data": {
      "text/plain": [
       "[('Gilbert', '1/28/2006'), ('Brown', '8/26/2006'), ('Tamburello', '6/11/2007')]"
      ]
     },
     "execution_count": 12,
     "metadata": {},
     "output_type": "execute_result"
    }
   ],
   "source": [
    "# Create a list of Tuble\n",
    "data2 = [('Gilbert','1/28/2006'),('Brown','8/26/2006'),('Tamburello','6/11/2007')]\n",
    "\n",
    "# View the data\n",
    "data2"
   ]
  },
  {
   "cell_type": "code",
   "execution_count": 13,
   "id": "ff1402df",
   "metadata": {},
   "outputs": [
    {
     "data": {
      "text/html": [
       "<div>\n",
       "<style scoped>\n",
       "    .dataframe tbody tr th:only-of-type {\n",
       "        vertical-align: middle;\n",
       "    }\n",
       "\n",
       "    .dataframe tbody tr th {\n",
       "        vertical-align: top;\n",
       "    }\n",
       "\n",
       "    .dataframe thead th {\n",
       "        text-align: right;\n",
       "    }\n",
       "</style>\n",
       "<table border=\"1\" class=\"dataframe\">\n",
       "  <thead>\n",
       "    <tr style=\"text-align: right;\">\n",
       "      <th></th>\n",
       "      <th>Name</th>\n",
       "      <th>Hired Date</th>\n",
       "    </tr>\n",
       "  </thead>\n",
       "  <tbody>\n",
       "    <tr>\n",
       "      <th>0</th>\n",
       "      <td>Gilbert</td>\n",
       "      <td>1/28/2006</td>\n",
       "    </tr>\n",
       "    <tr>\n",
       "      <th>1</th>\n",
       "      <td>Brown</td>\n",
       "      <td>8/26/2006</td>\n",
       "    </tr>\n",
       "    <tr>\n",
       "      <th>2</th>\n",
       "      <td>Tamburello</td>\n",
       "      <td>6/11/2007</td>\n",
       "    </tr>\n",
       "  </tbody>\n",
       "</table>\n",
       "</div>"
      ],
      "text/plain": [
       "         Name Hired Date\n",
       "0     Gilbert  1/28/2006\n",
       "1       Brown  8/26/2006\n",
       "2  Tamburello  6/11/2007"
      ]
     },
     "execution_count": 13,
     "metadata": {},
     "output_type": "execute_result"
    }
   ],
   "source": [
    "# Convert the data to a DataFrame\n",
    "df = pd.DataFrame(data2, columns=['Name', 'Hired Date'])\n",
    "\n",
    "# View the DataFrame\n",
    "df.head()"
   ]
  },
  {
   "cell_type": "markdown",
   "id": "3d4907d2",
   "metadata": {},
   "source": [
    "## Importing data from Excel source"
   ]
  },
  {
   "cell_type": "code",
   "execution_count": 22,
   "id": "ffa09a17",
   "metadata": {},
   "outputs": [
    {
     "data": {
      "text/html": [
       "<div>\n",
       "<style scoped>\n",
       "    .dataframe tbody tr th:only-of-type {\n",
       "        vertical-align: middle;\n",
       "    }\n",
       "\n",
       "    .dataframe tbody tr th {\n",
       "        vertical-align: top;\n",
       "    }\n",
       "\n",
       "    .dataframe thead th {\n",
       "        text-align: right;\n",
       "    }\n",
       "</style>\n",
       "<table border=\"1\" class=\"dataframe\">\n",
       "  <thead>\n",
       "    <tr style=\"text-align: right;\">\n",
       "      <th></th>\n",
       "      <th>BusinessEntityID</th>\n",
       "      <th>FirstName</th>\n",
       "      <th>MiddleName</th>\n",
       "      <th>LastName</th>\n",
       "    </tr>\n",
       "  </thead>\n",
       "  <tbody>\n",
       "    <tr>\n",
       "      <th>0</th>\n",
       "      <td>285</td>\n",
       "      <td>Syed</td>\n",
       "      <td>E</td>\n",
       "      <td>Abbas</td>\n",
       "    </tr>\n",
       "    <tr>\n",
       "      <th>1</th>\n",
       "      <td>293</td>\n",
       "      <td>Catherine</td>\n",
       "      <td>R.</td>\n",
       "      <td>Abel</td>\n",
       "    </tr>\n",
       "    <tr>\n",
       "      <th>2</th>\n",
       "      <td>38</td>\n",
       "      <td>Kim</td>\n",
       "      <td>B</td>\n",
       "      <td>Abercrombie</td>\n",
       "    </tr>\n",
       "    <tr>\n",
       "      <th>3</th>\n",
       "      <td>211</td>\n",
       "      <td>Hazem</td>\n",
       "      <td>E</td>\n",
       "      <td>Abolrous</td>\n",
       "    </tr>\n",
       "    <tr>\n",
       "      <th>4</th>\n",
       "      <td>121</td>\n",
       "      <td>Pilar</td>\n",
       "      <td>G</td>\n",
       "      <td>Ackerman</td>\n",
       "    </tr>\n",
       "  </tbody>\n",
       "</table>\n",
       "</div>"
      ],
      "text/plain": [
       "   BusinessEntityID  FirstName MiddleName     LastName\n",
       "0               285       Syed          E        Abbas\n",
       "1               293  Catherine         R.         Abel\n",
       "2                38        Kim          B  Abercrombie\n",
       "3               211      Hazem          E     Abolrous\n",
       "4               121      Pilar          G     Ackerman"
      ]
     },
     "execution_count": 22,
     "metadata": {},
     "output_type": "execute_result"
    }
   ],
   "source": [
    "# Import data from an excel file\n",
    "filePath = 'data/people.xlsx'\n",
    "excel_df = pd.read_excel(filePath)\n",
    "# Get the first 5 rows of the DataFrame\n",
    "excel_df.head()"
   ]
  },
  {
   "cell_type": "code",
   "execution_count": 23,
   "id": "d092a1be",
   "metadata": {},
   "outputs": [
    {
     "data": {
      "text/html": [
       "<div>\n",
       "<style scoped>\n",
       "    .dataframe tbody tr th:only-of-type {\n",
       "        vertical-align: middle;\n",
       "    }\n",
       "\n",
       "    .dataframe tbody tr th {\n",
       "        vertical-align: top;\n",
       "    }\n",
       "\n",
       "    .dataframe thead th {\n",
       "        text-align: right;\n",
       "    }\n",
       "</style>\n",
       "<table border=\"1\" class=\"dataframe\">\n",
       "  <thead>\n",
       "    <tr style=\"text-align: right;\">\n",
       "      <th></th>\n",
       "      <th>BusinessEntityID</th>\n",
       "      <th>FirstName</th>\n",
       "      <th>MiddleName</th>\n",
       "      <th>LastName</th>\n",
       "    </tr>\n",
       "  </thead>\n",
       "  <tbody>\n",
       "    <tr>\n",
       "      <th>16</th>\n",
       "      <td>5055</td>\n",
       "      <td>Eduardo</td>\n",
       "      <td>A</td>\n",
       "      <td>Albright</td>\n",
       "    </tr>\n",
       "    <tr>\n",
       "      <th>17</th>\n",
       "      <td>16858</td>\n",
       "      <td>Elijah</td>\n",
       "      <td>L</td>\n",
       "      <td>Albury</td>\n",
       "    </tr>\n",
       "    <tr>\n",
       "      <th>18</th>\n",
       "      <td>3889</td>\n",
       "      <td>Fernando</td>\n",
       "      <td>S</td>\n",
       "      <td>Alcorn</td>\n",
       "    </tr>\n",
       "    <tr>\n",
       "      <th>19</th>\n",
       "      <td>301</td>\n",
       "      <td>Frances</td>\n",
       "      <td>B.</td>\n",
       "      <td>Alderson</td>\n",
       "    </tr>\n",
       "    <tr>\n",
       "      <th>20</th>\n",
       "      <td>16850</td>\n",
       "      <td>Gabriel</td>\n",
       "      <td>S</td>\n",
       "      <td>Alexander</td>\n",
       "    </tr>\n",
       "  </tbody>\n",
       "</table>\n",
       "</div>"
      ],
      "text/plain": [
       "    BusinessEntityID FirstName MiddleName   LastName\n",
       "16              5055   Eduardo          A   Albright\n",
       "17             16858    Elijah          L     Albury\n",
       "18              3889  Fernando          S     Alcorn\n",
       "19               301   Frances         B.   Alderson\n",
       "20             16850   Gabriel          S  Alexander"
      ]
     },
     "execution_count": 23,
     "metadata": {},
     "output_type": "execute_result"
    }
   ],
   "source": [
    "# Get the last 5 rows of the DataFrame\n",
    "excel_df.tail()"
   ]
  },
  {
   "cell_type": "code",
   "execution_count": 17,
   "id": "9e88232e",
   "metadata": {},
   "outputs": [
    {
     "data": {
      "text/plain": [
       "pandas.core.series.Series"
      ]
     },
     "execution_count": 17,
     "metadata": {},
     "output_type": "execute_result"
    }
   ],
   "source": [
    "# Select individual columns\n",
    "bus_series = excel_df['BusinessEntityID']\n",
    "\n",
    "# Display the data\n",
    "bus_series\n",
    "\n",
    "# Check the type\n",
    "type(bus_series)"
   ]
  },
  {
   "cell_type": "code",
   "execution_count": 18,
   "id": "3574af3e",
   "metadata": {},
   "outputs": [
    {
     "data": {
      "text/plain": [
       "(21, 4)"
      ]
     },
     "execution_count": 18,
     "metadata": {},
     "output_type": "execute_result"
    }
   ],
   "source": [
    "# Check the shape of the DataFrame\n",
    "excel_df.shape"
   ]
  },
  {
   "cell_type": "code",
   "execution_count": 19,
   "id": "57aa0332",
   "metadata": {},
   "outputs": [
    {
     "data": {
      "text/plain": [
       "Index(['BusinessEntityID', 'FirstName', 'MiddleName', 'LastName'], dtype='object')"
      ]
     },
     "execution_count": 19,
     "metadata": {},
     "output_type": "execute_result"
    }
   ],
   "source": [
    "# Get the list of columns\n",
    "excel_df.columns"
   ]
  },
  {
   "cell_type": "code",
   "execution_count": 20,
   "id": "3a1a657a",
   "metadata": {},
   "outputs": [
    {
     "data": {
      "text/plain": [
       "BusinessEntityID     int64\n",
       "FirstName           object\n",
       "MiddleName          object\n",
       "LastName            object\n",
       "dtype: object"
      ]
     },
     "execution_count": 20,
     "metadata": {},
     "output_type": "execute_result"
    }
   ],
   "source": [
    "# Check the type of the DataFrame\n",
    "excel_df.dtypes"
   ]
  },
  {
   "cell_type": "markdown",
   "id": "ec5e7246",
   "metadata": {},
   "source": [
    "## Importing Data from SQL Server"
   ]
  },
  {
   "cell_type": "code",
   "execution_count": 38,
   "id": "146ba567",
   "metadata": {},
   "outputs": [],
   "source": [
    "# pip install pyodbc or pip install pyodbc==4.0.31"
   ]
  },
  {
   "cell_type": "code",
   "execution_count": 39,
   "id": "c97fcec7",
   "metadata": {},
   "outputs": [],
   "source": [
    "import pyodbc"
   ]
  },
  {
   "cell_type": "code",
   "execution_count": 47,
   "id": "e7351d37",
   "metadata": {},
   "outputs": [
    {
     "name": "stderr",
     "output_type": "stream",
     "text": [
      "C:\\anacondamain\\lib\\site-packages\\pandas\\io\\sql.py:762: UserWarning: pandas only support SQLAlchemy connectable(engine/connection) ordatabase string URI or sqlite3 DBAPI2 connectionother DBAPI2 objects are not tested, please consider using SQLAlchemy\n",
      "  warnings.warn(\n"
     ]
    },
    {
     "data": {
      "text/html": [
       "<div>\n",
       "<style scoped>\n",
       "    .dataframe tbody tr th:only-of-type {\n",
       "        vertical-align: middle;\n",
       "    }\n",
       "\n",
       "    .dataframe tbody tr th {\n",
       "        vertical-align: top;\n",
       "    }\n",
       "\n",
       "    .dataframe thead th {\n",
       "        text-align: right;\n",
       "    }\n",
       "</style>\n",
       "<table border=\"1\" class=\"dataframe\">\n",
       "  <thead>\n",
       "    <tr style=\"text-align: right;\">\n",
       "      <th></th>\n",
       "      <th>BusinessEntityID</th>\n",
       "      <th>JobTitle</th>\n",
       "      <th>BirthDate</th>\n",
       "      <th>Gender</th>\n",
       "      <th>HireDate</th>\n",
       "    </tr>\n",
       "  </thead>\n",
       "  <tbody>\n",
       "    <tr>\n",
       "      <th>0</th>\n",
       "      <td>1</td>\n",
       "      <td>Chief Executive Officer</td>\n",
       "      <td>1969-01-29</td>\n",
       "      <td>M</td>\n",
       "      <td>2009-01-14</td>\n",
       "    </tr>\n",
       "    <tr>\n",
       "      <th>1</th>\n",
       "      <td>2</td>\n",
       "      <td>Vice President of Engineering</td>\n",
       "      <td>1971-08-01</td>\n",
       "      <td>F</td>\n",
       "      <td>2008-01-31</td>\n",
       "    </tr>\n",
       "    <tr>\n",
       "      <th>2</th>\n",
       "      <td>3</td>\n",
       "      <td>Engineering Manager</td>\n",
       "      <td>1974-11-12</td>\n",
       "      <td>M</td>\n",
       "      <td>2007-11-11</td>\n",
       "    </tr>\n",
       "    <tr>\n",
       "      <th>3</th>\n",
       "      <td>4</td>\n",
       "      <td>Senior Tool Designer</td>\n",
       "      <td>1974-12-23</td>\n",
       "      <td>M</td>\n",
       "      <td>2007-12-05</td>\n",
       "    </tr>\n",
       "    <tr>\n",
       "      <th>4</th>\n",
       "      <td>5</td>\n",
       "      <td>Design Engineer</td>\n",
       "      <td>1952-09-27</td>\n",
       "      <td>F</td>\n",
       "      <td>2008-01-06</td>\n",
       "    </tr>\n",
       "  </tbody>\n",
       "</table>\n",
       "</div>"
      ],
      "text/plain": [
       "   BusinessEntityID                       JobTitle   BirthDate Gender  \\\n",
       "0                 1        Chief Executive Officer  1969-01-29      M   \n",
       "1                 2  Vice President of Engineering  1971-08-01      F   \n",
       "2                 3            Engineering Manager  1974-11-12      M   \n",
       "3                 4           Senior Tool Designer  1974-12-23      M   \n",
       "4                 5                Design Engineer  1952-09-27      F   \n",
       "\n",
       "     HireDate  \n",
       "0  2009-01-14  \n",
       "1  2008-01-31  \n",
       "2  2007-11-11  \n",
       "3  2007-12-05  \n",
       "4  2008-01-06  "
      ]
     },
     "execution_count": 47,
     "metadata": {},
     "output_type": "execute_result"
    }
   ],
   "source": [
    "# Creating the connection to SQL\n",
    "conn = pyodbc.connect('DRIVER={ODBC Driver 17 for SQL Server};SERVER=JONATHAN-POLLYN\\SQLEXPRESS01;DATABASE=AdventureWorks2016;Trusted_Connection=yes;')\n",
    "cursor=conn.cursor()\n",
    "\n",
    "# Executing the query\n",
    "query = \"SELECT BusinessEntityID,JobTitle,BirthDate,Gender,HireDate FROM HumanResources.Employee\"\n",
    "sql_df = pd.read_sql(query,conn)\n",
    "\n",
    "sql_df.head()"
   ]
  },
  {
   "cell_type": "markdown",
   "id": "66e292e2",
   "metadata": {},
   "source": [
    "## Finding and filtering data in DataFrame"
   ]
  },
  {
   "cell_type": "code",
   "execution_count": 48,
   "id": "a5ede2db",
   "metadata": {},
   "outputs": [
    {
     "data": {
      "text/plain": [
       "BusinessEntityID                      3\n",
       "JobTitle            Engineering Manager\n",
       "BirthDate                    1974-11-12\n",
       "Gender                                M\n",
       "HireDate                     2007-11-11\n",
       "Name: 2, dtype: object"
      ]
     },
     "execution_count": 48,
     "metadata": {},
     "output_type": "execute_result"
    }
   ],
   "source": [
    "# Extract the data from index number 2\n",
    "sql_df.loc[2]"
   ]
  },
  {
   "cell_type": "code",
   "execution_count": 50,
   "id": "a0e5578c",
   "metadata": {},
   "outputs": [
    {
     "data": {
      "text/plain": [
       "BusinessEntityID                  5\n",
       "JobTitle            Design Engineer\n",
       "BirthDate                1952-09-27\n",
       "Gender                            F\n",
       "HireDate                 2008-01-06\n",
       "Name: 4, dtype: object"
      ]
     },
     "execution_count": 50,
     "metadata": {},
     "output_type": "execute_result"
    }
   ],
   "source": [
    "# Extract the data from index number 4\n",
    "sql_df.loc[4]"
   ]
  },
  {
   "cell_type": "code",
   "execution_count": 51,
   "id": "0468611d",
   "metadata": {},
   "outputs": [
    {
     "data": {
      "text/html": [
       "<div>\n",
       "<style scoped>\n",
       "    .dataframe tbody tr th:only-of-type {\n",
       "        vertical-align: middle;\n",
       "    }\n",
       "\n",
       "    .dataframe tbody tr th {\n",
       "        vertical-align: top;\n",
       "    }\n",
       "\n",
       "    .dataframe thead th {\n",
       "        text-align: right;\n",
       "    }\n",
       "</style>\n",
       "<table border=\"1\" class=\"dataframe\">\n",
       "  <thead>\n",
       "    <tr style=\"text-align: right;\">\n",
       "      <th></th>\n",
       "      <th>BusinessEntityID</th>\n",
       "      <th>JobTitle</th>\n",
       "      <th>BirthDate</th>\n",
       "      <th>Gender</th>\n",
       "      <th>HireDate</th>\n",
       "    </tr>\n",
       "  </thead>\n",
       "  <tbody>\n",
       "    <tr>\n",
       "      <th>1</th>\n",
       "      <td>2</td>\n",
       "      <td>Vice President of Engineering</td>\n",
       "      <td>1971-08-01</td>\n",
       "      <td>F</td>\n",
       "      <td>2008-01-31</td>\n",
       "    </tr>\n",
       "    <tr>\n",
       "      <th>2</th>\n",
       "      <td>3</td>\n",
       "      <td>Engineering Manager</td>\n",
       "      <td>1974-11-12</td>\n",
       "      <td>M</td>\n",
       "      <td>2007-11-11</td>\n",
       "    </tr>\n",
       "    <tr>\n",
       "      <th>3</th>\n",
       "      <td>4</td>\n",
       "      <td>Senior Tool Designer</td>\n",
       "      <td>1974-12-23</td>\n",
       "      <td>M</td>\n",
       "      <td>2007-12-05</td>\n",
       "    </tr>\n",
       "    <tr>\n",
       "      <th>4</th>\n",
       "      <td>5</td>\n",
       "      <td>Design Engineer</td>\n",
       "      <td>1952-09-27</td>\n",
       "      <td>F</td>\n",
       "      <td>2008-01-06</td>\n",
       "    </tr>\n",
       "  </tbody>\n",
       "</table>\n",
       "</div>"
      ],
      "text/plain": [
       "   BusinessEntityID                       JobTitle   BirthDate Gender  \\\n",
       "1                 2  Vice President of Engineering  1971-08-01      F   \n",
       "2                 3            Engineering Manager  1974-11-12      M   \n",
       "3                 4           Senior Tool Designer  1974-12-23      M   \n",
       "4                 5                Design Engineer  1952-09-27      F   \n",
       "\n",
       "     HireDate  \n",
       "1  2008-01-31  \n",
       "2  2007-11-11  \n",
       "3  2007-12-05  \n",
       "4  2008-01-06  "
      ]
     },
     "execution_count": 51,
     "metadata": {},
     "output_type": "execute_result"
    }
   ],
   "source": [
    "# Extract the rows from index number 1 to 4\n",
    "sql_df.loc[1:4]"
   ]
  },
  {
   "cell_type": "code",
   "execution_count": 53,
   "id": "6a54edcb",
   "metadata": {},
   "outputs": [
    {
     "data": {
      "text/html": [
       "<div>\n",
       "<style scoped>\n",
       "    .dataframe tbody tr th:only-of-type {\n",
       "        vertical-align: middle;\n",
       "    }\n",
       "\n",
       "    .dataframe tbody tr th {\n",
       "        vertical-align: top;\n",
       "    }\n",
       "\n",
       "    .dataframe thead th {\n",
       "        text-align: right;\n",
       "    }\n",
       "</style>\n",
       "<table border=\"1\" class=\"dataframe\">\n",
       "  <thead>\n",
       "    <tr style=\"text-align: right;\">\n",
       "      <th></th>\n",
       "      <th>BusinessEntityID</th>\n",
       "      <th>JobTitle</th>\n",
       "      <th>BirthDate</th>\n",
       "      <th>Gender</th>\n",
       "      <th>HireDate</th>\n",
       "    </tr>\n",
       "  </thead>\n",
       "  <tbody>\n",
       "    <tr>\n",
       "      <th>0</th>\n",
       "      <td>1</td>\n",
       "      <td>Chief Executive Officer</td>\n",
       "      <td>1969-01-29</td>\n",
       "      <td>M</td>\n",
       "      <td>2009-01-14</td>\n",
       "    </tr>\n",
       "    <tr>\n",
       "      <th>1</th>\n",
       "      <td>2</td>\n",
       "      <td>Vice President of Engineering</td>\n",
       "      <td>1971-08-01</td>\n",
       "      <td>F</td>\n",
       "      <td>2008-01-31</td>\n",
       "    </tr>\n",
       "  </tbody>\n",
       "</table>\n",
       "</div>"
      ],
      "text/plain": [
       "   BusinessEntityID                       JobTitle   BirthDate Gender  \\\n",
       "0                 1        Chief Executive Officer  1969-01-29      M   \n",
       "1                 2  Vice President of Engineering  1971-08-01      F   \n",
       "\n",
       "     HireDate  \n",
       "0  2009-01-14  \n",
       "1  2008-01-31  "
      ]
     },
     "execution_count": 53,
     "metadata": {},
     "output_type": "execute_result"
    }
   ],
   "source": [
    "# Extract the first 2 rows of the data\n",
    "sql_df.iloc[0:2]"
   ]
  },
  {
   "cell_type": "code",
   "execution_count": 55,
   "id": "4edb138a",
   "metadata": {},
   "outputs": [
    {
     "data": {
      "text/html": [
       "<div>\n",
       "<style scoped>\n",
       "    .dataframe tbody tr th:only-of-type {\n",
       "        vertical-align: middle;\n",
       "    }\n",
       "\n",
       "    .dataframe tbody tr th {\n",
       "        vertical-align: top;\n",
       "    }\n",
       "\n",
       "    .dataframe thead th {\n",
       "        text-align: right;\n",
       "    }\n",
       "</style>\n",
       "<table border=\"1\" class=\"dataframe\">\n",
       "  <thead>\n",
       "    <tr style=\"text-align: right;\">\n",
       "      <th></th>\n",
       "      <th>BusinessEntityID</th>\n",
       "      <th>JobTitle</th>\n",
       "      <th>BirthDate</th>\n",
       "      <th>Gender</th>\n",
       "      <th>HireDate</th>\n",
       "    </tr>\n",
       "  </thead>\n",
       "  <tbody>\n",
       "    <tr>\n",
       "      <th>4</th>\n",
       "      <td>5</td>\n",
       "      <td>Design Engineer</td>\n",
       "      <td>1952-09-27</td>\n",
       "      <td>F</td>\n",
       "      <td>2008-01-06</td>\n",
       "    </tr>\n",
       "    <tr>\n",
       "      <th>5</th>\n",
       "      <td>6</td>\n",
       "      <td>Design Engineer</td>\n",
       "      <td>1959-03-11</td>\n",
       "      <td>M</td>\n",
       "      <td>2008-01-24</td>\n",
       "    </tr>\n",
       "    <tr>\n",
       "      <th>14</th>\n",
       "      <td>15</td>\n",
       "      <td>Design Engineer</td>\n",
       "      <td>1961-05-02</td>\n",
       "      <td>F</td>\n",
       "      <td>2011-01-18</td>\n",
       "    </tr>\n",
       "  </tbody>\n",
       "</table>\n",
       "</div>"
      ],
      "text/plain": [
       "    BusinessEntityID         JobTitle   BirthDate Gender    HireDate\n",
       "4                  5  Design Engineer  1952-09-27      F  2008-01-06\n",
       "5                  6  Design Engineer  1959-03-11      M  2008-01-24\n",
       "14                15  Design Engineer  1961-05-02      F  2011-01-18"
      ]
     },
     "execution_count": 55,
     "metadata": {},
     "output_type": "execute_result"
    }
   ],
   "source": [
    "# Return records where the job title is Design Engineer\n",
    "sql_df.loc[sql_df['JobTitle'] == 'Design Engineer']"
   ]
  },
  {
   "cell_type": "code",
   "execution_count": 56,
   "id": "de8ce55e",
   "metadata": {},
   "outputs": [
    {
     "data": {
      "text/html": [
       "<div>\n",
       "<style scoped>\n",
       "    .dataframe tbody tr th:only-of-type {\n",
       "        vertical-align: middle;\n",
       "    }\n",
       "\n",
       "    .dataframe tbody tr th {\n",
       "        vertical-align: top;\n",
       "    }\n",
       "\n",
       "    .dataframe thead th {\n",
       "        text-align: right;\n",
       "    }\n",
       "</style>\n",
       "<table border=\"1\" class=\"dataframe\">\n",
       "  <thead>\n",
       "    <tr style=\"text-align: right;\">\n",
       "      <th></th>\n",
       "      <th>BusinessEntityID</th>\n",
       "      <th>JobTitle</th>\n",
       "      <th>BirthDate</th>\n",
       "      <th>Gender</th>\n",
       "      <th>HireDate</th>\n",
       "    </tr>\n",
       "  </thead>\n",
       "  <tbody>\n",
       "    <tr>\n",
       "      <th>4</th>\n",
       "      <td>5</td>\n",
       "      <td>Design Engineer</td>\n",
       "      <td>1952-09-27</td>\n",
       "      <td>F</td>\n",
       "      <td>2008-01-06</td>\n",
       "    </tr>\n",
       "    <tr>\n",
       "      <th>5</th>\n",
       "      <td>6</td>\n",
       "      <td>Design Engineer</td>\n",
       "      <td>1959-03-11</td>\n",
       "      <td>M</td>\n",
       "      <td>2008-01-24</td>\n",
       "    </tr>\n",
       "    <tr>\n",
       "      <th>14</th>\n",
       "      <td>15</td>\n",
       "      <td>Design Engineer</td>\n",
       "      <td>1961-05-02</td>\n",
       "      <td>F</td>\n",
       "      <td>2011-01-18</td>\n",
       "    </tr>\n",
       "  </tbody>\n",
       "</table>\n",
       "</div>"
      ],
      "text/plain": [
       "    BusinessEntityID         JobTitle   BirthDate Gender    HireDate\n",
       "4                  5  Design Engineer  1952-09-27      F  2008-01-06\n",
       "5                  6  Design Engineer  1959-03-11      M  2008-01-24\n",
       "14                15  Design Engineer  1961-05-02      F  2011-01-18"
      ]
     },
     "execution_count": 56,
     "metadata": {},
     "output_type": "execute_result"
    }
   ],
   "source": [
    "# OR\n",
    "sql_df[sql_df['JobTitle']=='Design Engineer']"
   ]
  },
  {
   "cell_type": "code",
   "execution_count": null,
   "id": "b7b61c83",
   "metadata": {},
   "outputs": [],
   "source": []
  }
 ],
 "metadata": {
  "kernelspec": {
   "display_name": "Python 3 (ipykernel)",
   "language": "python",
   "name": "python3"
  },
  "language_info": {
   "codemirror_mode": {
    "name": "ipython",
    "version": 3
   },
   "file_extension": ".py",
   "mimetype": "text/x-python",
   "name": "python",
   "nbconvert_exporter": "python",
   "pygments_lexer": "ipython3",
   "version": "3.9.13"
  },
  "toc": {
   "base_numbering": 1,
   "nav_menu": {},
   "number_sections": true,
   "sideBar": true,
   "skip_h1_title": false,
   "title_cell": "Table of Contents",
   "title_sidebar": "Contents",
   "toc_cell": false,
   "toc_position": {},
   "toc_section_display": true,
   "toc_window_display": false
  }
 },
 "nbformat": 4,
 "nbformat_minor": 5
}
