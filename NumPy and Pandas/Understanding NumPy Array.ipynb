{
 "cells": [
  {
   "cell_type": "markdown",
   "id": "b1de0b70",
   "metadata": {},
   "source": [
    "Understanding NumPy Array\n",
    "\n",
    "In this notebook, we will examine the core ideas and features of NumPy, the essential Python library for scientific computation. The name \"Numerical Python\" refers to a powerful library that supports big, multi-dimensional arrays and matrices and offers a variety of mathematical functions to work with them effectively. It is a crucial tool for machine learning, scientific computing, and data analysis jobs.\n",
    "\n",
    "In this notebook, we will cover the following key topics:\n",
    "1. Arrays in NumPy: Learn about the core data structure in NumPy, the array, which allows us to represent and manipulate arrays efficiently. We will explore different ways to create arrays, perform basic operations, and access array elements.\n",
    "2. Array Operations: Discover the various mathematical and logical operations that can be performed on NumPy arrays. We will explore element-wise operations, array broadcasting, and vectorized computations.\n",
    "3. Indexing and Slicing: Understand how to access and manipulate specific elements, rows, or columns within NumPy arrays using indexing and slicing techniques. This will allow us to extract and modify portions of arrays efficiently.\n",
    "4. Array Manipulation: Learn how to reshape, concatenate, and split arrays to transform their dimensions and structures. We will explore functions to resize, stack, and split arrays to suit our data processing needs.\n",
    "\n",
    "By the end of this notebook, you will have a solid understanding of the core concepts of NumPy and be well-equipped to leverage its powerful features for your data analysis and scientific computing tasks.\n",
    "So let's dive in and explore the world of NumPy!"
   ]
  },
  {
   "cell_type": "code",
   "execution_count": null,
   "id": "d13ffe9a",
   "metadata": {},
   "outputs": [],
   "source": [
    "import numpy as np"
   ]
  },
  {
   "cell_type": "markdown",
   "id": "63d19ba8",
   "metadata": {},
   "source": [
    "Creating a Numpy Array"
   ]
  },
  {
   "cell_type": "code",
   "execution_count": 2,
   "id": "66e00a41",
   "metadata": {},
   "outputs": [
    {
     "name": "stdout",
     "output_type": "stream",
     "text": [
      "[ 2  4  6  8 10]\n"
     ]
    }
   ],
   "source": [
    "# Create a Numpy Array\n",
    "arr1 = np.array([2,4,6,8,10])\n",
    "print(arr1)"
   ]
  },
  {
   "cell_type": "code",
   "execution_count": 3,
   "id": "0c256ca5",
   "metadata": {},
   "outputs": [
    {
     "name": "stdout",
     "output_type": "stream",
     "text": [
      "[ 1  2  3  4  5  6  7  8  9 10 11 12 13 14 15 16 17 18 19 20]\n"
     ]
    }
   ],
   "source": [
    "# Creat a Numpy Array using arange\n",
    "arr2 = np.arange(1,21)\n",
    "print(arr2)"
   ]
  },
  {
   "cell_type": "markdown",
   "id": "88e2def2",
   "metadata": {},
   "source": [
    "Array Features"
   ]
  },
  {
   "cell_type": "code",
   "execution_count": 4,
   "id": "1a05aa95",
   "metadata": {},
   "outputs": [
    {
     "name": "stdout",
     "output_type": "stream",
     "text": [
      "[ 1  2  3  4  5  6  7  8  9 10 11 12 13 14 15]\n"
     ]
    }
   ],
   "source": [
    "# Creating an Array\n",
    "arr3 = np.arange(1,16)\n",
    "print(arr3)"
   ]
  },
  {
   "cell_type": "code",
   "execution_count": 8,
   "id": "410ac6ce",
   "metadata": {},
   "outputs": [
    {
     "name": "stdout",
     "output_type": "stream",
     "text": [
      "<class 'numpy.ndarray'>\n",
      "int32\n"
     ]
    }
   ],
   "source": [
    "# Check the array type\n",
    "print(type(arr3))\n",
    "print(arr3.dtype)"
   ]
  },
  {
   "cell_type": "code",
   "execution_count": 9,
   "id": "4afcfd3f",
   "metadata": {},
   "outputs": [
    {
     "data": {
      "text/plain": [
       "(15,)"
      ]
     },
     "execution_count": 9,
     "metadata": {},
     "output_type": "execute_result"
    }
   ],
   "source": [
    "# Finding the shape of the array\n",
    "arr3.shape"
   ]
  },
  {
   "cell_type": "markdown",
   "id": "e6e3a940",
   "metadata": {},
   "source": [
    "Changing the data type of Numpy Arrasy"
   ]
  },
  {
   "cell_type": "code",
   "execution_count": 11,
   "id": "f7430589",
   "metadata": {},
   "outputs": [
    {
     "name": "stdout",
     "output_type": "stream",
     "text": [
      "[1 2 3 4 5 6 7 8 9]\n"
     ]
    }
   ],
   "source": [
    "# Create an array\n",
    "a = np.arange(1,10)\n",
    "print(a)"
   ]
  },
  {
   "cell_type": "code",
   "execution_count": 17,
   "id": "f0bf94ea",
   "metadata": {},
   "outputs": [],
   "source": [
    "# Reshape the array\n",
    "a = a.reshape(3,3)"
   ]
  },
  {
   "cell_type": "code",
   "execution_count": 18,
   "id": "f36e83ce",
   "metadata": {},
   "outputs": [
    {
     "data": {
      "text/plain": [
       "array([[1., 2., 3.],\n",
       "       [4., 5., 6.],\n",
       "       [7., 8., 9.]])"
      ]
     },
     "execution_count": 18,
     "metadata": {},
     "output_type": "execute_result"
    }
   ],
   "source": [
    "# Change the data type\n",
    "a = a.astype(float)\n",
    "a"
   ]
  },
  {
   "cell_type": "code",
   "execution_count": 19,
   "id": "97a58c63",
   "metadata": {},
   "outputs": [
    {
     "name": "stdout",
     "output_type": "stream",
     "text": [
      "[ 1  2  3  4  5  6  7  8  9 10 11 12 13 14 15]\n"
     ]
    }
   ],
   "source": [
    "# Create a new array\n",
    "new_a = np.arange(1,16)\n",
    "print(new_a)"
   ]
  },
  {
   "cell_type": "code",
   "execution_count": 20,
   "id": "2027a514",
   "metadata": {},
   "outputs": [
    {
     "data": {
      "text/plain": [
       "[1, 2, 3, 4, 5, 6, 7, 8, 9, 10, 11, 12, 13, 14, 15]"
      ]
     },
     "execution_count": 20,
     "metadata": {},
     "output_type": "execute_result"
    }
   ],
   "source": [
    "# Convert the Numpy Array to a Python List\n",
    "new_a.tolist()"
   ]
  },
  {
   "cell_type": "markdown",
   "id": "72a4144c",
   "metadata": {},
   "source": [
    "Indexing in Array"
   ]
  },
  {
   "cell_type": "code",
   "execution_count": 29,
   "id": "83e6f811",
   "metadata": {},
   "outputs": [
    {
     "name": "stdout",
     "output_type": "stream",
     "text": [
      "[ 1  3  5  7  9 11 13 15 17 19]\n"
     ]
    }
   ],
   "source": [
    "# Create an Array\n",
    "ind = np.arange(1,21,2)\n",
    "print(ind)"
   ]
  },
  {
   "cell_type": "code",
   "execution_count": 31,
   "id": "42bc2b5d",
   "metadata": {},
   "outputs": [
    {
     "name": "stdout",
     "output_type": "stream",
     "text": [
      "1\n"
     ]
    }
   ],
   "source": [
    "# Return the first Item in an array\n",
    "print(ind[0])"
   ]
  },
  {
   "cell_type": "code",
   "execution_count": 33,
   "id": "f21b8d03",
   "metadata": {},
   "outputs": [
    {
     "name": "stdout",
     "output_type": "stream",
     "text": [
      "5\n"
     ]
    }
   ],
   "source": [
    "# Return the third Item in an array\n",
    "print(ind[2])"
   ]
  },
  {
   "cell_type": "code",
   "execution_count": 34,
   "id": "afab94dd",
   "metadata": {},
   "outputs": [
    {
     "name": "stdout",
     "output_type": "stream",
     "text": [
      "19\n"
     ]
    }
   ],
   "source": [
    "# Get the last item from the array\n",
    "print(ind[-1])"
   ]
  },
  {
   "cell_type": "code",
   "execution_count": 35,
   "id": "9f04d2e6",
   "metadata": {},
   "outputs": [
    {
     "name": "stdout",
     "output_type": "stream",
     "text": [
      "24\n"
     ]
    }
   ],
   "source": [
    "# Get the third and last item in an array and add them up\n",
    "print(ind[2] + ind[-1])"
   ]
  },
  {
   "cell_type": "markdown",
   "id": "e0a08e11",
   "metadata": {},
   "source": [
    "Slicing Numpy Array"
   ]
  },
  {
   "cell_type": "code",
   "execution_count": 21,
   "id": "c4508aa5",
   "metadata": {},
   "outputs": [
    {
     "name": "stdout",
     "output_type": "stream",
     "text": [
      "[ 1  2  3  4  5  6  7  8  9 10 11 12 13 14 15 16 17 18 19 20]\n"
     ]
    }
   ],
   "source": [
    "# Create an Array\n",
    "new_b = np.arange(1,21)\n",
    "print(new_b)"
   ]
  },
  {
   "cell_type": "code",
   "execution_count": 22,
   "id": "a9c38ebe",
   "metadata": {},
   "outputs": [
    {
     "data": {
      "text/plain": [
       "array([1, 2, 3, 4, 5])"
      ]
     },
     "execution_count": 22,
     "metadata": {},
     "output_type": "execute_result"
    }
   ],
   "source": [
    "# Slice the array to return the first 5 items of the array\n",
    "new_b[0:5]"
   ]
  },
  {
   "cell_type": "code",
   "execution_count": 24,
   "id": "03eab8b5",
   "metadata": {},
   "outputs": [
    {
     "data": {
      "text/plain": [
       "array([7, 8, 9])"
      ]
     },
     "execution_count": 24,
     "metadata": {},
     "output_type": "execute_result"
    }
   ],
   "source": [
    "# Slice the array to return items in index 7,8 and 9\n",
    "new_b[6:9]"
   ]
  },
  {
   "cell_type": "code",
   "execution_count": 25,
   "id": "2e906c4a",
   "metadata": {},
   "outputs": [
    {
     "data": {
      "text/plain": [
       "array([ 6,  7,  8,  9, 10, 11, 12, 13, 14, 15, 16, 17, 18, 19, 20])"
      ]
     },
     "execution_count": 25,
     "metadata": {},
     "output_type": "execute_result"
    }
   ],
   "source": [
    "# Return all the items in the array starting with index 5\n",
    "new_b[5:]"
   ]
  },
  {
   "cell_type": "code",
   "execution_count": 26,
   "id": "3b601a4f",
   "metadata": {},
   "outputs": [
    {
     "data": {
      "text/plain": [
       "array([ 1,  4,  7, 10, 13, 16, 19])"
      ]
     },
     "execution_count": 26,
     "metadata": {},
     "output_type": "execute_result"
    }
   ],
   "source": [
    "# Return the items in the array from index 0 with a step of 3\n",
    "new_b[0::3]"
   ]
  },
  {
   "cell_type": "code",
   "execution_count": 27,
   "id": "95bf71ec",
   "metadata": {},
   "outputs": [
    {
     "data": {
      "text/plain": [
       "array([ 2,  4,  6,  8, 10, 12, 14, 16, 18, 20, 22, 24, 26, 28, 30, 32, 34,\n",
       "       36, 38, 40])"
      ]
     },
     "execution_count": 27,
     "metadata": {},
     "output_type": "execute_result"
    }
   ],
   "source": [
    "# Multiply an array by 2\n",
    "new_b*2"
   ]
  },
  {
   "cell_type": "markdown",
   "id": "62a15ad5",
   "metadata": {},
   "source": [
    "Copy and viewing and Numpy array"
   ]
  },
  {
   "cell_type": "code",
   "execution_count": 36,
   "id": "23b744df",
   "metadata": {},
   "outputs": [
    {
     "name": "stdout",
     "output_type": "stream",
     "text": [
      "[ 1  5  9 13 17 21 25 29]\n"
     ]
    }
   ],
   "source": [
    "# Create an array\n",
    "c_v = np.arange(1,30,4)\n",
    "print(c_v)"
   ]
  },
  {
   "cell_type": "code",
   "execution_count": 39,
   "id": "fc22c3e6",
   "metadata": {},
   "outputs": [
    {
     "name": "stdout",
     "output_type": "stream",
     "text": [
      "The copied array is: [ 1  5  9 13 17 21 25 29]\n",
      "The original array is: [ 1  5  9 13 17 21 25 29]\n"
     ]
    }
   ],
   "source": [
    "# Copy the array\n",
    "copy = c_v.copy()\n",
    "print('The copied array is:', copy)\n",
    "print('The original array is:',c_v)"
   ]
  },
  {
   "cell_type": "code",
   "execution_count": 43,
   "id": "12579968",
   "metadata": {},
   "outputs": [
    {
     "name": "stdout",
     "output_type": "stream",
     "text": [
      "The view array is: [ 1  5  9 13 17 21 25 29]\n",
      "The original array is: [ 1  5  9 13 17 21 25 29]\n"
     ]
    }
   ],
   "source": [
    "# view the array\n",
    "view = c_v.view()\n",
    "print('The view array is:', view)\n",
    "print('The original array is:',c_v)"
   ]
  },
  {
   "cell_type": "code",
   "execution_count": 41,
   "id": "e53cdd88",
   "metadata": {},
   "outputs": [
    {
     "name": "stdout",
     "output_type": "stream",
     "text": [
      "The copied array is: [ 1 15  9 13 17 21 25 29]\n",
      "The original array is: [ 1  5  9 13 17 21 25 29]\n"
     ]
    }
   ],
   "source": [
    "# Copy the array and change the value of the second item content\n",
    "copy2 = c_v.copy()\n",
    "copy2[1] = copy2[1]*3\n",
    "print('The copied array is:', copy2)\n",
    "print('The original array is:',c_v)"
   ]
  },
  {
   "cell_type": "code",
   "execution_count": null,
   "id": "3939638a",
   "metadata": {},
   "outputs": [],
   "source": [
    "# Check the base of the array"
   ]
  },
  {
   "cell_type": "code",
   "execution_count": 45,
   "id": "f0a4055b",
   "metadata": {},
   "outputs": [
    {
     "name": "stdout",
     "output_type": "stream",
     "text": [
      "The base of the copied data is:  None\n",
      "The base of the Views data is:  [ 1  5  9 13 17 21 25 29]\n"
     ]
    }
   ],
   "source": [
    "print('The base of the copied data is: ', copy2.base)\n",
    "print('The base of the Views data is: ', view.base)"
   ]
  },
  {
   "cell_type": "markdown",
   "id": "19d2548e",
   "metadata": {},
   "source": [
    "Iterating through an Array"
   ]
  },
  {
   "cell_type": "code",
   "execution_count": 47,
   "id": "b998c5e0",
   "metadata": {},
   "outputs": [
    {
     "name": "stdout",
     "output_type": "stream",
     "text": [
      "[ 5  8 11 14 17 20 23 26]\n"
     ]
    }
   ],
   "source": [
    "# Create an array\n",
    "iter1 = np.arange(5,27,3)\n",
    "print(iter1)"
   ]
  },
  {
   "cell_type": "code",
   "execution_count": 48,
   "id": "8481c614",
   "metadata": {},
   "outputs": [
    {
     "name": "stdout",
     "output_type": "stream",
     "text": [
      "5\n",
      "8\n",
      "11\n",
      "14\n",
      "17\n",
      "20\n",
      "23\n",
      "26\n"
     ]
    }
   ],
   "source": [
    "# Iterate through the array\n",
    "for x in iter1:\n",
    "    print(x)"
   ]
  },
  {
   "cell_type": "code",
   "execution_count": 51,
   "id": "e5403b71",
   "metadata": {},
   "outputs": [
    {
     "name": "stdout",
     "output_type": "stream",
     "text": [
      "8\n",
      "14\n",
      "20\n",
      "26\n"
     ]
    }
   ],
   "source": [
    "# Iterate through the array and return only the even numbers\n",
    "for x in iter1:\n",
    "    if x%2==0:\n",
    "        print(x)"
   ]
  },
  {
   "cell_type": "code",
   "execution_count": 53,
   "id": "d52837c3",
   "metadata": {},
   "outputs": [
    {
     "name": "stdout",
     "output_type": "stream",
     "text": [
      "5\n",
      "11\n",
      "17\n",
      "23\n"
     ]
    }
   ],
   "source": [
    "# Iterate through the array and return only the odd numbers\n",
    "for x in iter1:\n",
    "    if x%2!=0:\n",
    "        print(x)"
   ]
  },
  {
   "cell_type": "markdown",
   "id": "b29df016",
   "metadata": {},
   "source": [
    "Joining a Numpy Array"
   ]
  },
  {
   "cell_type": "code",
   "execution_count": 61,
   "id": "19a59ee9",
   "metadata": {},
   "outputs": [],
   "source": [
    "# Create two array\n",
    "j_arr1 = np.arange(2,11,2)\n",
    "j_arr2 = np.arange(1,11,3)"
   ]
  },
  {
   "cell_type": "code",
   "execution_count": 62,
   "id": "a9b2240b",
   "metadata": {},
   "outputs": [],
   "source": [
    "joined_arr = np.concatenate((j_arr1,j_arr2))"
   ]
  },
  {
   "cell_type": "code",
   "execution_count": 63,
   "id": "983cc03d",
   "metadata": {},
   "outputs": [
    {
     "name": "stdout",
     "output_type": "stream",
     "text": [
      "[ 2  4  6  8 10  1  4  7 10]\n"
     ]
    }
   ],
   "source": [
    "print(joined_arr)"
   ]
  },
  {
   "cell_type": "markdown",
   "id": "d39604ed",
   "metadata": {},
   "source": [
    "Spliting a Numpy Array"
   ]
  },
  {
   "cell_type": "code",
   "execution_count": 65,
   "id": "7e6147e7",
   "metadata": {},
   "outputs": [
    {
     "name": "stdout",
     "output_type": "stream",
     "text": [
      "[ 1  2  3  4  5  6  7  8  9 10 11 12 13 14 15 16 17 18 19 20]\n"
     ]
    }
   ],
   "source": [
    "# Create an array\n",
    "split_arr = np.arange(1,21)\n",
    "print(split_arr)"
   ]
  },
  {
   "cell_type": "code",
   "execution_count": 66,
   "id": "df5119d1",
   "metadata": {},
   "outputs": [
    {
     "data": {
      "text/plain": [
       "[array([1, 2, 3, 4, 5, 6, 7]),\n",
       " array([ 8,  9, 10, 11, 12, 13, 14]),\n",
       " array([15, 16, 17, 18, 19, 20])]"
      ]
     },
     "execution_count": 66,
     "metadata": {},
     "output_type": "execute_result"
    }
   ],
   "source": [
    "# Split the array into 3\n",
    "np.array_split(split_arr,3)"
   ]
  },
  {
   "cell_type": "code",
   "execution_count": 67,
   "id": "a7456dbc",
   "metadata": {},
   "outputs": [
    {
     "data": {
      "text/plain": [
       "[array([1, 2, 3, 4, 5]),\n",
       " array([ 6,  7,  8,  9, 10]),\n",
       " array([11, 12, 13, 14, 15]),\n",
       " array([16, 17, 18, 19, 20])]"
      ]
     },
     "execution_count": 67,
     "metadata": {},
     "output_type": "execute_result"
    }
   ],
   "source": [
    "# Split the array into 4\n",
    "np.array_split(split_arr, 4)"
   ]
  },
  {
   "cell_type": "markdown",
   "id": "5431b688",
   "metadata": {},
   "source": [
    "Search a Numpy Array"
   ]
  },
  {
   "cell_type": "code",
   "execution_count": 68,
   "id": "494ce8d1",
   "metadata": {},
   "outputs": [
    {
     "name": "stdout",
     "output_type": "stream",
     "text": [
      "[ 1  2  3  4  5  6  7  8  9 10]\n"
     ]
    }
   ],
   "source": [
    "# Create an Array\n",
    "sear_arr = np.arange(1,11)\n",
    "print(sear_arr)"
   ]
  },
  {
   "cell_type": "code",
   "execution_count": 70,
   "id": "e075ae36",
   "metadata": {},
   "outputs": [
    {
     "name": "stdout",
     "output_type": "stream",
     "text": [
      "(array([6], dtype=int64),)\n"
     ]
    }
   ],
   "source": [
    "# Gett the index position of item number 7\n",
    "print(np.where(sear_arr==7))"
   ]
  },
  {
   "cell_type": "code",
   "execution_count": 71,
   "id": "8940137a",
   "metadata": {},
   "outputs": [
    {
     "data": {
      "text/plain": [
       "(array([1, 3, 5, 7, 9], dtype=int64),)"
      ]
     },
     "execution_count": 71,
     "metadata": {},
     "output_type": "execute_result"
    }
   ],
   "source": [
    "# Get the index position of items that are divisible by 2\n",
    "np.where(sear_arr%2==0)"
   ]
  },
  {
   "cell_type": "markdown",
   "id": "ba0902bf",
   "metadata": {},
   "source": [
    "Sorting a Numpy Array"
   ]
  },
  {
   "cell_type": "code",
   "execution_count": 75,
   "id": "f55d8620",
   "metadata": {},
   "outputs": [
    {
     "name": "stdout",
     "output_type": "stream",
     "text": [
      "[ 1 21  6  9 11 15  8  5]\n"
     ]
    }
   ],
   "source": [
    "# Create an Array\n",
    "sort_arr = np.array([1,21,6,9,11,15,8,5])\n",
    "print(sort_arr)"
   ]
  },
  {
   "cell_type": "code",
   "execution_count": 77,
   "id": "608a5bc3",
   "metadata": {},
   "outputs": [
    {
     "name": "stdout",
     "output_type": "stream",
     "text": [
      "[ 1  5  6  8  9 11 15 21]\n"
     ]
    }
   ],
   "source": [
    "# Sort the array\n",
    "print(np.sort(sort_arr))"
   ]
  },
  {
   "cell_type": "code",
   "execution_count": 78,
   "id": "b390c252",
   "metadata": {},
   "outputs": [
    {
     "name": "stdout",
     "output_type": "stream",
     "text": [
      "['Yam' 'Banana' 'Mango' 'Fish']\n"
     ]
    }
   ],
   "source": [
    "# Create an array\n",
    "sort_arr2 = np.array(['Yam', 'Banana', 'Mango', 'Fish'])\n",
    "print(sort_arr2)"
   ]
  },
  {
   "cell_type": "code",
   "execution_count": 79,
   "id": "52e6f80a",
   "metadata": {},
   "outputs": [
    {
     "data": {
      "text/plain": [
       "array(['Banana', 'Fish', 'Mango', 'Yam'], dtype='<U6')"
      ]
     },
     "execution_count": 79,
     "metadata": {},
     "output_type": "execute_result"
    }
   ],
   "source": [
    "# Sort the array\n",
    "np.sort(sort_arr2)"
   ]
  },
  {
   "cell_type": "code",
   "execution_count": null,
   "id": "39596667",
   "metadata": {},
   "outputs": [],
   "source": []
  }
 ],
 "metadata": {
  "kernelspec": {
   "display_name": "Python 3 (ipykernel)",
   "language": "python",
   "name": "python3"
  },
  "language_info": {
   "codemirror_mode": {
    "name": "ipython",
    "version": 3
   },
   "file_extension": ".py",
   "mimetype": "text/x-python",
   "name": "python",
   "nbconvert_exporter": "python",
   "pygments_lexer": "ipython3",
   "version": "3.9.13"
  },
  "toc": {
   "base_numbering": 1,
   "nav_menu": {},
   "number_sections": true,
   "sideBar": true,
   "skip_h1_title": false,
   "title_cell": "Table of Contents",
   "title_sidebar": "Contents",
   "toc_cell": false,
   "toc_position": {},
   "toc_section_display": true,
   "toc_window_display": false
  }
 },
 "nbformat": 4,
 "nbformat_minor": 5
}
