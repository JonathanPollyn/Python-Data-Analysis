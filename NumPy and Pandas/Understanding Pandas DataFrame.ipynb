{
 "cells": [
  {
   "cell_type": "markdown",
   "id": "ab90e4bf",
   "metadata": {},
   "source": [
    "## Understanding Pandas DataFrame\n",
    "\n",
    "Welcome to the notebook titled \"Understanding Pandas DataFrame\"! The robust data manipulation and analysis features of Pandas, a popular Python package for data manipulation and analysis, will be explored in this notebook.\n",
    "\n",
    "For processing structured data, such as tabular data, CSV files, SQL tables, and more, Pandas offers the DataFrame, a highly effective and simple-to-use data structure. The DataFrame is an excellent option for data exploration, cleaning, transformation, and analysis because it is a two-dimensional labeled data structure with columns of potentially varied types.\n",
    "Creating and Accessing DataFrames: Discover how to generate DataFrames from various data sources, including CSV files, Excel spreadsheets, and Python dictionaries. We will also investigate various methods for accessing and obtaining data from DataFrames.\n",
    "1. Data Manipulation: Learn different methods for transforming and manipulating DataFrame data. Filtering rows, choosing columns, adding or removing columns, handling missing values, and grouping data for aggregation are a few of the procedures we'll examine.\n",
    "2. Data Cleaning: Acquire knowledge about DataFrames' cleaning and preprocessing procedures. We will examine methods for dealing with missing numbers, eliminating duplicates, managing outliers, and converting data types.\n",
    "3. Data Analysis: Explore DataFrames' analytical capabilities. Descriptive statistics, data visualization, handling of dates and timings, and complex data transformations will all be covered.\n",
    "4. Data Integration: Learn how to mix and integrate data from many sources by merging, joining, and concatenating DataFrames. We'll look at methods for combining data based on shared keys or indices.\n",
    "\n",
    "\n",
    "By the end of this notebook, you will be well equipped to carry out a variety of data manipulation, cleaning, and analysis activities effectively and have a firm grasp of the fundamental ideas of Pandas DataFrame.\n",
    "Let's begin and utilize Pandas DataFrame to its total capacity for your data analysis endeavors!"
   ]
  },
  {
   "cell_type": "code",
   "execution_count": 1,
   "id": "349b7d0d",
   "metadata": {},
   "outputs": [],
   "source": [
    "# Import the needed library\n",
    "import pandas as pd"
   ]
  },
  {
   "cell_type": "code",
   "execution_count": 2,
   "id": "161792c3",
   "metadata": {},
   "outputs": [],
   "source": [
    "# Create an empty DataFrame\n",
    "df = pd.DataFrame()"
   ]
  },
  {
   "cell_type": "code",
   "execution_count": 3,
   "id": "ec90b329",
   "metadata": {},
   "outputs": [
    {
     "data": {
      "text/html": [
       "<div>\n",
       "<style scoped>\n",
       "    .dataframe tbody tr th:only-of-type {\n",
       "        vertical-align: middle;\n",
       "    }\n",
       "\n",
       "    .dataframe tbody tr th {\n",
       "        vertical-align: top;\n",
       "    }\n",
       "\n",
       "    .dataframe thead th {\n",
       "        text-align: right;\n",
       "    }\n",
       "</style>\n",
       "<table border=\"1\" class=\"dataframe\">\n",
       "  <thead>\n",
       "    <tr style=\"text-align: right;\">\n",
       "      <th></th>\n",
       "    </tr>\n",
       "  </thead>\n",
       "  <tbody>\n",
       "  </tbody>\n",
       "</table>\n",
       "</div>"
      ],
      "text/plain": [
       "Empty DataFrame\n",
       "Columns: []\n",
       "Index: []"
      ]
     },
     "execution_count": 3,
     "metadata": {},
     "output_type": "execute_result"
    }
   ],
   "source": [
    "# View the first 5 rows of the DataFrame\n",
    "df.head()"
   ]
  },
  {
   "cell_type": "code",
   "execution_count": 4,
   "id": "c4c27ba5",
   "metadata": {},
   "outputs": [
    {
     "data": {
      "text/html": [
       "<div>\n",
       "<style scoped>\n",
       "    .dataframe tbody tr th:only-of-type {\n",
       "        vertical-align: middle;\n",
       "    }\n",
       "\n",
       "    .dataframe tbody tr th {\n",
       "        vertical-align: top;\n",
       "    }\n",
       "\n",
       "    .dataframe thead th {\n",
       "        text-align: right;\n",
       "    }\n",
       "</style>\n",
       "<table border=\"1\" class=\"dataframe\">\n",
       "  <thead>\n",
       "    <tr style=\"text-align: right;\">\n",
       "      <th></th>\n",
       "    </tr>\n",
       "  </thead>\n",
       "  <tbody>\n",
       "  </tbody>\n",
       "</table>\n",
       "</div>"
      ],
      "text/plain": [
       "Empty DataFrame\n",
       "Columns: []\n",
       "Index: []"
      ]
     },
     "execution_count": 4,
     "metadata": {},
     "output_type": "execute_result"
    }
   ],
   "source": [
    "# View the last 5 rows of the DataFrame\n",
    "df.tail()"
   ]
  },
  {
   "cell_type": "markdown",
   "id": "d87e2e82",
   "metadata": {},
   "source": [
    "## Creating a DataFrame using a Dictionary"
   ]
  },
  {
   "cell_type": "code",
   "execution_count": 6,
   "id": "32e95376",
   "metadata": {},
   "outputs": [
    {
     "data": {
      "text/html": [
       "<div>\n",
       "<style scoped>\n",
       "    .dataframe tbody tr th:only-of-type {\n",
       "        vertical-align: middle;\n",
       "    }\n",
       "\n",
       "    .dataframe tbody tr th {\n",
       "        vertical-align: top;\n",
       "    }\n",
       "\n",
       "    .dataframe thead th {\n",
       "        text-align: right;\n",
       "    }\n",
       "</style>\n",
       "<table border=\"1\" class=\"dataframe\">\n",
       "  <thead>\n",
       "    <tr style=\"text-align: right;\">\n",
       "      <th></th>\n",
       "      <th>FirstName</th>\n",
       "      <th>Department</th>\n",
       "    </tr>\n",
       "  </thead>\n",
       "  <tbody>\n",
       "    <tr>\n",
       "      <th>0</th>\n",
       "      <td>Guy</td>\n",
       "      <td>Production</td>\n",
       "    </tr>\n",
       "    <tr>\n",
       "      <th>1</th>\n",
       "      <td>Kevin</td>\n",
       "      <td>Marketing</td>\n",
       "    </tr>\n",
       "    <tr>\n",
       "      <th>2</th>\n",
       "      <td>Roberto</td>\n",
       "      <td>Engineering</td>\n",
       "    </tr>\n",
       "    <tr>\n",
       "      <th>3</th>\n",
       "      <td>Rob</td>\n",
       "      <td>Tool</td>\n",
       "    </tr>\n",
       "    <tr>\n",
       "      <th>4</th>\n",
       "      <td>Thierry</td>\n",
       "      <td>Design</td>\n",
       "    </tr>\n",
       "    <tr>\n",
       "      <th>5</th>\n",
       "      <td>David</td>\n",
       "      <td>Production Control</td>\n",
       "    </tr>\n",
       "    <tr>\n",
       "      <th>6</th>\n",
       "      <td>JoLynn</td>\n",
       "      <td>Information Services</td>\n",
       "    </tr>\n",
       "    <tr>\n",
       "      <th>7</th>\n",
       "      <td>Ruth</td>\n",
       "      <td>Human Resources</td>\n",
       "    </tr>\n",
       "    <tr>\n",
       "      <th>8</th>\n",
       "      <td>Gail</td>\n",
       "      <td>Information Services</td>\n",
       "    </tr>\n",
       "    <tr>\n",
       "      <th>9</th>\n",
       "      <td>Barry</td>\n",
       "      <td>Human Resources</td>\n",
       "    </tr>\n",
       "  </tbody>\n",
       "</table>\n",
       "</div>"
      ],
      "text/plain": [
       "  FirstName            Department\n",
       "0       Guy            Production\n",
       "1     Kevin             Marketing\n",
       "2   Roberto           Engineering\n",
       "3       Rob                  Tool\n",
       "4   Thierry                Design\n",
       "5     David    Production Control\n",
       "6    JoLynn  Information Services\n",
       "7      Ruth       Human Resources\n",
       "8      Gail  Information Services\n",
       "9     Barry       Human Resources"
      ]
     },
     "execution_count": 6,
     "metadata": {},
     "output_type": "execute_result"
    }
   ],
   "source": [
    "# Creating dictionary of list\n",
    "data = {'FirstName':['Guy','Kevin','Roberto','Rob','Thierry','David','JoLynn','Ruth','Gail','Barry'], 'Department':['Production','Marketing','Engineering','Tool', 'Design',\n",
    "'Production Control','Information Services','Human Resources','Information Services','Human Resources']}\n",
    "\n",
    "# Convert the dictionary to a DataFrame\n",
    "df = pd.DataFrame(data)\n",
    "\n",
    "# View the DataFrame\n",
    "df"
   ]
  },
  {
   "cell_type": "markdown",
   "id": "dbb05b10",
   "metadata": {},
   "source": [
    "## Creating a DataFrame using a List of Tuple"
   ]
  },
  {
   "cell_type": "code",
   "execution_count": 7,
   "id": "d7f91cb3",
   "metadata": {},
   "outputs": [
    {
     "data": {
      "text/plain": [
       "[('Gilbert', '1/28/2006'), ('Brown', '8/26/2006'), ('Tamburello', '6/11/2007')]"
      ]
     },
     "execution_count": 7,
     "metadata": {},
     "output_type": "execute_result"
    }
   ],
   "source": [
    "# Create a list of Tuble\n",
    "data2 = [('Gilbert','1/28/2006'),('Brown','8/26/2006'),('Tamburello','6/11/2007')]\n",
    "\n",
    "# View the data\n",
    "data2"
   ]
  },
  {
   "cell_type": "code",
   "execution_count": 8,
   "id": "0efc1b39",
   "metadata": {},
   "outputs": [
    {
     "data": {
      "text/html": [
       "<div>\n",
       "<style scoped>\n",
       "    .dataframe tbody tr th:only-of-type {\n",
       "        vertical-align: middle;\n",
       "    }\n",
       "\n",
       "    .dataframe tbody tr th {\n",
       "        vertical-align: top;\n",
       "    }\n",
       "\n",
       "    .dataframe thead th {\n",
       "        text-align: right;\n",
       "    }\n",
       "</style>\n",
       "<table border=\"1\" class=\"dataframe\">\n",
       "  <thead>\n",
       "    <tr style=\"text-align: right;\">\n",
       "      <th></th>\n",
       "      <th>Name</th>\n",
       "      <th>Hired Date</th>\n",
       "    </tr>\n",
       "  </thead>\n",
       "  <tbody>\n",
       "    <tr>\n",
       "      <th>0</th>\n",
       "      <td>Gilbert</td>\n",
       "      <td>1/28/2006</td>\n",
       "    </tr>\n",
       "    <tr>\n",
       "      <th>1</th>\n",
       "      <td>Brown</td>\n",
       "      <td>8/26/2006</td>\n",
       "    </tr>\n",
       "    <tr>\n",
       "      <th>2</th>\n",
       "      <td>Tamburello</td>\n",
       "      <td>6/11/2007</td>\n",
       "    </tr>\n",
       "  </tbody>\n",
       "</table>\n",
       "</div>"
      ],
      "text/plain": [
       "         Name Hired Date\n",
       "0     Gilbert  1/28/2006\n",
       "1       Brown  8/26/2006\n",
       "2  Tamburello  6/11/2007"
      ]
     },
     "execution_count": 8,
     "metadata": {},
     "output_type": "execute_result"
    }
   ],
   "source": [
    "# Convert the data to a DataFrame\n",
    "df = pd.DataFrame(data2, columns=['Name', 'Hired Date'])\n",
    "\n",
    "# View the DataFrame\n",
    "df.head()"
   ]
  },
  {
   "cell_type": "markdown",
   "id": "c625c398",
   "metadata": {},
   "source": [
    "## Importing data from Excel source"
   ]
  },
  {
   "cell_type": "code",
   "execution_count": 9,
   "id": "cd722ba9",
   "metadata": {},
   "outputs": [
    {
     "data": {
      "text/html": [
       "<div>\n",
       "<style scoped>\n",
       "    .dataframe tbody tr th:only-of-type {\n",
       "        vertical-align: middle;\n",
       "    }\n",
       "\n",
       "    .dataframe tbody tr th {\n",
       "        vertical-align: top;\n",
       "    }\n",
       "\n",
       "    .dataframe thead th {\n",
       "        text-align: right;\n",
       "    }\n",
       "</style>\n",
       "<table border=\"1\" class=\"dataframe\">\n",
       "  <thead>\n",
       "    <tr style=\"text-align: right;\">\n",
       "      <th></th>\n",
       "      <th>BusinessEntityID</th>\n",
       "      <th>FirstName</th>\n",
       "      <th>MiddleName</th>\n",
       "      <th>LastName</th>\n",
       "    </tr>\n",
       "  </thead>\n",
       "  <tbody>\n",
       "    <tr>\n",
       "      <th>0</th>\n",
       "      <td>285</td>\n",
       "      <td>Syed</td>\n",
       "      <td>E</td>\n",
       "      <td>Abbas</td>\n",
       "    </tr>\n",
       "    <tr>\n",
       "      <th>1</th>\n",
       "      <td>293</td>\n",
       "      <td>Catherine</td>\n",
       "      <td>R.</td>\n",
       "      <td>Abel</td>\n",
       "    </tr>\n",
       "    <tr>\n",
       "      <th>2</th>\n",
       "      <td>38</td>\n",
       "      <td>Kim</td>\n",
       "      <td>B</td>\n",
       "      <td>Abercrombie</td>\n",
       "    </tr>\n",
       "    <tr>\n",
       "      <th>3</th>\n",
       "      <td>211</td>\n",
       "      <td>Hazem</td>\n",
       "      <td>E</td>\n",
       "      <td>Abolrous</td>\n",
       "    </tr>\n",
       "    <tr>\n",
       "      <th>4</th>\n",
       "      <td>121</td>\n",
       "      <td>Pilar</td>\n",
       "      <td>G</td>\n",
       "      <td>Ackerman</td>\n",
       "    </tr>\n",
       "  </tbody>\n",
       "</table>\n",
       "</div>"
      ],
      "text/plain": [
       "   BusinessEntityID  FirstName MiddleName     LastName\n",
       "0               285       Syed          E        Abbas\n",
       "1               293  Catherine         R.         Abel\n",
       "2                38        Kim          B  Abercrombie\n",
       "3               211      Hazem          E     Abolrous\n",
       "4               121      Pilar          G     Ackerman"
      ]
     },
     "execution_count": 9,
     "metadata": {},
     "output_type": "execute_result"
    }
   ],
   "source": [
    "# Import data from an excel file\n",
    "filePath = 'data/people.xlsx'\n",
    "excel_df = pd.read_excel(filePath)\n",
    "# Get the first 5 rows of the DataFrame\n",
    "excel_df.head()"
   ]
  },
  {
   "cell_type": "code",
   "execution_count": 10,
   "id": "0de7af59",
   "metadata": {},
   "outputs": [
    {
     "data": {
      "text/html": [
       "<div>\n",
       "<style scoped>\n",
       "    .dataframe tbody tr th:only-of-type {\n",
       "        vertical-align: middle;\n",
       "    }\n",
       "\n",
       "    .dataframe tbody tr th {\n",
       "        vertical-align: top;\n",
       "    }\n",
       "\n",
       "    .dataframe thead th {\n",
       "        text-align: right;\n",
       "    }\n",
       "</style>\n",
       "<table border=\"1\" class=\"dataframe\">\n",
       "  <thead>\n",
       "    <tr style=\"text-align: right;\">\n",
       "      <th></th>\n",
       "      <th>BusinessEntityID</th>\n",
       "      <th>FirstName</th>\n",
       "      <th>MiddleName</th>\n",
       "      <th>LastName</th>\n",
       "    </tr>\n",
       "  </thead>\n",
       "  <tbody>\n",
       "    <tr>\n",
       "      <th>16</th>\n",
       "      <td>5055</td>\n",
       "      <td>Eduardo</td>\n",
       "      <td>A</td>\n",
       "      <td>Albright</td>\n",
       "    </tr>\n",
       "    <tr>\n",
       "      <th>17</th>\n",
       "      <td>16858</td>\n",
       "      <td>Elijah</td>\n",
       "      <td>L</td>\n",
       "      <td>Albury</td>\n",
       "    </tr>\n",
       "    <tr>\n",
       "      <th>18</th>\n",
       "      <td>3889</td>\n",
       "      <td>Fernando</td>\n",
       "      <td>S</td>\n",
       "      <td>Alcorn</td>\n",
       "    </tr>\n",
       "    <tr>\n",
       "      <th>19</th>\n",
       "      <td>301</td>\n",
       "      <td>Frances</td>\n",
       "      <td>B.</td>\n",
       "      <td>Alderson</td>\n",
       "    </tr>\n",
       "    <tr>\n",
       "      <th>20</th>\n",
       "      <td>16850</td>\n",
       "      <td>Gabriel</td>\n",
       "      <td>S</td>\n",
       "      <td>Alexander</td>\n",
       "    </tr>\n",
       "  </tbody>\n",
       "</table>\n",
       "</div>"
      ],
      "text/plain": [
       "    BusinessEntityID FirstName MiddleName   LastName\n",
       "16              5055   Eduardo          A   Albright\n",
       "17             16858    Elijah          L     Albury\n",
       "18              3889  Fernando          S     Alcorn\n",
       "19               301   Frances         B.   Alderson\n",
       "20             16850   Gabriel          S  Alexander"
      ]
     },
     "execution_count": 10,
     "metadata": {},
     "output_type": "execute_result"
    }
   ],
   "source": [
    "# Get the last 5 rows of the DataFrame\n",
    "excel_df.tail()"
   ]
  },
  {
   "cell_type": "code",
   "execution_count": 11,
   "id": "69019334",
   "metadata": {},
   "outputs": [
    {
     "data": {
      "text/plain": [
       "pandas.core.series.Series"
      ]
     },
     "execution_count": 11,
     "metadata": {},
     "output_type": "execute_result"
    }
   ],
   "source": [
    "# Select individual columns\n",
    "bus_series = excel_df['BusinessEntityID']\n",
    "\n",
    "# Display the data\n",
    "bus_series\n",
    "\n",
    "# Check the type\n",
    "type(bus_series)"
   ]
  },
  {
   "cell_type": "code",
   "execution_count": 12,
   "id": "28777e13",
   "metadata": {},
   "outputs": [
    {
     "data": {
      "text/plain": [
       "(21, 4)"
      ]
     },
     "execution_count": 12,
     "metadata": {},
     "output_type": "execute_result"
    }
   ],
   "source": [
    "# Check the shape of the DataFrame\n",
    "excel_df.shape"
   ]
  },
  {
   "cell_type": "code",
   "execution_count": 13,
   "id": "b07ea01d",
   "metadata": {},
   "outputs": [
    {
     "data": {
      "text/plain": [
       "Index(['BusinessEntityID', 'FirstName', 'MiddleName', 'LastName'], dtype='object')"
      ]
     },
     "execution_count": 13,
     "metadata": {},
     "output_type": "execute_result"
    }
   ],
   "source": [
    "# Get the list of columns\n",
    "excel_df.columns"
   ]
  },
  {
   "cell_type": "code",
   "execution_count": 14,
   "id": "b0e8540e",
   "metadata": {},
   "outputs": [
    {
     "data": {
      "text/plain": [
       "BusinessEntityID     int64\n",
       "FirstName           object\n",
       "MiddleName          object\n",
       "LastName            object\n",
       "dtype: object"
      ]
     },
     "execution_count": 14,
     "metadata": {},
     "output_type": "execute_result"
    }
   ],
   "source": [
    "# Check the type of the DataFrame\n",
    "excel_df.dtypes"
   ]
  },
  {
   "cell_type": "markdown",
   "id": "49ff19bf",
   "metadata": {},
   "source": [
    "## Importing Data from SQL Server"
   ]
  },
  {
   "cell_type": "code",
   "execution_count": null,
   "id": "6116b97d",
   "metadata": {},
   "outputs": [],
   "source": [
    "# pip install pyodbc or pip install pyodbc==4.0.31"
   ]
  },
  {
   "cell_type": "code",
   "execution_count": 15,
   "id": "25f71c22",
   "metadata": {},
   "outputs": [],
   "source": [
    "import pyodbc"
   ]
  },
  {
   "cell_type": "code",
   "execution_count": 16,
   "id": "9cc0897b",
   "metadata": {},
   "outputs": [
    {
     "name": "stderr",
     "output_type": "stream",
     "text": [
      "C:\\anacondamain\\lib\\site-packages\\pandas\\io\\sql.py:762: UserWarning: pandas only support SQLAlchemy connectable(engine/connection) ordatabase string URI or sqlite3 DBAPI2 connectionother DBAPI2 objects are not tested, please consider using SQLAlchemy\n",
      "  warnings.warn(\n"
     ]
    },
    {
     "data": {
      "text/html": [
       "<div>\n",
       "<style scoped>\n",
       "    .dataframe tbody tr th:only-of-type {\n",
       "        vertical-align: middle;\n",
       "    }\n",
       "\n",
       "    .dataframe tbody tr th {\n",
       "        vertical-align: top;\n",
       "    }\n",
       "\n",
       "    .dataframe thead th {\n",
       "        text-align: right;\n",
       "    }\n",
       "</style>\n",
       "<table border=\"1\" class=\"dataframe\">\n",
       "  <thead>\n",
       "    <tr style=\"text-align: right;\">\n",
       "      <th></th>\n",
       "      <th>BusinessEntityID</th>\n",
       "      <th>JobTitle</th>\n",
       "      <th>BirthDate</th>\n",
       "      <th>Gender</th>\n",
       "      <th>HireDate</th>\n",
       "    </tr>\n",
       "  </thead>\n",
       "  <tbody>\n",
       "    <tr>\n",
       "      <th>0</th>\n",
       "      <td>1</td>\n",
       "      <td>Chief Executive Officer</td>\n",
       "      <td>1969-01-29</td>\n",
       "      <td>M</td>\n",
       "      <td>2009-01-14</td>\n",
       "    </tr>\n",
       "    <tr>\n",
       "      <th>1</th>\n",
       "      <td>2</td>\n",
       "      <td>Vice President of Engineering</td>\n",
       "      <td>1971-08-01</td>\n",
       "      <td>F</td>\n",
       "      <td>2008-01-31</td>\n",
       "    </tr>\n",
       "    <tr>\n",
       "      <th>2</th>\n",
       "      <td>3</td>\n",
       "      <td>Engineering Manager</td>\n",
       "      <td>1974-11-12</td>\n",
       "      <td>M</td>\n",
       "      <td>2007-11-11</td>\n",
       "    </tr>\n",
       "    <tr>\n",
       "      <th>3</th>\n",
       "      <td>4</td>\n",
       "      <td>Senior Tool Designer</td>\n",
       "      <td>1974-12-23</td>\n",
       "      <td>M</td>\n",
       "      <td>2007-12-05</td>\n",
       "    </tr>\n",
       "    <tr>\n",
       "      <th>4</th>\n",
       "      <td>5</td>\n",
       "      <td>Design Engineer</td>\n",
       "      <td>1952-09-27</td>\n",
       "      <td>F</td>\n",
       "      <td>2008-01-06</td>\n",
       "    </tr>\n",
       "  </tbody>\n",
       "</table>\n",
       "</div>"
      ],
      "text/plain": [
       "   BusinessEntityID                       JobTitle   BirthDate Gender  \\\n",
       "0                 1        Chief Executive Officer  1969-01-29      M   \n",
       "1                 2  Vice President of Engineering  1971-08-01      F   \n",
       "2                 3            Engineering Manager  1974-11-12      M   \n",
       "3                 4           Senior Tool Designer  1974-12-23      M   \n",
       "4                 5                Design Engineer  1952-09-27      F   \n",
       "\n",
       "     HireDate  \n",
       "0  2009-01-14  \n",
       "1  2008-01-31  \n",
       "2  2007-11-11  \n",
       "3  2007-12-05  \n",
       "4  2008-01-06  "
      ]
     },
     "execution_count": 16,
     "metadata": {},
     "output_type": "execute_result"
    }
   ],
   "source": [
    "# Creating the connection to SQL\n",
    "conn = pyodbc.connect('DRIVER={ODBC Driver 17 for SQL Server};SERVER=JONATHAN-POLLYN\\SQLEXPRESS01;DATABASE=AdventureWorks2016;Trusted_Connection=yes;')\n",
    "cursor=conn.cursor()\n",
    "\n",
    "# Executing the query\n",
    "query = \"SELECT BusinessEntityID,JobTitle,BirthDate,Gender,HireDate FROM HumanResources.Employee\"\n",
    "sql_df = pd.read_sql(query,conn)\n",
    "\n",
    "sql_df.head()"
   ]
  },
  {
   "cell_type": "markdown",
   "id": "82d77fdd",
   "metadata": {},
   "source": [
    "## Finding and filtering data in DataFrame"
   ]
  },
  {
   "cell_type": "code",
   "execution_count": 17,
   "id": "6d0b6e05",
   "metadata": {},
   "outputs": [
    {
     "data": {
      "text/plain": [
       "BusinessEntityID                      3\n",
       "JobTitle            Engineering Manager\n",
       "BirthDate                    1974-11-12\n",
       "Gender                                M\n",
       "HireDate                     2007-11-11\n",
       "Name: 2, dtype: object"
      ]
     },
     "execution_count": 17,
     "metadata": {},
     "output_type": "execute_result"
    }
   ],
   "source": [
    "# Extract the data from index number 2\n",
    "sql_df.loc[2]"
   ]
  },
  {
   "cell_type": "code",
   "execution_count": 18,
   "id": "fcfe410c",
   "metadata": {},
   "outputs": [
    {
     "data": {
      "text/plain": [
       "BusinessEntityID                  5\n",
       "JobTitle            Design Engineer\n",
       "BirthDate                1952-09-27\n",
       "Gender                            F\n",
       "HireDate                 2008-01-06\n",
       "Name: 4, dtype: object"
      ]
     },
     "execution_count": 18,
     "metadata": {},
     "output_type": "execute_result"
    }
   ],
   "source": [
    "# Extract the data from index number 4\n",
    "sql_df.loc[4]"
   ]
  },
  {
   "cell_type": "code",
   "execution_count": 19,
   "id": "7a9ebc65",
   "metadata": {},
   "outputs": [
    {
     "data": {
      "text/html": [
       "<div>\n",
       "<style scoped>\n",
       "    .dataframe tbody tr th:only-of-type {\n",
       "        vertical-align: middle;\n",
       "    }\n",
       "\n",
       "    .dataframe tbody tr th {\n",
       "        vertical-align: top;\n",
       "    }\n",
       "\n",
       "    .dataframe thead th {\n",
       "        text-align: right;\n",
       "    }\n",
       "</style>\n",
       "<table border=\"1\" class=\"dataframe\">\n",
       "  <thead>\n",
       "    <tr style=\"text-align: right;\">\n",
       "      <th></th>\n",
       "      <th>BusinessEntityID</th>\n",
       "      <th>JobTitle</th>\n",
       "      <th>BirthDate</th>\n",
       "      <th>Gender</th>\n",
       "      <th>HireDate</th>\n",
       "    </tr>\n",
       "  </thead>\n",
       "  <tbody>\n",
       "    <tr>\n",
       "      <th>1</th>\n",
       "      <td>2</td>\n",
       "      <td>Vice President of Engineering</td>\n",
       "      <td>1971-08-01</td>\n",
       "      <td>F</td>\n",
       "      <td>2008-01-31</td>\n",
       "    </tr>\n",
       "    <tr>\n",
       "      <th>2</th>\n",
       "      <td>3</td>\n",
       "      <td>Engineering Manager</td>\n",
       "      <td>1974-11-12</td>\n",
       "      <td>M</td>\n",
       "      <td>2007-11-11</td>\n",
       "    </tr>\n",
       "    <tr>\n",
       "      <th>3</th>\n",
       "      <td>4</td>\n",
       "      <td>Senior Tool Designer</td>\n",
       "      <td>1974-12-23</td>\n",
       "      <td>M</td>\n",
       "      <td>2007-12-05</td>\n",
       "    </tr>\n",
       "    <tr>\n",
       "      <th>4</th>\n",
       "      <td>5</td>\n",
       "      <td>Design Engineer</td>\n",
       "      <td>1952-09-27</td>\n",
       "      <td>F</td>\n",
       "      <td>2008-01-06</td>\n",
       "    </tr>\n",
       "  </tbody>\n",
       "</table>\n",
       "</div>"
      ],
      "text/plain": [
       "   BusinessEntityID                       JobTitle   BirthDate Gender  \\\n",
       "1                 2  Vice President of Engineering  1971-08-01      F   \n",
       "2                 3            Engineering Manager  1974-11-12      M   \n",
       "3                 4           Senior Tool Designer  1974-12-23      M   \n",
       "4                 5                Design Engineer  1952-09-27      F   \n",
       "\n",
       "     HireDate  \n",
       "1  2008-01-31  \n",
       "2  2007-11-11  \n",
       "3  2007-12-05  \n",
       "4  2008-01-06  "
      ]
     },
     "execution_count": 19,
     "metadata": {},
     "output_type": "execute_result"
    }
   ],
   "source": [
    "# Extract the rows from index number 1 to 4\n",
    "sql_df.loc[1:4]"
   ]
  },
  {
   "cell_type": "code",
   "execution_count": 20,
   "id": "fde12406",
   "metadata": {},
   "outputs": [
    {
     "data": {
      "text/html": [
       "<div>\n",
       "<style scoped>\n",
       "    .dataframe tbody tr th:only-of-type {\n",
       "        vertical-align: middle;\n",
       "    }\n",
       "\n",
       "    .dataframe tbody tr th {\n",
       "        vertical-align: top;\n",
       "    }\n",
       "\n",
       "    .dataframe thead th {\n",
       "        text-align: right;\n",
       "    }\n",
       "</style>\n",
       "<table border=\"1\" class=\"dataframe\">\n",
       "  <thead>\n",
       "    <tr style=\"text-align: right;\">\n",
       "      <th></th>\n",
       "      <th>BusinessEntityID</th>\n",
       "      <th>JobTitle</th>\n",
       "      <th>BirthDate</th>\n",
       "      <th>Gender</th>\n",
       "      <th>HireDate</th>\n",
       "    </tr>\n",
       "  </thead>\n",
       "  <tbody>\n",
       "    <tr>\n",
       "      <th>0</th>\n",
       "      <td>1</td>\n",
       "      <td>Chief Executive Officer</td>\n",
       "      <td>1969-01-29</td>\n",
       "      <td>M</td>\n",
       "      <td>2009-01-14</td>\n",
       "    </tr>\n",
       "    <tr>\n",
       "      <th>1</th>\n",
       "      <td>2</td>\n",
       "      <td>Vice President of Engineering</td>\n",
       "      <td>1971-08-01</td>\n",
       "      <td>F</td>\n",
       "      <td>2008-01-31</td>\n",
       "    </tr>\n",
       "  </tbody>\n",
       "</table>\n",
       "</div>"
      ],
      "text/plain": [
       "   BusinessEntityID                       JobTitle   BirthDate Gender  \\\n",
       "0                 1        Chief Executive Officer  1969-01-29      M   \n",
       "1                 2  Vice President of Engineering  1971-08-01      F   \n",
       "\n",
       "     HireDate  \n",
       "0  2009-01-14  \n",
       "1  2008-01-31  "
      ]
     },
     "execution_count": 20,
     "metadata": {},
     "output_type": "execute_result"
    }
   ],
   "source": [
    "# Extract the first 2 rows of the data\n",
    "sql_df.iloc[0:2]"
   ]
  },
  {
   "cell_type": "code",
   "execution_count": 21,
   "id": "e61f1331",
   "metadata": {},
   "outputs": [
    {
     "data": {
      "text/html": [
       "<div>\n",
       "<style scoped>\n",
       "    .dataframe tbody tr th:only-of-type {\n",
       "        vertical-align: middle;\n",
       "    }\n",
       "\n",
       "    .dataframe tbody tr th {\n",
       "        vertical-align: top;\n",
       "    }\n",
       "\n",
       "    .dataframe thead th {\n",
       "        text-align: right;\n",
       "    }\n",
       "</style>\n",
       "<table border=\"1\" class=\"dataframe\">\n",
       "  <thead>\n",
       "    <tr style=\"text-align: right;\">\n",
       "      <th></th>\n",
       "      <th>BusinessEntityID</th>\n",
       "      <th>JobTitle</th>\n",
       "      <th>BirthDate</th>\n",
       "      <th>Gender</th>\n",
       "      <th>HireDate</th>\n",
       "    </tr>\n",
       "  </thead>\n",
       "  <tbody>\n",
       "    <tr>\n",
       "      <th>4</th>\n",
       "      <td>5</td>\n",
       "      <td>Design Engineer</td>\n",
       "      <td>1952-09-27</td>\n",
       "      <td>F</td>\n",
       "      <td>2008-01-06</td>\n",
       "    </tr>\n",
       "    <tr>\n",
       "      <th>5</th>\n",
       "      <td>6</td>\n",
       "      <td>Design Engineer</td>\n",
       "      <td>1959-03-11</td>\n",
       "      <td>M</td>\n",
       "      <td>2008-01-24</td>\n",
       "    </tr>\n",
       "    <tr>\n",
       "      <th>14</th>\n",
       "      <td>15</td>\n",
       "      <td>Design Engineer</td>\n",
       "      <td>1961-05-02</td>\n",
       "      <td>F</td>\n",
       "      <td>2011-01-18</td>\n",
       "    </tr>\n",
       "  </tbody>\n",
       "</table>\n",
       "</div>"
      ],
      "text/plain": [
       "    BusinessEntityID         JobTitle   BirthDate Gender    HireDate\n",
       "4                  5  Design Engineer  1952-09-27      F  2008-01-06\n",
       "5                  6  Design Engineer  1959-03-11      M  2008-01-24\n",
       "14                15  Design Engineer  1961-05-02      F  2011-01-18"
      ]
     },
     "execution_count": 21,
     "metadata": {},
     "output_type": "execute_result"
    }
   ],
   "source": [
    "# Return records where the job title is Design Engineer\n",
    "sql_df.loc[sql_df['JobTitle'] == 'Design Engineer']"
   ]
  },
  {
   "cell_type": "code",
   "execution_count": 22,
   "id": "b2b3926b",
   "metadata": {},
   "outputs": [
    {
     "data": {
      "text/html": [
       "<div>\n",
       "<style scoped>\n",
       "    .dataframe tbody tr th:only-of-type {\n",
       "        vertical-align: middle;\n",
       "    }\n",
       "\n",
       "    .dataframe tbody tr th {\n",
       "        vertical-align: top;\n",
       "    }\n",
       "\n",
       "    .dataframe thead th {\n",
       "        text-align: right;\n",
       "    }\n",
       "</style>\n",
       "<table border=\"1\" class=\"dataframe\">\n",
       "  <thead>\n",
       "    <tr style=\"text-align: right;\">\n",
       "      <th></th>\n",
       "      <th>BusinessEntityID</th>\n",
       "      <th>JobTitle</th>\n",
       "      <th>BirthDate</th>\n",
       "      <th>Gender</th>\n",
       "      <th>HireDate</th>\n",
       "    </tr>\n",
       "  </thead>\n",
       "  <tbody>\n",
       "    <tr>\n",
       "      <th>4</th>\n",
       "      <td>5</td>\n",
       "      <td>Design Engineer</td>\n",
       "      <td>1952-09-27</td>\n",
       "      <td>F</td>\n",
       "      <td>2008-01-06</td>\n",
       "    </tr>\n",
       "    <tr>\n",
       "      <th>5</th>\n",
       "      <td>6</td>\n",
       "      <td>Design Engineer</td>\n",
       "      <td>1959-03-11</td>\n",
       "      <td>M</td>\n",
       "      <td>2008-01-24</td>\n",
       "    </tr>\n",
       "    <tr>\n",
       "      <th>14</th>\n",
       "      <td>15</td>\n",
       "      <td>Design Engineer</td>\n",
       "      <td>1961-05-02</td>\n",
       "      <td>F</td>\n",
       "      <td>2011-01-18</td>\n",
       "    </tr>\n",
       "  </tbody>\n",
       "</table>\n",
       "</div>"
      ],
      "text/plain": [
       "    BusinessEntityID         JobTitle   BirthDate Gender    HireDate\n",
       "4                  5  Design Engineer  1952-09-27      F  2008-01-06\n",
       "5                  6  Design Engineer  1959-03-11      M  2008-01-24\n",
       "14                15  Design Engineer  1961-05-02      F  2011-01-18"
      ]
     },
     "execution_count": 22,
     "metadata": {},
     "output_type": "execute_result"
    }
   ],
   "source": [
    "# OR\n",
    "sql_df[sql_df['JobTitle']=='Design Engineer']"
   ]
  },
  {
   "cell_type": "markdown",
   "id": "f731162c",
   "metadata": {},
   "source": [
    "## Grouping and Joining DataFrames"
   ]
  },
  {
   "cell_type": "code",
   "execution_count": 24,
   "id": "238de4a9",
   "metadata": {},
   "outputs": [
    {
     "data": {
      "text/html": [
       "<div>\n",
       "<style scoped>\n",
       "    .dataframe tbody tr th:only-of-type {\n",
       "        vertical-align: middle;\n",
       "    }\n",
       "\n",
       "    .dataframe tbody tr th {\n",
       "        vertical-align: top;\n",
       "    }\n",
       "\n",
       "    .dataframe thead th {\n",
       "        text-align: right;\n",
       "    }\n",
       "</style>\n",
       "<table border=\"1\" class=\"dataframe\">\n",
       "  <thead>\n",
       "    <tr style=\"text-align: right;\">\n",
       "      <th></th>\n",
       "      <th>BusinessEntityID</th>\n",
       "      <th>BirthDate</th>\n",
       "      <th>Gender</th>\n",
       "      <th>HireDate</th>\n",
       "    </tr>\n",
       "    <tr>\n",
       "      <th>JobTitle</th>\n",
       "      <th></th>\n",
       "      <th></th>\n",
       "      <th></th>\n",
       "      <th></th>\n",
       "    </tr>\n",
       "  </thead>\n",
       "  <tbody>\n",
       "    <tr>\n",
       "      <th>Accountant</th>\n",
       "      <td>2</td>\n",
       "      <td>2</td>\n",
       "      <td>2</td>\n",
       "      <td>2</td>\n",
       "    </tr>\n",
       "    <tr>\n",
       "      <th>Accounts Manager</th>\n",
       "      <td>1</td>\n",
       "      <td>1</td>\n",
       "      <td>1</td>\n",
       "      <td>1</td>\n",
       "    </tr>\n",
       "    <tr>\n",
       "      <th>Accounts Payable Specialist</th>\n",
       "      <td>2</td>\n",
       "      <td>2</td>\n",
       "      <td>2</td>\n",
       "      <td>2</td>\n",
       "    </tr>\n",
       "    <tr>\n",
       "      <th>Accounts Receivable Specialist</th>\n",
       "      <td>3</td>\n",
       "      <td>3</td>\n",
       "      <td>3</td>\n",
       "      <td>3</td>\n",
       "    </tr>\n",
       "    <tr>\n",
       "      <th>Application Specialist</th>\n",
       "      <td>4</td>\n",
       "      <td>4</td>\n",
       "      <td>4</td>\n",
       "      <td>4</td>\n",
       "    </tr>\n",
       "    <tr>\n",
       "      <th>...</th>\n",
       "      <td>...</td>\n",
       "      <td>...</td>\n",
       "      <td>...</td>\n",
       "      <td>...</td>\n",
       "    </tr>\n",
       "    <tr>\n",
       "      <th>Stocker</th>\n",
       "      <td>3</td>\n",
       "      <td>3</td>\n",
       "      <td>3</td>\n",
       "      <td>3</td>\n",
       "    </tr>\n",
       "    <tr>\n",
       "      <th>Tool Designer</th>\n",
       "      <td>2</td>\n",
       "      <td>2</td>\n",
       "      <td>2</td>\n",
       "      <td>2</td>\n",
       "    </tr>\n",
       "    <tr>\n",
       "      <th>Vice President of Engineering</th>\n",
       "      <td>1</td>\n",
       "      <td>1</td>\n",
       "      <td>1</td>\n",
       "      <td>1</td>\n",
       "    </tr>\n",
       "    <tr>\n",
       "      <th>Vice President of Production</th>\n",
       "      <td>1</td>\n",
       "      <td>1</td>\n",
       "      <td>1</td>\n",
       "      <td>1</td>\n",
       "    </tr>\n",
       "    <tr>\n",
       "      <th>Vice President of Sales</th>\n",
       "      <td>1</td>\n",
       "      <td>1</td>\n",
       "      <td>1</td>\n",
       "      <td>1</td>\n",
       "    </tr>\n",
       "  </tbody>\n",
       "</table>\n",
       "<p>67 rows × 4 columns</p>\n",
       "</div>"
      ],
      "text/plain": [
       "                                BusinessEntityID  BirthDate  Gender  HireDate\n",
       "JobTitle                                                                     \n",
       "Accountant                                     2          2       2         2\n",
       "Accounts Manager                               1          1       1         1\n",
       "Accounts Payable Specialist                    2          2       2         2\n",
       "Accounts Receivable Specialist                 3          3       3         3\n",
       "Application Specialist                         4          4       4         4\n",
       "...                                          ...        ...     ...       ...\n",
       "Stocker                                        3          3       3         3\n",
       "Tool Designer                                  2          2       2         2\n",
       "Vice President of Engineering                  1          1       1         1\n",
       "Vice President of Production                   1          1       1         1\n",
       "Vice President of Sales                        1          1       1         1\n",
       "\n",
       "[67 rows x 4 columns]"
      ]
     },
     "execution_count": 24,
     "metadata": {},
     "output_type": "execute_result"
    }
   ],
   "source": [
    "# Grouping data by jobTitle\n",
    "sql_df.groupby('JobTitle').count()"
   ]
  },
  {
   "cell_type": "code",
   "execution_count": 25,
   "id": "2b789d49",
   "metadata": {},
   "outputs": [
    {
     "data": {
      "text/plain": [
       "JobTitle\n",
       "Accountant                        2\n",
       "Accounts Manager                  1\n",
       "Accounts Payable Specialist       2\n",
       "Accounts Receivable Specialist    3\n",
       "Application Specialist            4\n",
       "                                 ..\n",
       "Stocker                           3\n",
       "Tool Designer                     2\n",
       "Vice President of Engineering     1\n",
       "Vice President of Production      1\n",
       "Vice President of Sales           1\n",
       "Name: Gender, Length: 67, dtype: int64"
      ]
     },
     "execution_count": 25,
     "metadata": {},
     "output_type": "execute_result"
    }
   ],
   "source": [
    "# Group data by job title and select the gender\n",
    "sql_df.groupby('JobTitle').count()['Gender']"
   ]
  },
  {
   "cell_type": "code",
   "execution_count": 26,
   "id": "e628c359",
   "metadata": {},
   "outputs": [
    {
     "data": {
      "text/html": [
       "<div>\n",
       "<style scoped>\n",
       "    .dataframe tbody tr th:only-of-type {\n",
       "        vertical-align: middle;\n",
       "    }\n",
       "\n",
       "    .dataframe tbody tr th {\n",
       "        vertical-align: top;\n",
       "    }\n",
       "\n",
       "    .dataframe thead th {\n",
       "        text-align: right;\n",
       "    }\n",
       "</style>\n",
       "<table border=\"1\" class=\"dataframe\">\n",
       "  <thead>\n",
       "    <tr style=\"text-align: right;\">\n",
       "      <th></th>\n",
       "      <th></th>\n",
       "      <th>BusinessEntityID</th>\n",
       "      <th>JobTitle</th>\n",
       "      <th>Gender</th>\n",
       "    </tr>\n",
       "    <tr>\n",
       "      <th>BirthDate</th>\n",
       "      <th>HireDate</th>\n",
       "      <th></th>\n",
       "      <th></th>\n",
       "      <th></th>\n",
       "    </tr>\n",
       "  </thead>\n",
       "  <tbody>\n",
       "    <tr>\n",
       "      <th>1951-10-17</th>\n",
       "      <th>2011-01-04</th>\n",
       "      <td>1</td>\n",
       "      <td>1</td>\n",
       "      <td>1</td>\n",
       "    </tr>\n",
       "    <tr>\n",
       "      <th>1952-03-02</th>\n",
       "      <th>2010-02-05</th>\n",
       "      <td>1</td>\n",
       "      <td>1</td>\n",
       "      <td>1</td>\n",
       "    </tr>\n",
       "    <tr>\n",
       "      <th>1952-05-12</th>\n",
       "      <th>2010-01-23</th>\n",
       "      <td>1</td>\n",
       "      <td>1</td>\n",
       "      <td>1</td>\n",
       "    </tr>\n",
       "    <tr>\n",
       "      <th>1952-09-27</th>\n",
       "      <th>2008-01-06</th>\n",
       "      <td>1</td>\n",
       "      <td>1</td>\n",
       "      <td>1</td>\n",
       "    </tr>\n",
       "    <tr>\n",
       "      <th>1953-04-30</th>\n",
       "      <th>2010-01-22</th>\n",
       "      <td>1</td>\n",
       "      <td>1</td>\n",
       "      <td>1</td>\n",
       "    </tr>\n",
       "    <tr>\n",
       "      <th>...</th>\n",
       "      <th>...</th>\n",
       "      <td>...</td>\n",
       "      <td>...</td>\n",
       "      <td>...</td>\n",
       "    </tr>\n",
       "    <tr>\n",
       "      <th>1990-11-01</th>\n",
       "      <th>2009-01-27</th>\n",
       "      <td>1</td>\n",
       "      <td>1</td>\n",
       "      <td>1</td>\n",
       "    </tr>\n",
       "    <tr>\n",
       "      <th>1990-11-04</th>\n",
       "      <th>2009-01-17</th>\n",
       "      <td>1</td>\n",
       "      <td>1</td>\n",
       "      <td>1</td>\n",
       "    </tr>\n",
       "    <tr>\n",
       "      <th>1991-01-04</th>\n",
       "      <th>2009-01-10</th>\n",
       "      <td>1</td>\n",
       "      <td>1</td>\n",
       "      <td>1</td>\n",
       "    </tr>\n",
       "    <tr>\n",
       "      <th>1991-04-06</th>\n",
       "      <th>2009-02-15</th>\n",
       "      <td>1</td>\n",
       "      <td>1</td>\n",
       "      <td>1</td>\n",
       "    </tr>\n",
       "    <tr>\n",
       "      <th>1991-05-31</th>\n",
       "      <th>2009-01-20</th>\n",
       "      <td>1</td>\n",
       "      <td>1</td>\n",
       "      <td>1</td>\n",
       "    </tr>\n",
       "  </tbody>\n",
       "</table>\n",
       "<p>289 rows × 3 columns</p>\n",
       "</div>"
      ],
      "text/plain": [
       "                       BusinessEntityID  JobTitle  Gender\n",
       "BirthDate  HireDate                                      \n",
       "1951-10-17 2011-01-04                 1         1       1\n",
       "1952-03-02 2010-02-05                 1         1       1\n",
       "1952-05-12 2010-01-23                 1         1       1\n",
       "1952-09-27 2008-01-06                 1         1       1\n",
       "1953-04-30 2010-01-22                 1         1       1\n",
       "...                                 ...       ...     ...\n",
       "1990-11-01 2009-01-27                 1         1       1\n",
       "1990-11-04 2009-01-17                 1         1       1\n",
       "1991-01-04 2009-01-10                 1         1       1\n",
       "1991-04-06 2009-02-15                 1         1       1\n",
       "1991-05-31 2009-01-20                 1         1       1\n",
       "\n",
       "[289 rows x 3 columns]"
      ]
     },
     "execution_count": 26,
     "metadata": {},
     "output_type": "execute_result"
    }
   ],
   "source": [
    "# Group data by multiple columns\n",
    "sql_df.groupby(['BirthDate','HireDate']).count()"
   ]
  },
  {
   "cell_type": "code",
   "execution_count": 31,
   "id": "361799b1",
   "metadata": {},
   "outputs": [],
   "source": [
    "# Join the Excel df with the SQL df - using inner join\n",
    "inner_df = pd.merge(sql_df,excel_df, how='inner', on='BusinessEntityID')"
   ]
  },
  {
   "cell_type": "code",
   "execution_count": 34,
   "id": "ea554bf1",
   "metadata": {},
   "outputs": [
    {
     "data": {
      "text/html": [
       "<div>\n",
       "<style scoped>\n",
       "    .dataframe tbody tr th:only-of-type {\n",
       "        vertical-align: middle;\n",
       "    }\n",
       "\n",
       "    .dataframe tbody tr th {\n",
       "        vertical-align: top;\n",
       "    }\n",
       "\n",
       "    .dataframe thead th {\n",
       "        text-align: right;\n",
       "    }\n",
       "</style>\n",
       "<table border=\"1\" class=\"dataframe\">\n",
       "  <thead>\n",
       "    <tr style=\"text-align: right;\">\n",
       "      <th></th>\n",
       "      <th>BusinessEntityID</th>\n",
       "      <th>JobTitle</th>\n",
       "      <th>BirthDate</th>\n",
       "      <th>Gender</th>\n",
       "      <th>HireDate</th>\n",
       "      <th>FirstName</th>\n",
       "      <th>MiddleName</th>\n",
       "      <th>LastName</th>\n",
       "    </tr>\n",
       "  </thead>\n",
       "  <tbody>\n",
       "    <tr>\n",
       "      <th>0</th>\n",
       "      <td>38</td>\n",
       "      <td>Production Technician - WC60</td>\n",
       "      <td>1966-12-14</td>\n",
       "      <td>F</td>\n",
       "      <td>2010-01-16</td>\n",
       "      <td>Kim</td>\n",
       "      <td>B</td>\n",
       "      <td>Abercrombie</td>\n",
       "    </tr>\n",
       "    <tr>\n",
       "      <th>1</th>\n",
       "      <td>121</td>\n",
       "      <td>Shipping and Receiving Supervisor</td>\n",
       "      <td>1972-09-09</td>\n",
       "      <td>M</td>\n",
       "      <td>2009-01-02</td>\n",
       "      <td>Pilar</td>\n",
       "      <td>G</td>\n",
       "      <td>Ackerman</td>\n",
       "    </tr>\n",
       "    <tr>\n",
       "      <th>2</th>\n",
       "      <td>211</td>\n",
       "      <td>Quality Assurance Manager</td>\n",
       "      <td>1977-10-26</td>\n",
       "      <td>M</td>\n",
       "      <td>2009-02-28</td>\n",
       "      <td>Hazem</td>\n",
       "      <td>E</td>\n",
       "      <td>Abolrous</td>\n",
       "    </tr>\n",
       "    <tr>\n",
       "      <th>3</th>\n",
       "      <td>285</td>\n",
       "      <td>Pacific Sales Manager</td>\n",
       "      <td>1975-01-11</td>\n",
       "      <td>M</td>\n",
       "      <td>2013-03-14</td>\n",
       "      <td>Syed</td>\n",
       "      <td>E</td>\n",
       "      <td>Abbas</td>\n",
       "    </tr>\n",
       "  </tbody>\n",
       "</table>\n",
       "</div>"
      ],
      "text/plain": [
       "   BusinessEntityID                           JobTitle   BirthDate Gender  \\\n",
       "0                38       Production Technician - WC60  1966-12-14      F   \n",
       "1               121  Shipping and Receiving Supervisor  1972-09-09      M   \n",
       "2               211          Quality Assurance Manager  1977-10-26      M   \n",
       "3               285              Pacific Sales Manager  1975-01-11      M   \n",
       "\n",
       "     HireDate FirstName MiddleName     LastName  \n",
       "0  2010-01-16       Kim          B  Abercrombie  \n",
       "1  2009-01-02     Pilar          G     Ackerman  \n",
       "2  2009-02-28     Hazem          E     Abolrous  \n",
       "3  2013-03-14      Syed          E        Abbas  "
      ]
     },
     "execution_count": 34,
     "metadata": {},
     "output_type": "execute_result"
    }
   ],
   "source": [
    "inner_df.head()"
   ]
  },
  {
   "cell_type": "code",
   "execution_count": 33,
   "id": "ac290f4b",
   "metadata": {},
   "outputs": [
    {
     "data": {
      "text/plain": [
       "(4, 8)"
      ]
     },
     "execution_count": 33,
     "metadata": {},
     "output_type": "execute_result"
    }
   ],
   "source": [
    " # Check the shape of the data\n",
    "inner_df.shape"
   ]
  },
  {
   "cell_type": "code",
   "execution_count": 35,
   "id": "f6edd9cd",
   "metadata": {},
   "outputs": [],
   "source": [
    "# Join the Excel df with the SQL df - using left join\n",
    "left_df = pd.merge(sql_df,excel_df, how='left', on='BusinessEntityID')"
   ]
  },
  {
   "cell_type": "code",
   "execution_count": 36,
   "id": "89d89e3d",
   "metadata": {},
   "outputs": [
    {
     "data": {
      "text/html": [
       "<div>\n",
       "<style scoped>\n",
       "    .dataframe tbody tr th:only-of-type {\n",
       "        vertical-align: middle;\n",
       "    }\n",
       "\n",
       "    .dataframe tbody tr th {\n",
       "        vertical-align: top;\n",
       "    }\n",
       "\n",
       "    .dataframe thead th {\n",
       "        text-align: right;\n",
       "    }\n",
       "</style>\n",
       "<table border=\"1\" class=\"dataframe\">\n",
       "  <thead>\n",
       "    <tr style=\"text-align: right;\">\n",
       "      <th></th>\n",
       "      <th>BusinessEntityID</th>\n",
       "      <th>JobTitle</th>\n",
       "      <th>BirthDate</th>\n",
       "      <th>Gender</th>\n",
       "      <th>HireDate</th>\n",
       "      <th>FirstName</th>\n",
       "      <th>MiddleName</th>\n",
       "      <th>LastName</th>\n",
       "    </tr>\n",
       "  </thead>\n",
       "  <tbody>\n",
       "    <tr>\n",
       "      <th>0</th>\n",
       "      <td>1</td>\n",
       "      <td>Chief Executive Officer</td>\n",
       "      <td>1969-01-29</td>\n",
       "      <td>M</td>\n",
       "      <td>2009-01-14</td>\n",
       "      <td>NaN</td>\n",
       "      <td>NaN</td>\n",
       "      <td>NaN</td>\n",
       "    </tr>\n",
       "    <tr>\n",
       "      <th>1</th>\n",
       "      <td>2</td>\n",
       "      <td>Vice President of Engineering</td>\n",
       "      <td>1971-08-01</td>\n",
       "      <td>F</td>\n",
       "      <td>2008-01-31</td>\n",
       "      <td>NaN</td>\n",
       "      <td>NaN</td>\n",
       "      <td>NaN</td>\n",
       "    </tr>\n",
       "    <tr>\n",
       "      <th>2</th>\n",
       "      <td>3</td>\n",
       "      <td>Engineering Manager</td>\n",
       "      <td>1974-11-12</td>\n",
       "      <td>M</td>\n",
       "      <td>2007-11-11</td>\n",
       "      <td>NaN</td>\n",
       "      <td>NaN</td>\n",
       "      <td>NaN</td>\n",
       "    </tr>\n",
       "    <tr>\n",
       "      <th>3</th>\n",
       "      <td>4</td>\n",
       "      <td>Senior Tool Designer</td>\n",
       "      <td>1974-12-23</td>\n",
       "      <td>M</td>\n",
       "      <td>2007-12-05</td>\n",
       "      <td>NaN</td>\n",
       "      <td>NaN</td>\n",
       "      <td>NaN</td>\n",
       "    </tr>\n",
       "    <tr>\n",
       "      <th>4</th>\n",
       "      <td>5</td>\n",
       "      <td>Design Engineer</td>\n",
       "      <td>1952-09-27</td>\n",
       "      <td>F</td>\n",
       "      <td>2008-01-06</td>\n",
       "      <td>NaN</td>\n",
       "      <td>NaN</td>\n",
       "      <td>NaN</td>\n",
       "    </tr>\n",
       "  </tbody>\n",
       "</table>\n",
       "</div>"
      ],
      "text/plain": [
       "   BusinessEntityID                       JobTitle   BirthDate Gender  \\\n",
       "0                 1        Chief Executive Officer  1969-01-29      M   \n",
       "1                 2  Vice President of Engineering  1971-08-01      F   \n",
       "2                 3            Engineering Manager  1974-11-12      M   \n",
       "3                 4           Senior Tool Designer  1974-12-23      M   \n",
       "4                 5                Design Engineer  1952-09-27      F   \n",
       "\n",
       "     HireDate FirstName MiddleName LastName  \n",
       "0  2009-01-14       NaN        NaN      NaN  \n",
       "1  2008-01-31       NaN        NaN      NaN  \n",
       "2  2007-11-11       NaN        NaN      NaN  \n",
       "3  2007-12-05       NaN        NaN      NaN  \n",
       "4  2008-01-06       NaN        NaN      NaN  "
      ]
     },
     "execution_count": 36,
     "metadata": {},
     "output_type": "execute_result"
    }
   ],
   "source": [
    "# View the data\n",
    "left_df.head()"
   ]
  },
  {
   "cell_type": "code",
   "execution_count": 37,
   "id": "2e4ea7b8",
   "metadata": {},
   "outputs": [
    {
     "data": {
      "text/plain": [
       "(290, 8)"
      ]
     },
     "execution_count": 37,
     "metadata": {},
     "output_type": "execute_result"
    }
   ],
   "source": [
    "# Check the shape of the data\n",
    "left_df.shape"
   ]
  },
  {
   "cell_type": "code",
   "execution_count": 46,
   "id": "578f789a",
   "metadata": {},
   "outputs": [
    {
     "data": {
      "text/plain": [
       "(290, 8)"
      ]
     },
     "execution_count": 46,
     "metadata": {},
     "output_type": "execute_result"
    }
   ],
   "source": [
    "# Check the shape of the data\n",
    "left_df.shape"
   ]
  },
  {
   "cell_type": "code",
   "execution_count": 38,
   "id": "9bb477ca",
   "metadata": {},
   "outputs": [],
   "source": [
    "# Join the Excel df with the SQL df - using right join\n",
    "right_df = pd.merge(sql_df,excel_df,how='right', on='BusinessEntityID')"
   ]
  },
  {
   "cell_type": "code",
   "execution_count": 39,
   "id": "c67fbdac",
   "metadata": {},
   "outputs": [
    {
     "data": {
      "text/html": [
       "<div>\n",
       "<style scoped>\n",
       "    .dataframe tbody tr th:only-of-type {\n",
       "        vertical-align: middle;\n",
       "    }\n",
       "\n",
       "    .dataframe tbody tr th {\n",
       "        vertical-align: top;\n",
       "    }\n",
       "\n",
       "    .dataframe thead th {\n",
       "        text-align: right;\n",
       "    }\n",
       "</style>\n",
       "<table border=\"1\" class=\"dataframe\">\n",
       "  <thead>\n",
       "    <tr style=\"text-align: right;\">\n",
       "      <th></th>\n",
       "      <th>BusinessEntityID</th>\n",
       "      <th>JobTitle</th>\n",
       "      <th>BirthDate</th>\n",
       "      <th>Gender</th>\n",
       "      <th>HireDate</th>\n",
       "      <th>FirstName</th>\n",
       "      <th>MiddleName</th>\n",
       "      <th>LastName</th>\n",
       "    </tr>\n",
       "  </thead>\n",
       "  <tbody>\n",
       "    <tr>\n",
       "      <th>0</th>\n",
       "      <td>285</td>\n",
       "      <td>Pacific Sales Manager</td>\n",
       "      <td>1975-01-11</td>\n",
       "      <td>M</td>\n",
       "      <td>2013-03-14</td>\n",
       "      <td>Syed</td>\n",
       "      <td>E</td>\n",
       "      <td>Abbas</td>\n",
       "    </tr>\n",
       "    <tr>\n",
       "      <th>1</th>\n",
       "      <td>293</td>\n",
       "      <td>NaN</td>\n",
       "      <td>NaN</td>\n",
       "      <td>NaN</td>\n",
       "      <td>NaN</td>\n",
       "      <td>Catherine</td>\n",
       "      <td>R.</td>\n",
       "      <td>Abel</td>\n",
       "    </tr>\n",
       "    <tr>\n",
       "      <th>2</th>\n",
       "      <td>38</td>\n",
       "      <td>Production Technician - WC60</td>\n",
       "      <td>1966-12-14</td>\n",
       "      <td>F</td>\n",
       "      <td>2010-01-16</td>\n",
       "      <td>Kim</td>\n",
       "      <td>B</td>\n",
       "      <td>Abercrombie</td>\n",
       "    </tr>\n",
       "    <tr>\n",
       "      <th>3</th>\n",
       "      <td>211</td>\n",
       "      <td>Quality Assurance Manager</td>\n",
       "      <td>1977-10-26</td>\n",
       "      <td>M</td>\n",
       "      <td>2009-02-28</td>\n",
       "      <td>Hazem</td>\n",
       "      <td>E</td>\n",
       "      <td>Abolrous</td>\n",
       "    </tr>\n",
       "    <tr>\n",
       "      <th>4</th>\n",
       "      <td>121</td>\n",
       "      <td>Shipping and Receiving Supervisor</td>\n",
       "      <td>1972-09-09</td>\n",
       "      <td>M</td>\n",
       "      <td>2009-01-02</td>\n",
       "      <td>Pilar</td>\n",
       "      <td>G</td>\n",
       "      <td>Ackerman</td>\n",
       "    </tr>\n",
       "  </tbody>\n",
       "</table>\n",
       "</div>"
      ],
      "text/plain": [
       "   BusinessEntityID                           JobTitle   BirthDate Gender  \\\n",
       "0               285              Pacific Sales Manager  1975-01-11      M   \n",
       "1               293                                NaN         NaN    NaN   \n",
       "2                38       Production Technician - WC60  1966-12-14      F   \n",
       "3               211          Quality Assurance Manager  1977-10-26      M   \n",
       "4               121  Shipping and Receiving Supervisor  1972-09-09      M   \n",
       "\n",
       "     HireDate  FirstName MiddleName     LastName  \n",
       "0  2013-03-14       Syed          E        Abbas  \n",
       "1         NaN  Catherine         R.         Abel  \n",
       "2  2010-01-16        Kim          B  Abercrombie  \n",
       "3  2009-02-28      Hazem          E     Abolrous  \n",
       "4  2009-01-02      Pilar          G     Ackerman  "
      ]
     },
     "execution_count": 39,
     "metadata": {},
     "output_type": "execute_result"
    }
   ],
   "source": [
    "# View the first 5 rows of the data\n",
    "right_df.head()"
   ]
  },
  {
   "cell_type": "code",
   "execution_count": 40,
   "id": "42c33e93",
   "metadata": {},
   "outputs": [
    {
     "data": {
      "text/html": [
       "<div>\n",
       "<style scoped>\n",
       "    .dataframe tbody tr th:only-of-type {\n",
       "        vertical-align: middle;\n",
       "    }\n",
       "\n",
       "    .dataframe tbody tr th {\n",
       "        vertical-align: top;\n",
       "    }\n",
       "\n",
       "    .dataframe thead th {\n",
       "        text-align: right;\n",
       "    }\n",
       "</style>\n",
       "<table border=\"1\" class=\"dataframe\">\n",
       "  <thead>\n",
       "    <tr style=\"text-align: right;\">\n",
       "      <th></th>\n",
       "      <th>BusinessEntityID</th>\n",
       "      <th>JobTitle</th>\n",
       "      <th>BirthDate</th>\n",
       "      <th>Gender</th>\n",
       "      <th>HireDate</th>\n",
       "      <th>FirstName</th>\n",
       "      <th>MiddleName</th>\n",
       "      <th>LastName</th>\n",
       "    </tr>\n",
       "  </thead>\n",
       "  <tbody>\n",
       "    <tr>\n",
       "      <th>16</th>\n",
       "      <td>5055</td>\n",
       "      <td>NaN</td>\n",
       "      <td>NaN</td>\n",
       "      <td>NaN</td>\n",
       "      <td>NaN</td>\n",
       "      <td>Eduardo</td>\n",
       "      <td>A</td>\n",
       "      <td>Albright</td>\n",
       "    </tr>\n",
       "    <tr>\n",
       "      <th>17</th>\n",
       "      <td>16858</td>\n",
       "      <td>NaN</td>\n",
       "      <td>NaN</td>\n",
       "      <td>NaN</td>\n",
       "      <td>NaN</td>\n",
       "      <td>Elijah</td>\n",
       "      <td>L</td>\n",
       "      <td>Albury</td>\n",
       "    </tr>\n",
       "    <tr>\n",
       "      <th>18</th>\n",
       "      <td>3889</td>\n",
       "      <td>NaN</td>\n",
       "      <td>NaN</td>\n",
       "      <td>NaN</td>\n",
       "      <td>NaN</td>\n",
       "      <td>Fernando</td>\n",
       "      <td>S</td>\n",
       "      <td>Alcorn</td>\n",
       "    </tr>\n",
       "    <tr>\n",
       "      <th>19</th>\n",
       "      <td>301</td>\n",
       "      <td>NaN</td>\n",
       "      <td>NaN</td>\n",
       "      <td>NaN</td>\n",
       "      <td>NaN</td>\n",
       "      <td>Frances</td>\n",
       "      <td>B.</td>\n",
       "      <td>Alderson</td>\n",
       "    </tr>\n",
       "    <tr>\n",
       "      <th>20</th>\n",
       "      <td>16850</td>\n",
       "      <td>NaN</td>\n",
       "      <td>NaN</td>\n",
       "      <td>NaN</td>\n",
       "      <td>NaN</td>\n",
       "      <td>Gabriel</td>\n",
       "      <td>S</td>\n",
       "      <td>Alexander</td>\n",
       "    </tr>\n",
       "  </tbody>\n",
       "</table>\n",
       "</div>"
      ],
      "text/plain": [
       "    BusinessEntityID JobTitle BirthDate Gender HireDate FirstName MiddleName  \\\n",
       "16              5055      NaN       NaN    NaN      NaN   Eduardo          A   \n",
       "17             16858      NaN       NaN    NaN      NaN    Elijah          L   \n",
       "18              3889      NaN       NaN    NaN      NaN  Fernando          S   \n",
       "19               301      NaN       NaN    NaN      NaN   Frances         B.   \n",
       "20             16850      NaN       NaN    NaN      NaN   Gabriel          S   \n",
       "\n",
       "     LastName  \n",
       "16   Albright  \n",
       "17     Albury  \n",
       "18     Alcorn  \n",
       "19   Alderson  \n",
       "20  Alexander  "
      ]
     },
     "execution_count": 40,
     "metadata": {},
     "output_type": "execute_result"
    }
   ],
   "source": [
    "# View the last 5 rows of the data\n",
    "right_df.tail()"
   ]
  },
  {
   "cell_type": "code",
   "execution_count": 45,
   "id": "0a261dac",
   "metadata": {},
   "outputs": [
    {
     "data": {
      "text/plain": [
       "(21, 8)"
      ]
     },
     "execution_count": 45,
     "metadata": {},
     "output_type": "execute_result"
    }
   ],
   "source": [
    "# Check the shape of the data\n",
    "right_df.shape"
   ]
  },
  {
   "cell_type": "code",
   "execution_count": 42,
   "id": "005ac06b",
   "metadata": {},
   "outputs": [],
   "source": [
    "# Join the Excel df with the SQL df - using full join\n",
    "full_df = pd.merge(sql_df, excel_df, how='outer', on='BusinessEntityID')"
   ]
  },
  {
   "cell_type": "code",
   "execution_count": 43,
   "id": "4bbee755",
   "metadata": {},
   "outputs": [
    {
     "data": {
      "text/html": [
       "<div>\n",
       "<style scoped>\n",
       "    .dataframe tbody tr th:only-of-type {\n",
       "        vertical-align: middle;\n",
       "    }\n",
       "\n",
       "    .dataframe tbody tr th {\n",
       "        vertical-align: top;\n",
       "    }\n",
       "\n",
       "    .dataframe thead th {\n",
       "        text-align: right;\n",
       "    }\n",
       "</style>\n",
       "<table border=\"1\" class=\"dataframe\">\n",
       "  <thead>\n",
       "    <tr style=\"text-align: right;\">\n",
       "      <th></th>\n",
       "      <th>BusinessEntityID</th>\n",
       "      <th>JobTitle</th>\n",
       "      <th>BirthDate</th>\n",
       "      <th>Gender</th>\n",
       "      <th>HireDate</th>\n",
       "      <th>FirstName</th>\n",
       "      <th>MiddleName</th>\n",
       "      <th>LastName</th>\n",
       "    </tr>\n",
       "  </thead>\n",
       "  <tbody>\n",
       "    <tr>\n",
       "      <th>0</th>\n",
       "      <td>1</td>\n",
       "      <td>Chief Executive Officer</td>\n",
       "      <td>1969-01-29</td>\n",
       "      <td>M</td>\n",
       "      <td>2009-01-14</td>\n",
       "      <td>NaN</td>\n",
       "      <td>NaN</td>\n",
       "      <td>NaN</td>\n",
       "    </tr>\n",
       "    <tr>\n",
       "      <th>1</th>\n",
       "      <td>2</td>\n",
       "      <td>Vice President of Engineering</td>\n",
       "      <td>1971-08-01</td>\n",
       "      <td>F</td>\n",
       "      <td>2008-01-31</td>\n",
       "      <td>NaN</td>\n",
       "      <td>NaN</td>\n",
       "      <td>NaN</td>\n",
       "    </tr>\n",
       "    <tr>\n",
       "      <th>2</th>\n",
       "      <td>3</td>\n",
       "      <td>Engineering Manager</td>\n",
       "      <td>1974-11-12</td>\n",
       "      <td>M</td>\n",
       "      <td>2007-11-11</td>\n",
       "      <td>NaN</td>\n",
       "      <td>NaN</td>\n",
       "      <td>NaN</td>\n",
       "    </tr>\n",
       "    <tr>\n",
       "      <th>3</th>\n",
       "      <td>4</td>\n",
       "      <td>Senior Tool Designer</td>\n",
       "      <td>1974-12-23</td>\n",
       "      <td>M</td>\n",
       "      <td>2007-12-05</td>\n",
       "      <td>NaN</td>\n",
       "      <td>NaN</td>\n",
       "      <td>NaN</td>\n",
       "    </tr>\n",
       "    <tr>\n",
       "      <th>4</th>\n",
       "      <td>5</td>\n",
       "      <td>Design Engineer</td>\n",
       "      <td>1952-09-27</td>\n",
       "      <td>F</td>\n",
       "      <td>2008-01-06</td>\n",
       "      <td>NaN</td>\n",
       "      <td>NaN</td>\n",
       "      <td>NaN</td>\n",
       "    </tr>\n",
       "  </tbody>\n",
       "</table>\n",
       "</div>"
      ],
      "text/plain": [
       "   BusinessEntityID                       JobTitle   BirthDate Gender  \\\n",
       "0                 1        Chief Executive Officer  1969-01-29      M   \n",
       "1                 2  Vice President of Engineering  1971-08-01      F   \n",
       "2                 3            Engineering Manager  1974-11-12      M   \n",
       "3                 4           Senior Tool Designer  1974-12-23      M   \n",
       "4                 5                Design Engineer  1952-09-27      F   \n",
       "\n",
       "     HireDate FirstName MiddleName LastName  \n",
       "0  2009-01-14       NaN        NaN      NaN  \n",
       "1  2008-01-31       NaN        NaN      NaN  \n",
       "2  2007-11-11       NaN        NaN      NaN  \n",
       "3  2007-12-05       NaN        NaN      NaN  \n",
       "4  2008-01-06       NaN        NaN      NaN  "
      ]
     },
     "execution_count": 43,
     "metadata": {},
     "output_type": "execute_result"
    }
   ],
   "source": [
    "# View the first 5 rows of the data\n",
    "full_df.head()"
   ]
  },
  {
   "cell_type": "code",
   "execution_count": 44,
   "id": "a9ae2d52",
   "metadata": {},
   "outputs": [
    {
     "data": {
      "text/plain": [
       "(307, 8)"
      ]
     },
     "execution_count": 44,
     "metadata": {},
     "output_type": "execute_result"
    }
   ],
   "source": [
    "# Check the shape of the data\n",
    "full_df.shape"
   ]
  },
  {
   "cell_type": "markdown",
   "id": "cacb4ed5",
   "metadata": {},
   "source": [
    "THE END"
   ]
  },
  {
   "cell_type": "code",
   "execution_count": null,
   "id": "6f810257",
   "metadata": {},
   "outputs": [],
   "source": []
  }
 ],
 "metadata": {
  "kernelspec": {
   "display_name": "Python 3 (ipykernel)",
   "language": "python",
   "name": "python3"
  },
  "language_info": {
   "codemirror_mode": {
    "name": "ipython",
    "version": 3
   },
   "file_extension": ".py",
   "mimetype": "text/x-python",
   "name": "python",
   "nbconvert_exporter": "python",
   "pygments_lexer": "ipython3",
   "version": "3.9.13"
  },
  "toc": {
   "base_numbering": 1,
   "nav_menu": {},
   "number_sections": true,
   "sideBar": true,
   "skip_h1_title": false,
   "title_cell": "Table of Contents",
   "title_sidebar": "Contents",
   "toc_cell": false,
   "toc_position": {},
   "toc_section_display": true,
   "toc_window_display": false
  }
 },
 "nbformat": 4,
 "nbformat_minor": 5
}
