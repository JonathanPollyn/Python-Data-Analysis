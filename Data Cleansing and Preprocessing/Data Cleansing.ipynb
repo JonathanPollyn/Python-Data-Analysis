{
 "cells": [
  {
   "cell_type": "markdown",
   "id": "a3b01c03",
   "metadata": {},
   "source": [
    "## Data Cleansing\n",
    "<hr>\n",
    "Welcome to the \"Data Cleansing\" notebook! This notebook will explore the essential techniques and strategies for cleaning and preparing data for analysis. Data cleansing, also known as data cleaning or data preprocessing, is a critical step in the data analysis workflow. It involves identifying and rectifying errors, inconsistencies, and inaccuracies in the dataset to ensure reliable and accurate analysis results.\n",
    "\n",
    "In this notebook, we will cover the following key topics:\n",
    "1. Understanding Data Quality: Learn about the significance of data quality and the potential difficulties that may be encountered. We'll look at various problems with data quality, including outliers, duplicate records, inconsistent formats, and missing values.\n",
    "2. Data Exploration and Assessment: Learn how to investigate and evaluate the dataset's quality. We'll review how to spot duplicate records, find missing values, analyze data distributions, and spot potential outliers.\n",
    "3. Handling Missing Data: Learn several approaches to managing missing data successfully. Based on the situation and the dataset's characteristics, we will investigate methods for dealing with missing values, such as imputation, deletion, and interpolation.\n",
    "4. Dealing with Duplicate Data: Know how to spot and manage duplicate records in your dataset. Based on the criteria of your study, we will investigate ways to find duplicates and determine whether to eliminate or merge them.\n",
    "5. Handling Outliers: Discovering and managing outliers, or extreme values that dramatically depart from the norm, is a skill you should develop. In this section, we'll examine methods for spotting outliers and how to decide whether to discard, modify, or treat them independently while performing analysis.\n",
    "\n",
    "You will have a thorough understanding of the data cleansing procedure at the end of this notebook and a set of efficient procedures for cleaning and getting your data ready for analysis. Having clean, high-quality data will significantly increase the accuracy and dependability of your analytical outcomes.\n",
    "\n",
    "So let's start and start the data cleansing process to bring forth the full potential of your dataset!"
   ]
  },
  {
   "cell_type": "markdown",
   "id": "b6b98efe",
   "metadata": {},
   "source": [
    "## Import the needed library and load file"
   ]
  },
  {
   "cell_type": "code",
   "execution_count": 1,
   "id": "f2cb9a4f",
   "metadata": {},
   "outputs": [],
   "source": [
    "import pandas as pd\n",
    "import numpy as np"
   ]
  },
  {
   "cell_type": "code",
   "execution_count": 2,
   "id": "1676de5b",
   "metadata": {},
   "outputs": [
    {
     "data": {
      "text/html": [
       "<div>\n",
       "<style scoped>\n",
       "    .dataframe tbody tr th:only-of-type {\n",
       "        vertical-align: middle;\n",
       "    }\n",
       "\n",
       "    .dataframe tbody tr th {\n",
       "        vertical-align: top;\n",
       "    }\n",
       "\n",
       "    .dataframe thead th {\n",
       "        text-align: right;\n",
       "    }\n",
       "</style>\n",
       "<table border=\"1\" class=\"dataframe\">\n",
       "  <thead>\n",
       "    <tr style=\"text-align: right;\">\n",
       "      <th></th>\n",
       "      <th>Model</th>\n",
       "      <th>MPG</th>\n",
       "      <th>Cylinders</th>\n",
       "      <th>Displacement</th>\n",
       "      <th>Horsepower</th>\n",
       "      <th>Weight</th>\n",
       "      <th>Acceleration</th>\n",
       "      <th>Year</th>\n",
       "      <th>Origin</th>\n",
       "      <th>bore</th>\n",
       "      <th>stroke</th>\n",
       "      <th>compression-ratio</th>\n",
       "    </tr>\n",
       "  </thead>\n",
       "  <tbody>\n",
       "    <tr>\n",
       "      <th>0</th>\n",
       "      <td>chevrolet chevelle malibu</td>\n",
       "      <td>18.0</td>\n",
       "      <td>8</td>\n",
       "      <td>307</td>\n",
       "      <td>130</td>\n",
       "      <td>3504</td>\n",
       "      <td>12</td>\n",
       "      <td>1970[1975]</td>\n",
       "      <td>US; Detroit, Michigan</td>\n",
       "      <td>3.47</td>\n",
       "      <td>2.68</td>\n",
       "      <td>9</td>\n",
       "    </tr>\n",
       "    <tr>\n",
       "      <th>1</th>\n",
       "      <td>buick skylark 320</td>\n",
       "      <td>15.0</td>\n",
       "      <td>8</td>\n",
       "      <td>350</td>\n",
       "      <td>165</td>\n",
       "      <td>3693</td>\n",
       "      <td>11.5</td>\n",
       "      <td>1970</td>\n",
       "      <td>US]</td>\n",
       "      <td>3.47</td>\n",
       "      <td>2.68</td>\n",
       "      <td>?</td>\n",
       "    </tr>\n",
       "    <tr>\n",
       "      <th>2</th>\n",
       "      <td>plymouth satellite</td>\n",
       "      <td>18.0</td>\n",
       "      <td>?</td>\n",
       "      <td>318</td>\n",
       "      <td>150</td>\n",
       "      <td>3436</td>\n",
       "      <td>11</td>\n",
       "      <td>1970, 1976</td>\n",
       "      <td>US</td>\n",
       "      <td>2.68</td>\n",
       "      <td>3.47</td>\n",
       "      <td>9</td>\n",
       "    </tr>\n",
       "    <tr>\n",
       "      <th>3</th>\n",
       "      <td>amc rebel sst</td>\n",
       "      <td>16.0</td>\n",
       "      <td>8</td>\n",
       "      <td>304</td>\n",
       "      <td>150</td>\n",
       "      <td>3433</td>\n",
       "      <td>12</td>\n",
       "      <td>1970</td>\n",
       "      <td>US</td>\n",
       "      <td>3.19</td>\n",
       "      <td>3.40</td>\n",
       "      <td>10</td>\n",
       "    </tr>\n",
       "    <tr>\n",
       "      <th>4</th>\n",
       "      <td>ford torino</td>\n",
       "      <td>17.0</td>\n",
       "      <td>8</td>\n",
       "      <td>302</td>\n",
       "      <td>140</td>\n",
       "      <td>3449</td>\n",
       "      <td>10.5</td>\n",
       "      <td>1970-1972</td>\n",
       "      <td>US]</td>\n",
       "      <td>3.19</td>\n",
       "      <td>3.40</td>\n",
       "      <td>8</td>\n",
       "    </tr>\n",
       "  </tbody>\n",
       "</table>\n",
       "</div>"
      ],
      "text/plain": [
       "                       Model   MPG Cylinders Displacement  Horsepower Weight  \\\n",
       "0  chevrolet chevelle malibu  18.0         8          307         130   3504   \n",
       "1          buick skylark 320  15.0         8          350         165   3693   \n",
       "2         plymouth satellite  18.0         ?          318         150   3436   \n",
       "3              amc rebel sst  16.0         8          304         150   3433   \n",
       "4                ford torino  17.0         8          302         140   3449   \n",
       "\n",
       "  Acceleration        Year                 Origin  bore  stroke  \\\n",
       "0           12  1970[1975]  US; Detroit, Michigan  3.47    2.68   \n",
       "1         11.5        1970                    US]  3.47    2.68   \n",
       "2           11  1970, 1976                     US  2.68    3.47   \n",
       "3           12        1970                     US  3.19    3.40   \n",
       "4         10.5   1970-1972                    US]  3.19    3.40   \n",
       "\n",
       "  compression-ratio  \n",
       "0                 9  \n",
       "1                 ?  \n",
       "2                 9  \n",
       "3                10  \n",
       "4                 8  "
      ]
     },
     "execution_count": 2,
     "metadata": {},
     "output_type": "execute_result"
    }
   ],
   "source": [
    "# Load the data\n",
    "filePath = 'data/cars.csv'\n",
    "data = pd.read_csv(filePath)\n",
    "data.head()"
   ]
  },
  {
   "cell_type": "code",
   "execution_count": 3,
   "id": "d2b6ed14",
   "metadata": {},
   "outputs": [
    {
     "data": {
      "text/plain": [
       "(394, 12)"
      ]
     },
     "execution_count": 3,
     "metadata": {},
     "output_type": "execute_result"
    }
   ],
   "source": [
    "data.shape"
   ]
  },
  {
   "cell_type": "markdown",
   "id": "79680704",
   "metadata": {},
   "source": [
    "## Handling missing values"
   ]
  },
  {
   "cell_type": "code",
   "execution_count": 4,
   "id": "bd4e526d",
   "metadata": {},
   "outputs": [
    {
     "data": {
      "text/html": [
       "<div>\n",
       "<style scoped>\n",
       "    .dataframe tbody tr th:only-of-type {\n",
       "        vertical-align: middle;\n",
       "    }\n",
       "\n",
       "    .dataframe tbody tr th {\n",
       "        vertical-align: top;\n",
       "    }\n",
       "\n",
       "    .dataframe thead th {\n",
       "        text-align: right;\n",
       "    }\n",
       "</style>\n",
       "<table border=\"1\" class=\"dataframe\">\n",
       "  <thead>\n",
       "    <tr style=\"text-align: right;\">\n",
       "      <th></th>\n",
       "      <th>Model</th>\n",
       "      <th>MPG</th>\n",
       "      <th>Cylinders</th>\n",
       "      <th>Displacement</th>\n",
       "      <th>Horsepower</th>\n",
       "      <th>Weight</th>\n",
       "      <th>Acceleration</th>\n",
       "      <th>Year</th>\n",
       "      <th>Origin</th>\n",
       "      <th>bore</th>\n",
       "      <th>stroke</th>\n",
       "      <th>compression-ratio</th>\n",
       "    </tr>\n",
       "  </thead>\n",
       "  <tbody>\n",
       "    <tr>\n",
       "      <th>0</th>\n",
       "      <td>False</td>\n",
       "      <td>False</td>\n",
       "      <td>False</td>\n",
       "      <td>False</td>\n",
       "      <td>False</td>\n",
       "      <td>False</td>\n",
       "      <td>False</td>\n",
       "      <td>False</td>\n",
       "      <td>False</td>\n",
       "      <td>False</td>\n",
       "      <td>False</td>\n",
       "      <td>False</td>\n",
       "    </tr>\n",
       "    <tr>\n",
       "      <th>1</th>\n",
       "      <td>False</td>\n",
       "      <td>False</td>\n",
       "      <td>False</td>\n",
       "      <td>False</td>\n",
       "      <td>False</td>\n",
       "      <td>False</td>\n",
       "      <td>False</td>\n",
       "      <td>False</td>\n",
       "      <td>False</td>\n",
       "      <td>False</td>\n",
       "      <td>False</td>\n",
       "      <td>False</td>\n",
       "    </tr>\n",
       "    <tr>\n",
       "      <th>2</th>\n",
       "      <td>False</td>\n",
       "      <td>False</td>\n",
       "      <td>False</td>\n",
       "      <td>False</td>\n",
       "      <td>False</td>\n",
       "      <td>False</td>\n",
       "      <td>False</td>\n",
       "      <td>False</td>\n",
       "      <td>False</td>\n",
       "      <td>False</td>\n",
       "      <td>False</td>\n",
       "      <td>False</td>\n",
       "    </tr>\n",
       "    <tr>\n",
       "      <th>3</th>\n",
       "      <td>False</td>\n",
       "      <td>False</td>\n",
       "      <td>False</td>\n",
       "      <td>False</td>\n",
       "      <td>False</td>\n",
       "      <td>False</td>\n",
       "      <td>False</td>\n",
       "      <td>False</td>\n",
       "      <td>False</td>\n",
       "      <td>False</td>\n",
       "      <td>False</td>\n",
       "      <td>False</td>\n",
       "    </tr>\n",
       "    <tr>\n",
       "      <th>4</th>\n",
       "      <td>False</td>\n",
       "      <td>False</td>\n",
       "      <td>False</td>\n",
       "      <td>False</td>\n",
       "      <td>False</td>\n",
       "      <td>False</td>\n",
       "      <td>False</td>\n",
       "      <td>False</td>\n",
       "      <td>False</td>\n",
       "      <td>False</td>\n",
       "      <td>False</td>\n",
       "      <td>False</td>\n",
       "    </tr>\n",
       "    <tr>\n",
       "      <th>...</th>\n",
       "      <td>...</td>\n",
       "      <td>...</td>\n",
       "      <td>...</td>\n",
       "      <td>...</td>\n",
       "      <td>...</td>\n",
       "      <td>...</td>\n",
       "      <td>...</td>\n",
       "      <td>...</td>\n",
       "      <td>...</td>\n",
       "      <td>...</td>\n",
       "      <td>...</td>\n",
       "      <td>...</td>\n",
       "    </tr>\n",
       "    <tr>\n",
       "      <th>389</th>\n",
       "      <td>False</td>\n",
       "      <td>False</td>\n",
       "      <td>False</td>\n",
       "      <td>False</td>\n",
       "      <td>False</td>\n",
       "      <td>False</td>\n",
       "      <td>False</td>\n",
       "      <td>False</td>\n",
       "      <td>False</td>\n",
       "      <td>False</td>\n",
       "      <td>False</td>\n",
       "      <td>False</td>\n",
       "    </tr>\n",
       "    <tr>\n",
       "      <th>390</th>\n",
       "      <td>False</td>\n",
       "      <td>False</td>\n",
       "      <td>False</td>\n",
       "      <td>False</td>\n",
       "      <td>False</td>\n",
       "      <td>False</td>\n",
       "      <td>False</td>\n",
       "      <td>False</td>\n",
       "      <td>False</td>\n",
       "      <td>False</td>\n",
       "      <td>False</td>\n",
       "      <td>False</td>\n",
       "    </tr>\n",
       "    <tr>\n",
       "      <th>391</th>\n",
       "      <td>False</td>\n",
       "      <td>False</td>\n",
       "      <td>False</td>\n",
       "      <td>False</td>\n",
       "      <td>False</td>\n",
       "      <td>False</td>\n",
       "      <td>False</td>\n",
       "      <td>False</td>\n",
       "      <td>False</td>\n",
       "      <td>False</td>\n",
       "      <td>False</td>\n",
       "      <td>False</td>\n",
       "    </tr>\n",
       "    <tr>\n",
       "      <th>392</th>\n",
       "      <td>False</td>\n",
       "      <td>False</td>\n",
       "      <td>False</td>\n",
       "      <td>False</td>\n",
       "      <td>False</td>\n",
       "      <td>False</td>\n",
       "      <td>False</td>\n",
       "      <td>False</td>\n",
       "      <td>False</td>\n",
       "      <td>False</td>\n",
       "      <td>False</td>\n",
       "      <td>False</td>\n",
       "    </tr>\n",
       "    <tr>\n",
       "      <th>393</th>\n",
       "      <td>False</td>\n",
       "      <td>False</td>\n",
       "      <td>False</td>\n",
       "      <td>False</td>\n",
       "      <td>False</td>\n",
       "      <td>False</td>\n",
       "      <td>False</td>\n",
       "      <td>False</td>\n",
       "      <td>False</td>\n",
       "      <td>False</td>\n",
       "      <td>False</td>\n",
       "      <td>False</td>\n",
       "    </tr>\n",
       "  </tbody>\n",
       "</table>\n",
       "<p>394 rows × 12 columns</p>\n",
       "</div>"
      ],
      "text/plain": [
       "     Model    MPG  Cylinders  Displacement  Horsepower  Weight  Acceleration  \\\n",
       "0    False  False      False         False       False   False         False   \n",
       "1    False  False      False         False       False   False         False   \n",
       "2    False  False      False         False       False   False         False   \n",
       "3    False  False      False         False       False   False         False   \n",
       "4    False  False      False         False       False   False         False   \n",
       "..     ...    ...        ...           ...         ...     ...           ...   \n",
       "389  False  False      False         False       False   False         False   \n",
       "390  False  False      False         False       False   False         False   \n",
       "391  False  False      False         False       False   False         False   \n",
       "392  False  False      False         False       False   False         False   \n",
       "393  False  False      False         False       False   False         False   \n",
       "\n",
       "      Year  Origin   bore  stroke  compression-ratio  \n",
       "0    False   False  False   False              False  \n",
       "1    False   False  False   False              False  \n",
       "2    False   False  False   False              False  \n",
       "3    False   False  False   False              False  \n",
       "4    False   False  False   False              False  \n",
       "..     ...     ...    ...     ...                ...  \n",
       "389  False   False  False   False              False  \n",
       "390  False   False  False   False              False  \n",
       "391  False   False  False   False              False  \n",
       "392  False   False  False   False              False  \n",
       "393  False   False  False   False              False  \n",
       "\n",
       "[394 rows x 12 columns]"
      ]
     },
     "execution_count": 4,
     "metadata": {},
     "output_type": "execute_result"
    }
   ],
   "source": [
    "# Identify which columns have missing values\n",
    "data.isnull()"
   ]
  },
  {
   "cell_type": "code",
   "execution_count": 5,
   "id": "31021aab",
   "metadata": {},
   "outputs": [
    {
     "data": {
      "text/plain": [
       "Model                0\n",
       "MPG                  9\n",
       "Cylinders            0\n",
       "Displacement         0\n",
       "Horsepower           0\n",
       "Weight               0\n",
       "Acceleration         0\n",
       "Year                 0\n",
       "Origin               0\n",
       "bore                 0\n",
       "stroke               0\n",
       "compression-ratio    0\n",
       "dtype: int64"
      ]
     },
     "execution_count": 5,
     "metadata": {},
     "output_type": "execute_result"
    }
   ],
   "source": [
    "# Get the sum of missing values for each column\n",
    "data.isnull().sum()"
   ]
  },
  {
   "cell_type": "code",
   "execution_count": 6,
   "id": "1552cce9",
   "metadata": {},
   "outputs": [],
   "source": [
    "# Replace all ? with nan\n",
    "data = data.replace('?', np.nan)"
   ]
  },
  {
   "cell_type": "code",
   "execution_count": 7,
   "id": "34fb4d41",
   "metadata": {},
   "outputs": [
    {
     "data": {
      "text/plain": [
       "Model                0\n",
       "MPG                  9\n",
       "Cylinders            2\n",
       "Displacement         1\n",
       "Horsepower           0\n",
       "Weight               1\n",
       "Acceleration         1\n",
       "Year                 0\n",
       "Origin               0\n",
       "bore                 0\n",
       "stroke               0\n",
       "compression-ratio    2\n",
       "dtype: int64"
      ]
     },
     "execution_count": 7,
     "metadata": {},
     "output_type": "execute_result"
    }
   ],
   "source": [
    "# Get the sum of missing values for each column\n",
    "data.isnull().sum()"
   ]
  },
  {
   "cell_type": "code",
   "execution_count": 8,
   "id": "5817b9ed",
   "metadata": {},
   "outputs": [
    {
     "data": {
      "text/html": [
       "<div>\n",
       "<style scoped>\n",
       "    .dataframe tbody tr th:only-of-type {\n",
       "        vertical-align: middle;\n",
       "    }\n",
       "\n",
       "    .dataframe tbody tr th {\n",
       "        vertical-align: top;\n",
       "    }\n",
       "\n",
       "    .dataframe thead th {\n",
       "        text-align: right;\n",
       "    }\n",
       "</style>\n",
       "<table border=\"1\" class=\"dataframe\">\n",
       "  <thead>\n",
       "    <tr style=\"text-align: right;\">\n",
       "      <th></th>\n",
       "      <th>Model</th>\n",
       "      <th>MPG</th>\n",
       "      <th>Cylinders</th>\n",
       "      <th>Displacement</th>\n",
       "      <th>Horsepower</th>\n",
       "      <th>Weight</th>\n",
       "      <th>Acceleration</th>\n",
       "      <th>Year</th>\n",
       "      <th>Origin</th>\n",
       "      <th>bore</th>\n",
       "      <th>stroke</th>\n",
       "      <th>compression-ratio</th>\n",
       "    </tr>\n",
       "  </thead>\n",
       "  <tbody>\n",
       "    <tr>\n",
       "      <th>1</th>\n",
       "      <td>buick skylark 320</td>\n",
       "      <td>15.0</td>\n",
       "      <td>8</td>\n",
       "      <td>350</td>\n",
       "      <td>165</td>\n",
       "      <td>3693</td>\n",
       "      <td>11.5</td>\n",
       "      <td>1970</td>\n",
       "      <td>US]</td>\n",
       "      <td>3.47</td>\n",
       "      <td>2.68</td>\n",
       "      <td>NaN</td>\n",
       "    </tr>\n",
       "    <tr>\n",
       "      <th>2</th>\n",
       "      <td>plymouth satellite</td>\n",
       "      <td>18.0</td>\n",
       "      <td>NaN</td>\n",
       "      <td>318</td>\n",
       "      <td>150</td>\n",
       "      <td>3436</td>\n",
       "      <td>11</td>\n",
       "      <td>1970, 1976</td>\n",
       "      <td>US</td>\n",
       "      <td>2.68</td>\n",
       "      <td>3.47</td>\n",
       "      <td>9</td>\n",
       "    </tr>\n",
       "    <tr>\n",
       "      <th>5</th>\n",
       "      <td>ford galaxie 500</td>\n",
       "      <td>15.0</td>\n",
       "      <td>8</td>\n",
       "      <td>NaN</td>\n",
       "      <td>198</td>\n",
       "      <td>4341</td>\n",
       "      <td>10</td>\n",
       "      <td>1970</td>\n",
       "      <td>US</td>\n",
       "      <td>3.19</td>\n",
       "      <td>3.40</td>\n",
       "      <td>8.5</td>\n",
       "    </tr>\n",
       "    <tr>\n",
       "      <th>7</th>\n",
       "      <td>plymouth fury iii</td>\n",
       "      <td>NaN</td>\n",
       "      <td>8</td>\n",
       "      <td>440</td>\n",
       "      <td>215</td>\n",
       "      <td>4312</td>\n",
       "      <td>8.5</td>\n",
       "      <td>1970</td>\n",
       "      <td>US</td>\n",
       "      <td>3.19</td>\n",
       "      <td>3.40</td>\n",
       "      <td>8.5</td>\n",
       "    </tr>\n",
       "    <tr>\n",
       "      <th>12</th>\n",
       "      <td>chevrolet monte carlo</td>\n",
       "      <td>NaN</td>\n",
       "      <td>8</td>\n",
       "      <td>400</td>\n",
       "      <td>150</td>\n",
       "      <td>3761</td>\n",
       "      <td>9.5</td>\n",
       "      <td>1970</td>\n",
       "      <td>US; Detroit, Michigan</td>\n",
       "      <td>3.31</td>\n",
       "      <td>3.19</td>\n",
       "      <td>9</td>\n",
       "    </tr>\n",
       "    <tr>\n",
       "      <th>20</th>\n",
       "      <td>peugeot 504</td>\n",
       "      <td>NaN</td>\n",
       "      <td>4</td>\n",
       "      <td>110</td>\n",
       "      <td>87</td>\n",
       "      <td>2672</td>\n",
       "      <td>17.5</td>\n",
       "      <td>1970</td>\n",
       "      <td>Europe</td>\n",
       "      <td>3.03</td>\n",
       "      <td>3.11</td>\n",
       "      <td>9.6</td>\n",
       "    </tr>\n",
       "    <tr>\n",
       "      <th>30</th>\n",
       "      <td>chevrolet vega 2300</td>\n",
       "      <td>NaN</td>\n",
       "      <td>4</td>\n",
       "      <td>140</td>\n",
       "      <td>90</td>\n",
       "      <td>2264</td>\n",
       "      <td>15.5</td>\n",
       "      <td>1971[1973]971</td>\n",
       "      <td>US; Detroit, Michigan</td>\n",
       "      <td>2.91</td>\n",
       "      <td>3.41</td>\n",
       "      <td>9.6</td>\n",
       "    </tr>\n",
       "    <tr>\n",
       "      <th>40</th>\n",
       "      <td>plymouth fury iii</td>\n",
       "      <td>NaN</td>\n",
       "      <td>8</td>\n",
       "      <td>318</td>\n",
       "      <td>150</td>\n",
       "      <td>4096</td>\n",
       "      <td>13</td>\n",
       "      <td>1971[1973]</td>\n",
       "      <td>US</td>\n",
       "      <td>3.15</td>\n",
       "      <td>3.58</td>\n",
       "      <td>9</td>\n",
       "    </tr>\n",
       "    <tr>\n",
       "      <th>50</th>\n",
       "      <td>peugeot 304</td>\n",
       "      <td>NaN</td>\n",
       "      <td>4</td>\n",
       "      <td>79</td>\n",
       "      <td>70</td>\n",
       "      <td>2074</td>\n",
       "      <td>19.5</td>\n",
       "      <td>1971</td>\n",
       "      <td>Europe</td>\n",
       "      <td>3.03</td>\n",
       "      <td>3.15</td>\n",
       "      <td>9</td>\n",
       "    </tr>\n",
       "    <tr>\n",
       "      <th>67</th>\n",
       "      <td>buick lesabre custom</td>\n",
       "      <td>13.0</td>\n",
       "      <td>8</td>\n",
       "      <td>350</td>\n",
       "      <td>155</td>\n",
       "      <td>4502</td>\n",
       "      <td>NaN</td>\n",
       "      <td>1972</td>\n",
       "      <td>US</td>\n",
       "      <td>3.58</td>\n",
       "      <td>3.64</td>\n",
       "      <td>21.5</td>\n",
       "    </tr>\n",
       "    <tr>\n",
       "      <th>70</th>\n",
       "      <td>mazda rx2 coupe</td>\n",
       "      <td>NaN</td>\n",
       "      <td>3</td>\n",
       "      <td>70</td>\n",
       "      <td>97</td>\n",
       "      <td>2330</td>\n",
       "      <td>13.5</td>\n",
       "      <td>1972</td>\n",
       "      <td>Japan</td>\n",
       "      <td>3.58</td>\n",
       "      <td>3.64</td>\n",
       "      <td>21.5</td>\n",
       "    </tr>\n",
       "    <tr>\n",
       "      <th>81</th>\n",
       "      <td>toyouta corona mark ii (sw)</td>\n",
       "      <td>NaN</td>\n",
       "      <td>4</td>\n",
       "      <td>120</td>\n",
       "      <td>97</td>\n",
       "      <td>2506</td>\n",
       "      <td>14.5</td>\n",
       "      <td>1972</td>\n",
       "      <td>Japan; Aichi</td>\n",
       "      <td>3.35</td>\n",
       "      <td>3.46</td>\n",
       "      <td>8.5</td>\n",
       "    </tr>\n",
       "    <tr>\n",
       "      <th>88</th>\n",
       "      <td>dodge coronet custom</td>\n",
       "      <td>15.0</td>\n",
       "      <td>8</td>\n",
       "      <td>318</td>\n",
       "      <td>150</td>\n",
       "      <td>NaN</td>\n",
       "      <td>12.5</td>\n",
       "      <td>1973</td>\n",
       "      <td>US</td>\n",
       "      <td>3.17</td>\n",
       "      <td>3.46</td>\n",
       "      <td>7.5</td>\n",
       "    </tr>\n",
       "    <tr>\n",
       "      <th>91</th>\n",
       "      <td>ford ltd</td>\n",
       "      <td>NaN</td>\n",
       "      <td>8</td>\n",
       "      <td>351</td>\n",
       "      <td>158</td>\n",
       "      <td>4363</td>\n",
       "      <td>13</td>\n",
       "      <td>1973</td>\n",
       "      <td>US</td>\n",
       "      <td>3.15</td>\n",
       "      <td>3.29</td>\n",
       "      <td>9.4</td>\n",
       "    </tr>\n",
       "    <tr>\n",
       "      <th>100</th>\n",
       "      <td>plymouth duster</td>\n",
       "      <td>23.0</td>\n",
       "      <td>NaN</td>\n",
       "      <td>198</td>\n",
       "      <td>95</td>\n",
       "      <td>2904</td>\n",
       "      <td>16</td>\n",
       "      <td>1973</td>\n",
       "      <td>US</td>\n",
       "      <td>3.33</td>\n",
       "      <td>3.47</td>\n",
       "      <td>8.5</td>\n",
       "    </tr>\n",
       "    <tr>\n",
       "      <th>111</th>\n",
       "      <td>ford pinto</td>\n",
       "      <td>19.0</td>\n",
       "      <td>4</td>\n",
       "      <td>122</td>\n",
       "      <td>85</td>\n",
       "      <td>2310</td>\n",
       "      <td>18.5</td>\n",
       "      <td>1973</td>\n",
       "      <td>US</td>\n",
       "      <td>3.46</td>\n",
       "      <td>2.19</td>\n",
       "      <td>NaN</td>\n",
       "    </tr>\n",
       "  </tbody>\n",
       "</table>\n",
       "</div>"
      ],
      "text/plain": [
       "                           Model   MPG Cylinders Displacement  Horsepower  \\\n",
       "1              buick skylark 320  15.0         8          350         165   \n",
       "2             plymouth satellite  18.0       NaN          318         150   \n",
       "5               ford galaxie 500  15.0         8          NaN         198   \n",
       "7              plymouth fury iii   NaN         8          440         215   \n",
       "12         chevrolet monte carlo   NaN         8          400         150   \n",
       "20                   peugeot 504   NaN         4          110          87   \n",
       "30           chevrolet vega 2300   NaN         4          140          90   \n",
       "40             plymouth fury iii   NaN         8          318         150   \n",
       "50                   peugeot 304   NaN         4           79          70   \n",
       "67          buick lesabre custom  13.0         8          350         155   \n",
       "70               mazda rx2 coupe   NaN         3           70          97   \n",
       "81   toyouta corona mark ii (sw)   NaN         4          120          97   \n",
       "88          dodge coronet custom  15.0         8          318         150   \n",
       "91                      ford ltd   NaN         8          351         158   \n",
       "100              plymouth duster  23.0       NaN          198          95   \n",
       "111                   ford pinto  19.0         4          122          85   \n",
       "\n",
       "    Weight Acceleration           Year                 Origin  bore  stroke  \\\n",
       "1     3693         11.5           1970                    US]  3.47    2.68   \n",
       "2     3436           11     1970, 1976                     US  2.68    3.47   \n",
       "5     4341           10           1970                     US  3.19    3.40   \n",
       "7     4312          8.5           1970                     US  3.19    3.40   \n",
       "12    3761          9.5           1970  US; Detroit, Michigan  3.31    3.19   \n",
       "20    2672         17.5           1970                 Europe  3.03    3.11   \n",
       "30    2264         15.5  1971[1973]971  US; Detroit, Michigan  2.91    3.41   \n",
       "40    4096           13     1971[1973]                     US  3.15    3.58   \n",
       "50    2074         19.5           1971                 Europe  3.03    3.15   \n",
       "67    4502          NaN           1972                     US  3.58    3.64   \n",
       "70    2330         13.5           1972                  Japan  3.58    3.64   \n",
       "81    2506         14.5           1972           Japan; Aichi  3.35    3.46   \n",
       "88     NaN         12.5           1973                     US  3.17    3.46   \n",
       "91    4363           13           1973                     US  3.15    3.29   \n",
       "100   2904           16           1973                     US  3.33    3.47   \n",
       "111   2310         18.5           1973                     US  3.46    2.19   \n",
       "\n",
       "    compression-ratio  \n",
       "1                 NaN  \n",
       "2                   9  \n",
       "5                 8.5  \n",
       "7                 8.5  \n",
       "12                  9  \n",
       "20                9.6  \n",
       "30                9.6  \n",
       "40                  9  \n",
       "50                  9  \n",
       "67               21.5  \n",
       "70               21.5  \n",
       "81                8.5  \n",
       "88                7.5  \n",
       "91                9.4  \n",
       "100               8.5  \n",
       "111               NaN  "
      ]
     },
     "execution_count": 8,
     "metadata": {},
     "output_type": "execute_result"
    }
   ],
   "source": [
    "# Get the missing values\n",
    "data[data.isnull().any(axis=1)]"
   ]
  },
  {
   "cell_type": "code",
   "execution_count": 9,
   "id": "77730652",
   "metadata": {},
   "outputs": [],
   "source": [
    "# Fill the missing MPG column with its mean values\n",
    "data['MPG'] = data['MPG'].fillna(data['MPG'].mean())"
   ]
  },
  {
   "cell_type": "code",
   "execution_count": 10,
   "id": "7330f1d0",
   "metadata": {},
   "outputs": [
    {
     "data": {
      "text/plain": [
       "Model                0\n",
       "MPG                  0\n",
       "Cylinders            2\n",
       "Displacement         1\n",
       "Horsepower           0\n",
       "Weight               1\n",
       "Acceleration         1\n",
       "Year                 0\n",
       "Origin               0\n",
       "bore                 0\n",
       "stroke               0\n",
       "compression-ratio    2\n",
       "dtype: int64"
      ]
     },
     "execution_count": 10,
     "metadata": {},
     "output_type": "execute_result"
    }
   ],
   "source": [
    "# Get the sum of missing values for each column\n",
    "data.isnull().sum()"
   ]
  },
  {
   "cell_type": "code",
   "execution_count": 11,
   "id": "760c31e2",
   "metadata": {},
   "outputs": [],
   "source": [
    "# Drop other all the remaining missing values\n",
    "data = data.dropna()"
   ]
  },
  {
   "cell_type": "code",
   "execution_count": 12,
   "id": "f849c00b",
   "metadata": {},
   "outputs": [
    {
     "data": {
      "text/plain": [
       "Model                0\n",
       "MPG                  0\n",
       "Cylinders            0\n",
       "Displacement         0\n",
       "Horsepower           0\n",
       "Weight               0\n",
       "Acceleration         0\n",
       "Year                 0\n",
       "Origin               0\n",
       "bore                 0\n",
       "stroke               0\n",
       "compression-ratio    0\n",
       "dtype: int64"
      ]
     },
     "execution_count": 12,
     "metadata": {},
     "output_type": "execute_result"
    }
   ],
   "source": [
    "# Get the missing values count\n",
    "data.isnull().sum()"
   ]
  },
  {
   "cell_type": "code",
   "execution_count": 13,
   "id": "6a5cd447",
   "metadata": {},
   "outputs": [],
   "source": [
    "# Drop the model column\n",
    "data.drop(['Model'], axis=1, inplace=True)"
   ]
  },
  {
   "cell_type": "code",
   "execution_count": 14,
   "id": "f670b679",
   "metadata": {},
   "outputs": [
    {
     "data": {
      "text/html": [
       "<div>\n",
       "<style scoped>\n",
       "    .dataframe tbody tr th:only-of-type {\n",
       "        vertical-align: middle;\n",
       "    }\n",
       "\n",
       "    .dataframe tbody tr th {\n",
       "        vertical-align: top;\n",
       "    }\n",
       "\n",
       "    .dataframe thead th {\n",
       "        text-align: right;\n",
       "    }\n",
       "</style>\n",
       "<table border=\"1\" class=\"dataframe\">\n",
       "  <thead>\n",
       "    <tr style=\"text-align: right;\">\n",
       "      <th></th>\n",
       "      <th>MPG</th>\n",
       "      <th>Cylinders</th>\n",
       "      <th>Displacement</th>\n",
       "      <th>Horsepower</th>\n",
       "      <th>Weight</th>\n",
       "      <th>Acceleration</th>\n",
       "      <th>Year</th>\n",
       "      <th>Origin</th>\n",
       "      <th>bore</th>\n",
       "      <th>stroke</th>\n",
       "      <th>compression-ratio</th>\n",
       "    </tr>\n",
       "  </thead>\n",
       "  <tbody>\n",
       "    <tr>\n",
       "      <th>0</th>\n",
       "      <td>18.000000</td>\n",
       "      <td>8</td>\n",
       "      <td>307</td>\n",
       "      <td>130</td>\n",
       "      <td>3504</td>\n",
       "      <td>12</td>\n",
       "      <td>1970[1975]</td>\n",
       "      <td>US; Detroit, Michigan</td>\n",
       "      <td>3.47</td>\n",
       "      <td>2.68</td>\n",
       "      <td>9</td>\n",
       "    </tr>\n",
       "    <tr>\n",
       "      <th>3</th>\n",
       "      <td>16.000000</td>\n",
       "      <td>8</td>\n",
       "      <td>304</td>\n",
       "      <td>150</td>\n",
       "      <td>3433</td>\n",
       "      <td>12</td>\n",
       "      <td>1970</td>\n",
       "      <td>US</td>\n",
       "      <td>3.19</td>\n",
       "      <td>3.40</td>\n",
       "      <td>10</td>\n",
       "    </tr>\n",
       "    <tr>\n",
       "      <th>4</th>\n",
       "      <td>17.000000</td>\n",
       "      <td>8</td>\n",
       "      <td>302</td>\n",
       "      <td>140</td>\n",
       "      <td>3449</td>\n",
       "      <td>10.5</td>\n",
       "      <td>1970-1972</td>\n",
       "      <td>US]</td>\n",
       "      <td>3.19</td>\n",
       "      <td>3.40</td>\n",
       "      <td>8</td>\n",
       "    </tr>\n",
       "    <tr>\n",
       "      <th>6</th>\n",
       "      <td>14.000000</td>\n",
       "      <td>8</td>\n",
       "      <td>454</td>\n",
       "      <td>220</td>\n",
       "      <td>4354</td>\n",
       "      <td>9</td>\n",
       "      <td>1970[1975]</td>\n",
       "      <td>US; Detroit, Michigan</td>\n",
       "      <td>3.19</td>\n",
       "      <td>3.40</td>\n",
       "      <td>8.5</td>\n",
       "    </tr>\n",
       "    <tr>\n",
       "      <th>7</th>\n",
       "      <td>23.551429</td>\n",
       "      <td>8</td>\n",
       "      <td>440</td>\n",
       "      <td>215</td>\n",
       "      <td>4312</td>\n",
       "      <td>8.5</td>\n",
       "      <td>1970</td>\n",
       "      <td>US</td>\n",
       "      <td>3.19</td>\n",
       "      <td>3.40</td>\n",
       "      <td>8.5</td>\n",
       "    </tr>\n",
       "  </tbody>\n",
       "</table>\n",
       "</div>"
      ],
      "text/plain": [
       "         MPG Cylinders Displacement  Horsepower Weight Acceleration  \\\n",
       "0  18.000000         8          307         130   3504           12   \n",
       "3  16.000000         8          304         150   3433           12   \n",
       "4  17.000000         8          302         140   3449         10.5   \n",
       "6  14.000000         8          454         220   4354            9   \n",
       "7  23.551429         8          440         215   4312          8.5   \n",
       "\n",
       "         Year                 Origin  bore  stroke compression-ratio  \n",
       "0  1970[1975]  US; Detroit, Michigan  3.47    2.68                 9  \n",
       "3        1970                     US  3.19    3.40                10  \n",
       "4   1970-1972                    US]  3.19    3.40                 8  \n",
       "6  1970[1975]  US; Detroit, Michigan  3.19    3.40               8.5  \n",
       "7        1970                     US  3.19    3.40               8.5  "
      ]
     },
     "execution_count": 14,
     "metadata": {},
     "output_type": "execute_result"
    }
   ],
   "source": [
    "data.head()"
   ]
  },
  {
   "cell_type": "code",
   "execution_count": 15,
   "id": "69b2841a",
   "metadata": {},
   "outputs": [
    {
     "name": "stdout",
     "output_type": "stream",
     "text": [
      "<class 'pandas.core.frame.DataFrame'>\n",
      "Int64Index: 387 entries, 0 to 393\n",
      "Data columns (total 11 columns):\n",
      " #   Column             Non-Null Count  Dtype  \n",
      "---  ------             --------------  -----  \n",
      " 0   MPG                387 non-null    float64\n",
      " 1   Cylinders          387 non-null    object \n",
      " 2   Displacement       387 non-null    object \n",
      " 3   Horsepower         387 non-null    int64  \n",
      " 4   Weight             387 non-null    object \n",
      " 5   Acceleration       387 non-null    object \n",
      " 6   Year               387 non-null    object \n",
      " 7   Origin             387 non-null    object \n",
      " 8   bore               387 non-null    float64\n",
      " 9   stroke             387 non-null    float64\n",
      " 10  compression-ratio  387 non-null    object \n",
      "dtypes: float64(3), int64(1), object(7)\n",
      "memory usage: 36.3+ KB\n"
     ]
    }
   ],
   "source": [
    "# Check the data type of all features using the info\n",
    "data.info()"
   ]
  },
  {
   "cell_type": "code",
   "execution_count": 16,
   "id": "30df0d01",
   "metadata": {},
   "outputs": [
    {
     "data": {
      "text/plain": [
       "True     351\n",
       "False     36\n",
       "Name: Year, dtype: int64"
      ]
     },
     "execution_count": 16,
     "metadata": {},
     "output_type": "execute_result"
    }
   ],
   "source": [
    "# Above result shows that the Year is an object, in other words it is a string.\n",
    "# count the records\n",
    "data['Year'].str.isnumeric().value_counts()"
   ]
  },
  {
   "cell_type": "code",
   "execution_count": 17,
   "id": "98ac6412",
   "metadata": {},
   "outputs": [
    {
     "data": {
      "text/plain": [
       "0          1970[1975]\n",
       "4           1970-1972\n",
       "6          1970[1975]\n",
       "30      1971[1973]971\n",
       "35         1971[1973]\n",
       "40         1971[1973]\n",
       "44         1971[1973]\n",
       "49         1971[1973]\n",
       "56         1972[1973]\n",
       "61         1972[1973]\n",
       "65         1972[1973]\n",
       "68         1972[1973]\n",
       "73         1972[1973]\n",
       "75            1972-73\n",
       "79            1972-73\n",
       "82            1972-73\n",
       "96          1973-1974\n",
       "97         1973, 1974\n",
       "102    1973, 19741973\n",
       "105        1973, 1974\n",
       "108        1973, 1974\n",
       "112        1973, 1974\n",
       "115        1973, 1974\n",
       "126        1974, 1975\n",
       "131        1974, 1975\n",
       "134        1974, 1975\n",
       "137        1974, 1975\n",
       "139    1974, 19751974\n",
       "142        1974, 1975\n",
       "365         1982-1985\n",
       "374         1982-1985\n",
       "380         1982-1985\n",
       "383         1982-1985\n",
       "387         1982-1985\n",
       "389         1982-1985\n",
       "391         1982-1985\n",
       "Name: Year, dtype: object"
      ]
     },
     "execution_count": 17,
     "metadata": {},
     "output_type": "execute_result"
    }
   ],
   "source": [
    "# get all the values that are string\n",
    "data['Year'].loc[data['Year'].str.isnumeric()==False]"
   ]
  },
  {
   "cell_type": "code",
   "execution_count": 18,
   "id": "30c7c3df",
   "metadata": {},
   "outputs": [],
   "source": [
    "# Extract the the first four characters of the year.\n",
    "extr = data['Year'].str[:4]\n"
   ]
  },
  {
   "cell_type": "code",
   "execution_count": 19,
   "id": "a1bf2594",
   "metadata": {},
   "outputs": [
    {
     "data": {
      "text/plain": [
       "0    1970\n",
       "3    1970\n",
       "4    1970\n",
       "6    1970\n",
       "7    1970\n",
       "Name: Year, dtype: object"
      ]
     },
     "execution_count": 19,
     "metadata": {},
     "output_type": "execute_result"
    }
   ],
   "source": [
    "extr.head()"
   ]
  },
  {
   "cell_type": "code",
   "execution_count": 20,
   "id": "48856d65",
   "metadata": {},
   "outputs": [
    {
     "data": {
      "text/plain": [
       "<bound method IndexOpsMixin.value_counts of 0      False\n",
       "3      False\n",
       "4      False\n",
       "6      False\n",
       "7      False\n",
       "       ...  \n",
       "389    False\n",
       "390    False\n",
       "391    False\n",
       "392    False\n",
       "393    False\n",
       "Name: Year, Length: 387, dtype: bool>"
      ]
     },
     "execution_count": 20,
     "metadata": {},
     "output_type": "execute_result"
    }
   ],
   "source": [
    "# Check the string count again\n",
    "data['Year'].isnull().value_counts"
   ]
  },
  {
   "cell_type": "code",
   "execution_count": 21,
   "id": "f7bfa934",
   "metadata": {},
   "outputs": [
    {
     "data": {
      "text/plain": [
       "False"
      ]
     },
     "execution_count": 21,
     "metadata": {},
     "output_type": "execute_result"
    }
   ],
   "source": [
    "# Check if there are any string\n",
    "data['Year'].isnull().values.any()"
   ]
  },
  {
   "cell_type": "code",
   "execution_count": 22,
   "id": "b2a0d9c8",
   "metadata": {},
   "outputs": [
    {
     "name": "stdout",
     "output_type": "stream",
     "text": [
      "<class 'pandas.core.series.Series'>\n",
      "Int64Index: 387 entries, 0 to 393\n",
      "Series name: Year\n",
      "Non-Null Count  Dtype \n",
      "--------------  ----- \n",
      "387 non-null    object\n",
      "dtypes: object(1)\n",
      "memory usage: 6.0+ KB\n"
     ]
    }
   ],
   "source": [
    "# Check the data type of the year now\n",
    "data['Year'].info()"
   ]
  },
  {
   "cell_type": "code",
   "execution_count": 23,
   "id": "e27480b7",
   "metadata": {},
   "outputs": [],
   "source": [
    "# Convert the Year to numeric\n",
    "data['Year'] = pd.to_numeric(extr)"
   ]
  },
  {
   "cell_type": "code",
   "execution_count": 24,
   "id": "3f5b7135",
   "metadata": {},
   "outputs": [
    {
     "data": {
      "text/plain": [
       "dtype('int64')"
      ]
     },
     "execution_count": 24,
     "metadata": {},
     "output_type": "execute_result"
    }
   ],
   "source": [
    "# Check the data type of the year now\n",
    "data['Year'].dtype"
   ]
  },
  {
   "cell_type": "code",
   "execution_count": 25,
   "id": "532b109d",
   "metadata": {},
   "outputs": [
    {
     "data": {
      "text/html": [
       "<div>\n",
       "<style scoped>\n",
       "    .dataframe tbody tr th:only-of-type {\n",
       "        vertical-align: middle;\n",
       "    }\n",
       "\n",
       "    .dataframe tbody tr th {\n",
       "        vertical-align: top;\n",
       "    }\n",
       "\n",
       "    .dataframe thead th {\n",
       "        text-align: right;\n",
       "    }\n",
       "</style>\n",
       "<table border=\"1\" class=\"dataframe\">\n",
       "  <thead>\n",
       "    <tr style=\"text-align: right;\">\n",
       "      <th></th>\n",
       "      <th>MPG</th>\n",
       "      <th>Cylinders</th>\n",
       "      <th>Displacement</th>\n",
       "      <th>Horsepower</th>\n",
       "      <th>Weight</th>\n",
       "      <th>Acceleration</th>\n",
       "      <th>Year</th>\n",
       "      <th>Origin</th>\n",
       "      <th>bore</th>\n",
       "      <th>stroke</th>\n",
       "      <th>compression-ratio</th>\n",
       "    </tr>\n",
       "  </thead>\n",
       "  <tbody>\n",
       "    <tr>\n",
       "      <th>0</th>\n",
       "      <td>18.000000</td>\n",
       "      <td>8</td>\n",
       "      <td>307</td>\n",
       "      <td>130</td>\n",
       "      <td>3504</td>\n",
       "      <td>12</td>\n",
       "      <td>1970</td>\n",
       "      <td>US; Detroit, Michigan</td>\n",
       "      <td>3.47</td>\n",
       "      <td>2.68</td>\n",
       "      <td>9</td>\n",
       "    </tr>\n",
       "    <tr>\n",
       "      <th>3</th>\n",
       "      <td>16.000000</td>\n",
       "      <td>8</td>\n",
       "      <td>304</td>\n",
       "      <td>150</td>\n",
       "      <td>3433</td>\n",
       "      <td>12</td>\n",
       "      <td>1970</td>\n",
       "      <td>US</td>\n",
       "      <td>3.19</td>\n",
       "      <td>3.40</td>\n",
       "      <td>10</td>\n",
       "    </tr>\n",
       "    <tr>\n",
       "      <th>4</th>\n",
       "      <td>17.000000</td>\n",
       "      <td>8</td>\n",
       "      <td>302</td>\n",
       "      <td>140</td>\n",
       "      <td>3449</td>\n",
       "      <td>10.5</td>\n",
       "      <td>1970</td>\n",
       "      <td>US]</td>\n",
       "      <td>3.19</td>\n",
       "      <td>3.40</td>\n",
       "      <td>8</td>\n",
       "    </tr>\n",
       "    <tr>\n",
       "      <th>6</th>\n",
       "      <td>14.000000</td>\n",
       "      <td>8</td>\n",
       "      <td>454</td>\n",
       "      <td>220</td>\n",
       "      <td>4354</td>\n",
       "      <td>9</td>\n",
       "      <td>1970</td>\n",
       "      <td>US; Detroit, Michigan</td>\n",
       "      <td>3.19</td>\n",
       "      <td>3.40</td>\n",
       "      <td>8.5</td>\n",
       "    </tr>\n",
       "    <tr>\n",
       "      <th>7</th>\n",
       "      <td>23.551429</td>\n",
       "      <td>8</td>\n",
       "      <td>440</td>\n",
       "      <td>215</td>\n",
       "      <td>4312</td>\n",
       "      <td>8.5</td>\n",
       "      <td>1970</td>\n",
       "      <td>US</td>\n",
       "      <td>3.19</td>\n",
       "      <td>3.40</td>\n",
       "      <td>8.5</td>\n",
       "    </tr>\n",
       "  </tbody>\n",
       "</table>\n",
       "</div>"
      ],
      "text/plain": [
       "         MPG Cylinders Displacement  Horsepower Weight Acceleration  Year  \\\n",
       "0  18.000000         8          307         130   3504           12  1970   \n",
       "3  16.000000         8          304         150   3433           12  1970   \n",
       "4  17.000000         8          302         140   3449         10.5  1970   \n",
       "6  14.000000         8          454         220   4354            9  1970   \n",
       "7  23.551429         8          440         215   4312          8.5  1970   \n",
       "\n",
       "                  Origin  bore  stroke compression-ratio  \n",
       "0  US; Detroit, Michigan  3.47    2.68                 9  \n",
       "3                     US  3.19    3.40                10  \n",
       "4                    US]  3.19    3.40                 8  \n",
       "6  US; Detroit, Michigan  3.19    3.40               8.5  \n",
       "7                     US  3.19    3.40               8.5  "
      ]
     },
     "execution_count": 25,
     "metadata": {},
     "output_type": "execute_result"
    }
   ],
   "source": [
    "data.head()"
   ]
  },
  {
   "cell_type": "code",
   "execution_count": 26,
   "id": "08c8db42",
   "metadata": {},
   "outputs": [
    {
     "data": {
      "text/plain": [
       "0     US; Detroit, Michigan\n",
       "3                        US\n",
       "4                       US]\n",
       "6     US; Detroit, Michigan\n",
       "7                        US\n",
       "8                        US\n",
       "9                       US]\n",
       "10                       US\n",
       "11                       US\n",
       "12    US; Detroit, Michigan\n",
       "Name: Origin, dtype: object"
      ]
     },
     "execution_count": 26,
     "metadata": {},
     "output_type": "execute_result"
    }
   ],
   "source": [
    "# Clean up the origin\n",
    "data['Origin'].head(10)"
   ]
  },
  {
   "cell_type": "code",
   "execution_count": 27,
   "id": "a449e0e7",
   "metadata": {},
   "outputs": [
    {
     "data": {
      "text/plain": [
       "dtype('int64')"
      ]
     },
     "execution_count": 27,
     "metadata": {},
     "output_type": "execute_result"
    }
   ],
   "source": [
    "data['Year'].dtype"
   ]
  },
  {
   "cell_type": "code",
   "execution_count": 29,
   "id": "9c62186e",
   "metadata": {},
   "outputs": [
    {
     "data": {
      "text/plain": [
       "array(['US; Detroit, Michigan', 'US', 'US]', 'Japan; Aichi',\n",
       "       'Europe-Germany', 'Europe', 'Japan; Tokyo', 'Japan; Aichi]',\n",
       "       'US; Detroit, Michigan]', 'Japan; Tokyo]', 'Japan',\n",
       "       'Europe Germany'], dtype=object)"
      ]
     },
     "execution_count": 29,
     "metadata": {},
     "output_type": "execute_result"
    }
   ],
   "source": [
    "# Get the unique values\n",
    "data['Origin'].unique()"
   ]
  },
  {
   "cell_type": "code",
   "execution_count": 35,
   "id": "fcd0b54e",
   "metadata": {},
   "outputs": [
    {
     "data": {
      "text/plain": [
       "array(['US', 'Japan; Aichi', 'Europe-Germany', 'Europe', 'Japan; Tokyo',\n",
       "       'Japan; Aichi]', 'Japan; Tokyo]', 'Japan', 'Europe Germany'],\n",
       "      dtype=object)"
      ]
     },
     "execution_count": 35,
     "metadata": {},
     "output_type": "execute_result"
    }
   ],
   "source": [
    "# Get the origin with US\n",
    "data['Origin'] = np.where(data['Origin'].str.contains('US'), 'US', data['Origin'])\n",
    "data['Origin'].unique()"
   ]
  },
  {
   "cell_type": "code",
   "execution_count": 40,
   "id": "3e214a33",
   "metadata": {},
   "outputs": [
    {
     "data": {
      "text/plain": [
       "array(['US', 'Japan', 'Europe-Germany', 'Europe', 'Europe Germany'],\n",
       "      dtype=object)"
      ]
     },
     "execution_count": 40,
     "metadata": {},
     "output_type": "execute_result"
    }
   ],
   "source": [
    "# Get the origin with Japan\n",
    "data['Origin'] = np.where(data['Origin'].str.contains('Japan'), 'Japan',data['Origin'])\n",
    "data['Origin'].unique()"
   ]
  },
  {
   "cell_type": "code",
   "execution_count": 44,
   "id": "e1e17fc9",
   "metadata": {},
   "outputs": [
    {
     "data": {
      "text/plain": [
       "array(['US', 'Japan', 'Europe'], dtype=object)"
      ]
     },
     "execution_count": 44,
     "metadata": {},
     "output_type": "execute_result"
    }
   ],
   "source": [
    "# Get the origin with Europe\n",
    "data['Origin'] = np.where(data['Origin'].str.contains('Europe'), 'Europe',data['Origin'])\n",
    "data['Origin'].unique()"
   ]
  },
  {
   "cell_type": "code",
   "execution_count": 45,
   "id": "fd20a926",
   "metadata": {},
   "outputs": [
    {
     "data": {
      "text/html": [
       "<div>\n",
       "<style scoped>\n",
       "    .dataframe tbody tr th:only-of-type {\n",
       "        vertical-align: middle;\n",
       "    }\n",
       "\n",
       "    .dataframe tbody tr th {\n",
       "        vertical-align: top;\n",
       "    }\n",
       "\n",
       "    .dataframe thead th {\n",
       "        text-align: right;\n",
       "    }\n",
       "</style>\n",
       "<table border=\"1\" class=\"dataframe\">\n",
       "  <thead>\n",
       "    <tr style=\"text-align: right;\">\n",
       "      <th></th>\n",
       "      <th>MPG</th>\n",
       "      <th>Cylinders</th>\n",
       "      <th>Displacement</th>\n",
       "      <th>Horsepower</th>\n",
       "      <th>Weight</th>\n",
       "      <th>Acceleration</th>\n",
       "      <th>Year</th>\n",
       "      <th>Origin</th>\n",
       "      <th>bore</th>\n",
       "      <th>stroke</th>\n",
       "      <th>compression-ratio</th>\n",
       "    </tr>\n",
       "  </thead>\n",
       "  <tbody>\n",
       "    <tr>\n",
       "      <th>0</th>\n",
       "      <td>18.000000</td>\n",
       "      <td>8</td>\n",
       "      <td>307</td>\n",
       "      <td>130</td>\n",
       "      <td>3504</td>\n",
       "      <td>12</td>\n",
       "      <td>US</td>\n",
       "      <td>US</td>\n",
       "      <td>3.47</td>\n",
       "      <td>2.68</td>\n",
       "      <td>9</td>\n",
       "    </tr>\n",
       "    <tr>\n",
       "      <th>3</th>\n",
       "      <td>16.000000</td>\n",
       "      <td>8</td>\n",
       "      <td>304</td>\n",
       "      <td>150</td>\n",
       "      <td>3433</td>\n",
       "      <td>12</td>\n",
       "      <td>US</td>\n",
       "      <td>US</td>\n",
       "      <td>3.19</td>\n",
       "      <td>3.40</td>\n",
       "      <td>10</td>\n",
       "    </tr>\n",
       "    <tr>\n",
       "      <th>4</th>\n",
       "      <td>17.000000</td>\n",
       "      <td>8</td>\n",
       "      <td>302</td>\n",
       "      <td>140</td>\n",
       "      <td>3449</td>\n",
       "      <td>10.5</td>\n",
       "      <td>US</td>\n",
       "      <td>US</td>\n",
       "      <td>3.19</td>\n",
       "      <td>3.40</td>\n",
       "      <td>8</td>\n",
       "    </tr>\n",
       "    <tr>\n",
       "      <th>6</th>\n",
       "      <td>14.000000</td>\n",
       "      <td>8</td>\n",
       "      <td>454</td>\n",
       "      <td>220</td>\n",
       "      <td>4354</td>\n",
       "      <td>9</td>\n",
       "      <td>US</td>\n",
       "      <td>US</td>\n",
       "      <td>3.19</td>\n",
       "      <td>3.40</td>\n",
       "      <td>8.5</td>\n",
       "    </tr>\n",
       "    <tr>\n",
       "      <th>7</th>\n",
       "      <td>23.551429</td>\n",
       "      <td>8</td>\n",
       "      <td>440</td>\n",
       "      <td>215</td>\n",
       "      <td>4312</td>\n",
       "      <td>8.5</td>\n",
       "      <td>US</td>\n",
       "      <td>US</td>\n",
       "      <td>3.19</td>\n",
       "      <td>3.40</td>\n",
       "      <td>8.5</td>\n",
       "    </tr>\n",
       "    <tr>\n",
       "      <th>8</th>\n",
       "      <td>14.000000</td>\n",
       "      <td>8</td>\n",
       "      <td>455</td>\n",
       "      <td>225</td>\n",
       "      <td>4425</td>\n",
       "      <td>8.5</td>\n",
       "      <td>US</td>\n",
       "      <td>US</td>\n",
       "      <td>3.13</td>\n",
       "      <td>3.40</td>\n",
       "      <td>8.3</td>\n",
       "    </tr>\n",
       "    <tr>\n",
       "      <th>9</th>\n",
       "      <td>15.000000</td>\n",
       "      <td>8</td>\n",
       "      <td>390</td>\n",
       "      <td>190</td>\n",
       "      <td>3850</td>\n",
       "      <td>8.5</td>\n",
       "      <td>US</td>\n",
       "      <td>US</td>\n",
       "      <td>3.13</td>\n",
       "      <td>3.40</td>\n",
       "      <td>7</td>\n",
       "    </tr>\n",
       "    <tr>\n",
       "      <th>10</th>\n",
       "      <td>15.000000</td>\n",
       "      <td>8</td>\n",
       "      <td>383</td>\n",
       "      <td>170</td>\n",
       "      <td>3563</td>\n",
       "      <td>10</td>\n",
       "      <td>US</td>\n",
       "      <td>US</td>\n",
       "      <td>3.50</td>\n",
       "      <td>2.80</td>\n",
       "      <td>8.8</td>\n",
       "    </tr>\n",
       "    <tr>\n",
       "      <th>11</th>\n",
       "      <td>14.000000</td>\n",
       "      <td>-</td>\n",
       "      <td>340</td>\n",
       "      <td>160</td>\n",
       "      <td>3609</td>\n",
       "      <td>8</td>\n",
       "      <td>US</td>\n",
       "      <td>US</td>\n",
       "      <td>3.50</td>\n",
       "      <td>2.80</td>\n",
       "      <td>8.8</td>\n",
       "    </tr>\n",
       "    <tr>\n",
       "      <th>12</th>\n",
       "      <td>23.551429</td>\n",
       "      <td>8</td>\n",
       "      <td>400</td>\n",
       "      <td>150</td>\n",
       "      <td>3761</td>\n",
       "      <td>9.5</td>\n",
       "      <td>US</td>\n",
       "      <td>US</td>\n",
       "      <td>3.31</td>\n",
       "      <td>3.19</td>\n",
       "      <td>9</td>\n",
       "    </tr>\n",
       "  </tbody>\n",
       "</table>\n",
       "</div>"
      ],
      "text/plain": [
       "          MPG Cylinders Displacement  Horsepower Weight Acceleration Year  \\\n",
       "0   18.000000         8          307         130   3504           12   US   \n",
       "3   16.000000         8          304         150   3433           12   US   \n",
       "4   17.000000         8          302         140   3449         10.5   US   \n",
       "6   14.000000         8          454         220   4354            9   US   \n",
       "7   23.551429         8          440         215   4312          8.5   US   \n",
       "8   14.000000         8          455         225   4425          8.5   US   \n",
       "9   15.000000         8          390         190   3850          8.5   US   \n",
       "10  15.000000         8          383         170   3563           10   US   \n",
       "11  14.000000         -          340         160   3609            8   US   \n",
       "12  23.551429         8          400         150   3761          9.5   US   \n",
       "\n",
       "   Origin  bore  stroke compression-ratio  \n",
       "0      US  3.47    2.68                 9  \n",
       "3      US  3.19    3.40                10  \n",
       "4      US  3.19    3.40                 8  \n",
       "6      US  3.19    3.40               8.5  \n",
       "7      US  3.19    3.40               8.5  \n",
       "8      US  3.13    3.40               8.3  \n",
       "9      US  3.13    3.40                 7  \n",
       "10     US  3.50    2.80               8.8  \n",
       "11     US  3.50    2.80               8.8  \n",
       "12     US  3.31    3.19                 9  "
      ]
     },
     "execution_count": 45,
     "metadata": {},
     "output_type": "execute_result"
    }
   ],
   "source": [
    "data.head(10)"
   ]
  },
  {
   "cell_type": "code",
   "execution_count": 46,
   "id": "f3ee4626",
   "metadata": {},
   "outputs": [
    {
     "data": {
      "text/plain": [
       "0      8\n",
       "3      8\n",
       "4      8\n",
       "6      8\n",
       "7      8\n",
       "      ..\n",
       "389    4\n",
       "390    4\n",
       "391    4\n",
       "392    4\n",
       "393    4\n",
       "Name: Cylinders, Length: 387, dtype: object"
      ]
     },
     "execution_count": 46,
     "metadata": {},
     "output_type": "execute_result"
    }
   ],
   "source": [
    "# Taking up the Cylinder column\n",
    "data['Cylinders']"
   ]
  },
  {
   "cell_type": "code",
   "execution_count": 49,
   "id": "4993fa60",
   "metadata": {},
   "outputs": [
    {
     "data": {
      "text/plain": [
       "MPG                  float64\n",
       "Cylinders             object\n",
       "Displacement          object\n",
       "Horsepower             int64\n",
       "Weight                object\n",
       "Acceleration          object\n",
       "Year                  object\n",
       "Origin                object\n",
       "bore                 float64\n",
       "stroke               float64\n",
       "compression-ratio     object\n",
       "dtype: object"
      ]
     },
     "execution_count": 49,
     "metadata": {},
     "output_type": "execute_result"
    }
   ],
   "source": [
    "data.dtypes"
   ]
  },
  {
   "cell_type": "code",
   "execution_count": 52,
   "id": "71ddea8f",
   "metadata": {},
   "outputs": [
    {
     "data": {
      "text/plain": [
       "False"
      ]
     },
     "execution_count": 52,
     "metadata": {},
     "output_type": "execute_result"
    }
   ],
   "source": [
    "# Cylinder columns states that it is object, so lets see why.\n",
    "# Check if there are any missing cylinders\n",
    "data['Cylinders'].isnull().values.any()"
   ]
  },
  {
   "cell_type": "code",
   "execution_count": 54,
   "id": "d0e17792",
   "metadata": {},
   "outputs": [
    {
     "data": {
      "text/plain": [
       "True     378\n",
       "False      9\n",
       "Name: Cylinders, dtype: int64"
      ]
     },
     "execution_count": 54,
     "metadata": {},
     "output_type": "execute_result"
    }
   ],
   "source": [
    "# Gett the number of numeric vs non numeric\n",
    "data['Cylinders'].str.isnumeric().value_counts()"
   ]
  },
  {
   "cell_type": "code",
   "execution_count": 55,
   "id": "d770123c",
   "metadata": {},
   "outputs": [
    {
     "data": {
      "text/html": [
       "<div>\n",
       "<style scoped>\n",
       "    .dataframe tbody tr th:only-of-type {\n",
       "        vertical-align: middle;\n",
       "    }\n",
       "\n",
       "    .dataframe tbody tr th {\n",
       "        vertical-align: top;\n",
       "    }\n",
       "\n",
       "    .dataframe thead th {\n",
       "        text-align: right;\n",
       "    }\n",
       "</style>\n",
       "<table border=\"1\" class=\"dataframe\">\n",
       "  <thead>\n",
       "    <tr style=\"text-align: right;\">\n",
       "      <th></th>\n",
       "      <th>MPG</th>\n",
       "      <th>Cylinders</th>\n",
       "      <th>Displacement</th>\n",
       "      <th>Horsepower</th>\n",
       "      <th>Weight</th>\n",
       "      <th>Acceleration</th>\n",
       "      <th>Year</th>\n",
       "      <th>Origin</th>\n",
       "      <th>bore</th>\n",
       "      <th>stroke</th>\n",
       "      <th>compression-ratio</th>\n",
       "    </tr>\n",
       "  </thead>\n",
       "  <tbody>\n",
       "    <tr>\n",
       "      <th>11</th>\n",
       "      <td>14.0</td>\n",
       "      <td>-</td>\n",
       "      <td>340</td>\n",
       "      <td>160</td>\n",
       "      <td>3609</td>\n",
       "      <td>8</td>\n",
       "      <td>US</td>\n",
       "      <td>US</td>\n",
       "      <td>3.50</td>\n",
       "      <td>2.80</td>\n",
       "      <td>8.8</td>\n",
       "    </tr>\n",
       "    <tr>\n",
       "      <th>22</th>\n",
       "      <td>25.0</td>\n",
       "      <td>-</td>\n",
       "      <td>104</td>\n",
       "      <td>95</td>\n",
       "      <td>2375</td>\n",
       "      <td>17.5</td>\n",
       "      <td>Europe</td>\n",
       "      <td>Europe</td>\n",
       "      <td>2.97</td>\n",
       "      <td>3.23</td>\n",
       "      <td>9.4</td>\n",
       "    </tr>\n",
       "    <tr>\n",
       "      <th>32</th>\n",
       "      <td>19.0</td>\n",
       "      <td>-</td>\n",
       "      <td>232</td>\n",
       "      <td>100</td>\n",
       "      <td>2634</td>\n",
       "      <td>13</td>\n",
       "      <td>US</td>\n",
       "      <td>US</td>\n",
       "      <td>2.91</td>\n",
       "      <td>3.07</td>\n",
       "      <td>10.1</td>\n",
       "    </tr>\n",
       "    <tr>\n",
       "      <th>42</th>\n",
       "      <td>13.0</td>\n",
       "      <td>-</td>\n",
       "      <td>400</td>\n",
       "      <td>170</td>\n",
       "      <td>4746</td>\n",
       "      <td>12</td>\n",
       "      <td>US</td>\n",
       "      <td>US</td>\n",
       "      <td>3.15</td>\n",
       "      <td>3.58</td>\n",
       "      <td>9.1</td>\n",
       "    </tr>\n",
       "    <tr>\n",
       "      <th>51</th>\n",
       "      <td>30.0</td>\n",
       "      <td>-</td>\n",
       "      <td>88</td>\n",
       "      <td>76</td>\n",
       "      <td>2065</td>\n",
       "      <td>14.5</td>\n",
       "      <td>Europe</td>\n",
       "      <td>Europe</td>\n",
       "      <td>3.03</td>\n",
       "      <td>3.15</td>\n",
       "      <td>9</td>\n",
       "    </tr>\n",
       "    <tr>\n",
       "      <th>58</th>\n",
       "      <td>23.0</td>\n",
       "      <td>-</td>\n",
       "      <td>97</td>\n",
       "      <td>54</td>\n",
       "      <td>2254</td>\n",
       "      <td>23.5</td>\n",
       "      <td>Europe</td>\n",
       "      <td>Europe</td>\n",
       "      <td>3.08</td>\n",
       "      <td>3.15</td>\n",
       "      <td>9.4</td>\n",
       "    </tr>\n",
       "    <tr>\n",
       "      <th>69</th>\n",
       "      <td>13.0</td>\n",
       "      <td>-</td>\n",
       "      <td>400</td>\n",
       "      <td>190</td>\n",
       "      <td>4422</td>\n",
       "      <td>12.5</td>\n",
       "      <td>US</td>\n",
       "      <td>US</td>\n",
       "      <td>3.58</td>\n",
       "      <td>3.64</td>\n",
       "      <td>21.5</td>\n",
       "    </tr>\n",
       "    <tr>\n",
       "      <th>82</th>\n",
       "      <td>28.0</td>\n",
       "      <td>-</td>\n",
       "      <td>98</td>\n",
       "      <td>80</td>\n",
       "      <td>2164</td>\n",
       "      <td>15</td>\n",
       "      <td>US</td>\n",
       "      <td>US</td>\n",
       "      <td>3.58</td>\n",
       "      <td>3.86</td>\n",
       "      <td>7</td>\n",
       "    </tr>\n",
       "    <tr>\n",
       "      <th>89</th>\n",
       "      <td>12.0</td>\n",
       "      <td>-</td>\n",
       "      <td>429</td>\n",
       "      <td>198</td>\n",
       "      <td>4952</td>\n",
       "      <td>11.5</td>\n",
       "      <td>US</td>\n",
       "      <td>US</td>\n",
       "      <td>3.15</td>\n",
       "      <td>3.29</td>\n",
       "      <td>9.4</td>\n",
       "    </tr>\n",
       "  </tbody>\n",
       "</table>\n",
       "</div>"
      ],
      "text/plain": [
       "     MPG Cylinders Displacement  Horsepower Weight Acceleration    Year  \\\n",
       "11  14.0         -          340         160   3609            8      US   \n",
       "22  25.0         -          104          95   2375         17.5  Europe   \n",
       "32  19.0         -          232         100   2634           13      US   \n",
       "42  13.0         -          400         170   4746           12      US   \n",
       "51  30.0         -           88          76   2065         14.5  Europe   \n",
       "58  23.0         -           97          54   2254         23.5  Europe   \n",
       "69  13.0         -          400         190   4422         12.5      US   \n",
       "82  28.0         -           98          80   2164           15      US   \n",
       "89  12.0         -          429         198   4952         11.5      US   \n",
       "\n",
       "    Origin  bore  stroke compression-ratio  \n",
       "11      US  3.50    2.80               8.8  \n",
       "22  Europe  2.97    3.23               9.4  \n",
       "32      US  2.91    3.07              10.1  \n",
       "42      US  3.15    3.58               9.1  \n",
       "51  Europe  3.03    3.15                 9  \n",
       "58  Europe  3.08    3.15               9.4  \n",
       "69      US  3.58    3.64              21.5  \n",
       "82      US  3.58    3.86                 7  \n",
       "89      US  3.15    3.29               9.4  "
      ]
     },
     "execution_count": 55,
     "metadata": {},
     "output_type": "execute_result"
    }
   ],
   "source": [
    "# We can see that 9 enters are not numeric. Let fix it\n",
    "# Extract the non numeric enters\n",
    "data[data['Cylinders'].str.isnumeric()==False]"
   ]
  },
  {
   "cell_type": "code",
   "execution_count": 58,
   "id": "ecfbf38a",
   "metadata": {},
   "outputs": [
    {
     "data": {
      "text/plain": [
       "11    -\n",
       "22    -\n",
       "32    -\n",
       "42    -\n",
       "51    -\n",
       "58    -\n",
       "69    -\n",
       "82    -\n",
       "89    -\n",
       "Name: Cylinders, dtype: object"
      ]
     },
     "execution_count": 58,
     "metadata": {},
     "output_type": "execute_result"
    }
   ],
   "source": [
    "# OR\n",
    "data['Cylinders'].loc[data['Cylinders'].str.isnumeric()==False]"
   ]
  },
  {
   "cell_type": "code",
   "execution_count": 64,
   "id": "4a418824",
   "metadata": {},
   "outputs": [
    {
     "data": {
      "text/plain": [
       "0      8\n",
       "3      8\n",
       "4      8\n",
       "6      8\n",
       "7      8\n",
       "      ..\n",
       "389    4\n",
       "390    4\n",
       "391    4\n",
       "392    4\n",
       "393    4\n",
       "Name: Cylinders, Length: 378, dtype: object"
      ]
     },
     "execution_count": 64,
     "metadata": {},
     "output_type": "execute_result"
    }
   ],
   "source": [
    "# Extract all the Cylinders that not are number or that are without dashes\n",
    "cylinders_nor = data['Cylinders'].loc[data['Cylinders'] != '-']\n",
    "cylinders_nor"
   ]
  },
  {
   "cell_type": "code",
   "execution_count": 65,
   "id": "00cd2182",
   "metadata": {},
   "outputs": [],
   "source": [
    "# Get the mean of the values\n",
    "cmean = cylinders_nor.astype(int).mean()"
   ]
  },
  {
   "cell_type": "code",
   "execution_count": 66,
   "id": "7215b39d",
   "metadata": {},
   "outputs": [
    {
     "data": {
      "text/plain": [
       "5.420634920634921"
      ]
     },
     "execution_count": 66,
     "metadata": {},
     "output_type": "execute_result"
    }
   ],
   "source": [
    "cmean"
   ]
  },
  {
   "cell_type": "code",
   "execution_count": 67,
   "id": "c7ee9689",
   "metadata": {},
   "outputs": [],
   "source": [
    "# Replace the - with the cmean\n",
    "data['Cylinders'] = data['Cylinders'].replace('-', cmean)"
   ]
  },
  {
   "cell_type": "code",
   "execution_count": 68,
   "id": "a1ec9f55",
   "metadata": {},
   "outputs": [
    {
     "data": {
      "text/plain": [
       "dtype('O')"
      ]
     },
     "execution_count": 68,
     "metadata": {},
     "output_type": "execute_result"
    }
   ],
   "source": [
    "# Check the Cylinder data type\n",
    "data['Cylinders'].dtype"
   ]
  },
  {
   "cell_type": "code",
   "execution_count": 69,
   "id": "3d9c6e86",
   "metadata": {},
   "outputs": [],
   "source": [
    "# Convert the Cyclinder to int\n",
    "data['Cylinders'] = data['Cylinders'].astype(int)"
   ]
  },
  {
   "cell_type": "code",
   "execution_count": 70,
   "id": "19d486c1",
   "metadata": {},
   "outputs": [
    {
     "data": {
      "text/plain": [
       "dtype('int32')"
      ]
     },
     "execution_count": 70,
     "metadata": {},
     "output_type": "execute_result"
    }
   ],
   "source": [
    "data['Cylinders'].dtype"
   ]
  },
  {
   "cell_type": "code",
   "execution_count": 71,
   "id": "d81701ac",
   "metadata": {},
   "outputs": [
    {
     "name": "stdout",
     "output_type": "stream",
     "text": [
      "<class 'pandas.core.frame.DataFrame'>\n",
      "Int64Index: 387 entries, 0 to 393\n",
      "Data columns (total 11 columns):\n",
      " #   Column             Non-Null Count  Dtype  \n",
      "---  ------             --------------  -----  \n",
      " 0   MPG                387 non-null    float64\n",
      " 1   Cylinders          387 non-null    int32  \n",
      " 2   Displacement       387 non-null    object \n",
      " 3   Horsepower         387 non-null    int64  \n",
      " 4   Weight             387 non-null    object \n",
      " 5   Acceleration       387 non-null    object \n",
      " 6   Year               387 non-null    object \n",
      " 7   Origin             387 non-null    object \n",
      " 8   bore               387 non-null    float64\n",
      " 9   stroke             387 non-null    float64\n",
      " 10  compression-ratio  387 non-null    object \n",
      "dtypes: float64(3), int32(1), int64(1), object(6)\n",
      "memory usage: 34.8+ KB\n"
     ]
    }
   ],
   "source": [
    "# View the data\n",
    "data.info()"
   ]
  },
  {
   "cell_type": "code",
   "execution_count": 72,
   "id": "141517fe",
   "metadata": {},
   "outputs": [
    {
     "data": {
      "text/html": [
       "<div>\n",
       "<style scoped>\n",
       "    .dataframe tbody tr th:only-of-type {\n",
       "        vertical-align: middle;\n",
       "    }\n",
       "\n",
       "    .dataframe tbody tr th {\n",
       "        vertical-align: top;\n",
       "    }\n",
       "\n",
       "    .dataframe thead th {\n",
       "        text-align: right;\n",
       "    }\n",
       "</style>\n",
       "<table border=\"1\" class=\"dataframe\">\n",
       "  <thead>\n",
       "    <tr style=\"text-align: right;\">\n",
       "      <th></th>\n",
       "      <th>MPG</th>\n",
       "      <th>Cylinders</th>\n",
       "      <th>Displacement</th>\n",
       "      <th>Horsepower</th>\n",
       "      <th>Weight</th>\n",
       "      <th>Acceleration</th>\n",
       "      <th>Year</th>\n",
       "      <th>Origin</th>\n",
       "      <th>bore</th>\n",
       "      <th>stroke</th>\n",
       "      <th>compression-ratio</th>\n",
       "    </tr>\n",
       "  </thead>\n",
       "  <tbody>\n",
       "    <tr>\n",
       "      <th>0</th>\n",
       "      <td>18.000000</td>\n",
       "      <td>8</td>\n",
       "      <td>307</td>\n",
       "      <td>130</td>\n",
       "      <td>3504</td>\n",
       "      <td>12</td>\n",
       "      <td>US</td>\n",
       "      <td>US</td>\n",
       "      <td>3.47</td>\n",
       "      <td>2.68</td>\n",
       "      <td>9</td>\n",
       "    </tr>\n",
       "    <tr>\n",
       "      <th>3</th>\n",
       "      <td>16.000000</td>\n",
       "      <td>8</td>\n",
       "      <td>304</td>\n",
       "      <td>150</td>\n",
       "      <td>3433</td>\n",
       "      <td>12</td>\n",
       "      <td>US</td>\n",
       "      <td>US</td>\n",
       "      <td>3.19</td>\n",
       "      <td>3.40</td>\n",
       "      <td>10</td>\n",
       "    </tr>\n",
       "    <tr>\n",
       "      <th>4</th>\n",
       "      <td>17.000000</td>\n",
       "      <td>8</td>\n",
       "      <td>302</td>\n",
       "      <td>140</td>\n",
       "      <td>3449</td>\n",
       "      <td>10.5</td>\n",
       "      <td>US</td>\n",
       "      <td>US</td>\n",
       "      <td>3.19</td>\n",
       "      <td>3.40</td>\n",
       "      <td>8</td>\n",
       "    </tr>\n",
       "    <tr>\n",
       "      <th>6</th>\n",
       "      <td>14.000000</td>\n",
       "      <td>8</td>\n",
       "      <td>454</td>\n",
       "      <td>220</td>\n",
       "      <td>4354</td>\n",
       "      <td>9</td>\n",
       "      <td>US</td>\n",
       "      <td>US</td>\n",
       "      <td>3.19</td>\n",
       "      <td>3.40</td>\n",
       "      <td>8.5</td>\n",
       "    </tr>\n",
       "    <tr>\n",
       "      <th>7</th>\n",
       "      <td>23.551429</td>\n",
       "      <td>8</td>\n",
       "      <td>440</td>\n",
       "      <td>215</td>\n",
       "      <td>4312</td>\n",
       "      <td>8.5</td>\n",
       "      <td>US</td>\n",
       "      <td>US</td>\n",
       "      <td>3.19</td>\n",
       "      <td>3.40</td>\n",
       "      <td>8.5</td>\n",
       "    </tr>\n",
       "  </tbody>\n",
       "</table>\n",
       "</div>"
      ],
      "text/plain": [
       "         MPG  Cylinders Displacement  Horsepower Weight Acceleration Year  \\\n",
       "0  18.000000          8          307         130   3504           12   US   \n",
       "3  16.000000          8          304         150   3433           12   US   \n",
       "4  17.000000          8          302         140   3449         10.5   US   \n",
       "6  14.000000          8          454         220   4354            9   US   \n",
       "7  23.551429          8          440         215   4312          8.5   US   \n",
       "\n",
       "  Origin  bore  stroke compression-ratio  \n",
       "0     US  3.47    2.68                 9  \n",
       "3     US  3.19    3.40                10  \n",
       "4     US  3.19    3.40                 8  \n",
       "6     US  3.19    3.40               8.5  \n",
       "7     US  3.19    3.40               8.5  "
      ]
     },
     "execution_count": 72,
     "metadata": {},
     "output_type": "execute_result"
    }
   ],
   "source": [
    "data.head()"
   ]
  },
  {
   "cell_type": "code",
   "execution_count": 73,
   "id": "07b6814d",
   "metadata": {},
   "outputs": [],
   "source": [
    "# Above we can see that the displacement is a number (Numeric), but its data type is string, so we will fix it\n",
    "# Convert the Displacement column to numeric\n",
    "data['Displacement'] = pd.to_numeric(data['Displacement'])"
   ]
  },
  {
   "cell_type": "code",
   "execution_count": 74,
   "id": "c3976e71",
   "metadata": {},
   "outputs": [
    {
     "name": "stdout",
     "output_type": "stream",
     "text": [
      "<class 'pandas.core.frame.DataFrame'>\n",
      "Int64Index: 387 entries, 0 to 393\n",
      "Data columns (total 11 columns):\n",
      " #   Column             Non-Null Count  Dtype  \n",
      "---  ------             --------------  -----  \n",
      " 0   MPG                387 non-null    float64\n",
      " 1   Cylinders          387 non-null    int32  \n",
      " 2   Displacement       387 non-null    float64\n",
      " 3   Horsepower         387 non-null    int64  \n",
      " 4   Weight             387 non-null    object \n",
      " 5   Acceleration       387 non-null    object \n",
      " 6   Year               387 non-null    object \n",
      " 7   Origin             387 non-null    object \n",
      " 8   bore               387 non-null    float64\n",
      " 9   stroke             387 non-null    float64\n",
      " 10  compression-ratio  387 non-null    object \n",
      "dtypes: float64(4), int32(1), int64(1), object(5)\n",
      "memory usage: 34.8+ KB\n"
     ]
    }
   ],
   "source": [
    "data.info()"
   ]
  },
  {
   "cell_type": "code",
   "execution_count": 75,
   "id": "7b56c26f",
   "metadata": {},
   "outputs": [],
   "source": [
    "# Weight is also a numeric but showing as dtype is reporting string. Lets fix that\n",
    "data['Weight'] = pd.to_numeric(data['Weight'])"
   ]
  },
  {
   "cell_type": "code",
   "execution_count": 76,
   "id": "2061b5ac",
   "metadata": {},
   "outputs": [
    {
     "name": "stdout",
     "output_type": "stream",
     "text": [
      "<class 'pandas.core.frame.DataFrame'>\n",
      "Int64Index: 387 entries, 0 to 393\n",
      "Data columns (total 11 columns):\n",
      " #   Column             Non-Null Count  Dtype  \n",
      "---  ------             --------------  -----  \n",
      " 0   MPG                387 non-null    float64\n",
      " 1   Cylinders          387 non-null    int32  \n",
      " 2   Displacement       387 non-null    float64\n",
      " 3   Horsepower         387 non-null    int64  \n",
      " 4   Weight             387 non-null    int64  \n",
      " 5   Acceleration       387 non-null    object \n",
      " 6   Year               387 non-null    object \n",
      " 7   Origin             387 non-null    object \n",
      " 8   bore               387 non-null    float64\n",
      " 9   stroke             387 non-null    float64\n",
      " 10  compression-ratio  387 non-null    object \n",
      "dtypes: float64(4), int32(1), int64(2), object(4)\n",
      "memory usage: 34.8+ KB\n"
     ]
    }
   ],
   "source": [
    "data.info()"
   ]
  },
  {
   "cell_type": "code",
   "execution_count": 77,
   "id": "e2028968",
   "metadata": {},
   "outputs": [
    {
     "data": {
      "text/html": [
       "<div>\n",
       "<style scoped>\n",
       "    .dataframe tbody tr th:only-of-type {\n",
       "        vertical-align: middle;\n",
       "    }\n",
       "\n",
       "    .dataframe tbody tr th {\n",
       "        vertical-align: top;\n",
       "    }\n",
       "\n",
       "    .dataframe thead th {\n",
       "        text-align: right;\n",
       "    }\n",
       "</style>\n",
       "<table border=\"1\" class=\"dataframe\">\n",
       "  <thead>\n",
       "    <tr style=\"text-align: right;\">\n",
       "      <th></th>\n",
       "      <th>MPG</th>\n",
       "      <th>Cylinders</th>\n",
       "      <th>Displacement</th>\n",
       "      <th>Horsepower</th>\n",
       "      <th>Weight</th>\n",
       "      <th>Acceleration</th>\n",
       "      <th>Year</th>\n",
       "      <th>Origin</th>\n",
       "      <th>bore</th>\n",
       "      <th>stroke</th>\n",
       "      <th>compression-ratio</th>\n",
       "    </tr>\n",
       "  </thead>\n",
       "  <tbody>\n",
       "    <tr>\n",
       "      <th>0</th>\n",
       "      <td>18.000000</td>\n",
       "      <td>8</td>\n",
       "      <td>307.0</td>\n",
       "      <td>130</td>\n",
       "      <td>3504</td>\n",
       "      <td>12</td>\n",
       "      <td>US</td>\n",
       "      <td>US</td>\n",
       "      <td>3.47</td>\n",
       "      <td>2.68</td>\n",
       "      <td>9</td>\n",
       "    </tr>\n",
       "    <tr>\n",
       "      <th>3</th>\n",
       "      <td>16.000000</td>\n",
       "      <td>8</td>\n",
       "      <td>304.0</td>\n",
       "      <td>150</td>\n",
       "      <td>3433</td>\n",
       "      <td>12</td>\n",
       "      <td>US</td>\n",
       "      <td>US</td>\n",
       "      <td>3.19</td>\n",
       "      <td>3.40</td>\n",
       "      <td>10</td>\n",
       "    </tr>\n",
       "    <tr>\n",
       "      <th>4</th>\n",
       "      <td>17.000000</td>\n",
       "      <td>8</td>\n",
       "      <td>302.0</td>\n",
       "      <td>140</td>\n",
       "      <td>3449</td>\n",
       "      <td>10.5</td>\n",
       "      <td>US</td>\n",
       "      <td>US</td>\n",
       "      <td>3.19</td>\n",
       "      <td>3.40</td>\n",
       "      <td>8</td>\n",
       "    </tr>\n",
       "    <tr>\n",
       "      <th>6</th>\n",
       "      <td>14.000000</td>\n",
       "      <td>8</td>\n",
       "      <td>454.0</td>\n",
       "      <td>220</td>\n",
       "      <td>4354</td>\n",
       "      <td>9</td>\n",
       "      <td>US</td>\n",
       "      <td>US</td>\n",
       "      <td>3.19</td>\n",
       "      <td>3.40</td>\n",
       "      <td>8.5</td>\n",
       "    </tr>\n",
       "    <tr>\n",
       "      <th>7</th>\n",
       "      <td>23.551429</td>\n",
       "      <td>8</td>\n",
       "      <td>440.0</td>\n",
       "      <td>215</td>\n",
       "      <td>4312</td>\n",
       "      <td>8.5</td>\n",
       "      <td>US</td>\n",
       "      <td>US</td>\n",
       "      <td>3.19</td>\n",
       "      <td>3.40</td>\n",
       "      <td>8.5</td>\n",
       "    </tr>\n",
       "  </tbody>\n",
       "</table>\n",
       "</div>"
      ],
      "text/plain": [
       "         MPG  Cylinders  Displacement  Horsepower  Weight Acceleration Year  \\\n",
       "0  18.000000          8         307.0         130    3504           12   US   \n",
       "3  16.000000          8         304.0         150    3433           12   US   \n",
       "4  17.000000          8         302.0         140    3449         10.5   US   \n",
       "6  14.000000          8         454.0         220    4354            9   US   \n",
       "7  23.551429          8         440.0         215    4312          8.5   US   \n",
       "\n",
       "  Origin  bore  stroke compression-ratio  \n",
       "0     US  3.47    2.68                 9  \n",
       "3     US  3.19    3.40                10  \n",
       "4     US  3.19    3.40                 8  \n",
       "6     US  3.19    3.40               8.5  \n",
       "7     US  3.19    3.40               8.5  "
      ]
     },
     "execution_count": 77,
     "metadata": {},
     "output_type": "execute_result"
    }
   ],
   "source": [
    "data.head()"
   ]
  },
  {
   "cell_type": "code",
   "execution_count": 78,
   "id": "b6dc4152",
   "metadata": {},
   "outputs": [],
   "source": [
    "# Acceleration is also a numeric but showing as dtype is reporting string. Lets fix that\n",
    "data['Acceleration'] = pd.to_numeric(data['Acceleration'])"
   ]
  },
  {
   "cell_type": "code",
   "execution_count": 79,
   "id": "e5d6ed0d",
   "metadata": {},
   "outputs": [
    {
     "name": "stdout",
     "output_type": "stream",
     "text": [
      "<class 'pandas.core.frame.DataFrame'>\n",
      "Int64Index: 387 entries, 0 to 393\n",
      "Data columns (total 11 columns):\n",
      " #   Column             Non-Null Count  Dtype  \n",
      "---  ------             --------------  -----  \n",
      " 0   MPG                387 non-null    float64\n",
      " 1   Cylinders          387 non-null    int32  \n",
      " 2   Displacement       387 non-null    float64\n",
      " 3   Horsepower         387 non-null    int64  \n",
      " 4   Weight             387 non-null    int64  \n",
      " 5   Acceleration       387 non-null    float64\n",
      " 6   Year               387 non-null    object \n",
      " 7   Origin             387 non-null    object \n",
      " 8   bore               387 non-null    float64\n",
      " 9   stroke             387 non-null    float64\n",
      " 10  compression-ratio  387 non-null    object \n",
      "dtypes: float64(5), int32(1), int64(2), object(3)\n",
      "memory usage: 34.8+ KB\n"
     ]
    }
   ],
   "source": [
    "data.info()"
   ]
  },
  {
   "cell_type": "code",
   "execution_count": 86,
   "id": "4842f24a",
   "metadata": {},
   "outputs": [],
   "source": [
    "# Droping certain feature for demostraction purpose\n",
    "data.drop(['Year'], axis=1, inplace=True)"
   ]
  },
  {
   "cell_type": "code",
   "execution_count": 87,
   "id": "538f7884",
   "metadata": {},
   "outputs": [
    {
     "data": {
      "text/html": [
       "<div>\n",
       "<style scoped>\n",
       "    .dataframe tbody tr th:only-of-type {\n",
       "        vertical-align: middle;\n",
       "    }\n",
       "\n",
       "    .dataframe tbody tr th {\n",
       "        vertical-align: top;\n",
       "    }\n",
       "\n",
       "    .dataframe thead th {\n",
       "        text-align: right;\n",
       "    }\n",
       "</style>\n",
       "<table border=\"1\" class=\"dataframe\">\n",
       "  <thead>\n",
       "    <tr style=\"text-align: right;\">\n",
       "      <th></th>\n",
       "      <th>MPG</th>\n",
       "      <th>Cylinders</th>\n",
       "      <th>Displacement</th>\n",
       "      <th>Horsepower</th>\n",
       "      <th>Weight</th>\n",
       "      <th>Acceleration</th>\n",
       "      <th>Origin</th>\n",
       "      <th>bore</th>\n",
       "      <th>stroke</th>\n",
       "      <th>compression-ratio</th>\n",
       "    </tr>\n",
       "  </thead>\n",
       "  <tbody>\n",
       "    <tr>\n",
       "      <th>0</th>\n",
       "      <td>18.000000</td>\n",
       "      <td>8</td>\n",
       "      <td>307.0</td>\n",
       "      <td>130</td>\n",
       "      <td>3504</td>\n",
       "      <td>12.0</td>\n",
       "      <td>US</td>\n",
       "      <td>3.47</td>\n",
       "      <td>2.68</td>\n",
       "      <td>9</td>\n",
       "    </tr>\n",
       "    <tr>\n",
       "      <th>3</th>\n",
       "      <td>16.000000</td>\n",
       "      <td>8</td>\n",
       "      <td>304.0</td>\n",
       "      <td>150</td>\n",
       "      <td>3433</td>\n",
       "      <td>12.0</td>\n",
       "      <td>US</td>\n",
       "      <td>3.19</td>\n",
       "      <td>3.40</td>\n",
       "      <td>10</td>\n",
       "    </tr>\n",
       "    <tr>\n",
       "      <th>4</th>\n",
       "      <td>17.000000</td>\n",
       "      <td>8</td>\n",
       "      <td>302.0</td>\n",
       "      <td>140</td>\n",
       "      <td>3449</td>\n",
       "      <td>10.5</td>\n",
       "      <td>US</td>\n",
       "      <td>3.19</td>\n",
       "      <td>3.40</td>\n",
       "      <td>8</td>\n",
       "    </tr>\n",
       "    <tr>\n",
       "      <th>6</th>\n",
       "      <td>14.000000</td>\n",
       "      <td>8</td>\n",
       "      <td>454.0</td>\n",
       "      <td>220</td>\n",
       "      <td>4354</td>\n",
       "      <td>9.0</td>\n",
       "      <td>US</td>\n",
       "      <td>3.19</td>\n",
       "      <td>3.40</td>\n",
       "      <td>8.5</td>\n",
       "    </tr>\n",
       "    <tr>\n",
       "      <th>7</th>\n",
       "      <td>23.551429</td>\n",
       "      <td>8</td>\n",
       "      <td>440.0</td>\n",
       "      <td>215</td>\n",
       "      <td>4312</td>\n",
       "      <td>8.5</td>\n",
       "      <td>US</td>\n",
       "      <td>3.19</td>\n",
       "      <td>3.40</td>\n",
       "      <td>8.5</td>\n",
       "    </tr>\n",
       "  </tbody>\n",
       "</table>\n",
       "</div>"
      ],
      "text/plain": [
       "         MPG  Cylinders  Displacement  Horsepower  Weight  Acceleration  \\\n",
       "0  18.000000          8         307.0         130    3504          12.0   \n",
       "3  16.000000          8         304.0         150    3433          12.0   \n",
       "4  17.000000          8         302.0         140    3449          10.5   \n",
       "6  14.000000          8         454.0         220    4354           9.0   \n",
       "7  23.551429          8         440.0         215    4312           8.5   \n",
       "\n",
       "  Origin  bore  stroke compression-ratio  \n",
       "0     US  3.47    2.68                 9  \n",
       "3     US  3.19    3.40                10  \n",
       "4     US  3.19    3.40                 8  \n",
       "6     US  3.19    3.40               8.5  \n",
       "7     US  3.19    3.40               8.5  "
      ]
     },
     "execution_count": 87,
     "metadata": {},
     "output_type": "execute_result"
    }
   ],
   "source": [
    "data.head()"
   ]
  },
  {
   "cell_type": "code",
   "execution_count": 88,
   "id": "615cc3af",
   "metadata": {},
   "outputs": [
    {
     "data": {
      "text/plain": [
       "MPG                  0\n",
       "Cylinders            0\n",
       "Displacement         0\n",
       "Horsepower           0\n",
       "Weight               0\n",
       "Acceleration         0\n",
       "Origin               0\n",
       "bore                 0\n",
       "stroke               0\n",
       "compression-ratio    0\n",
       "dtype: int64"
      ]
     },
     "execution_count": 88,
     "metadata": {},
     "output_type": "execute_result"
    }
   ],
   "source": [
    "# Check if there is any missing values\n",
    "data.isnull().sum()"
   ]
  },
  {
   "cell_type": "code",
   "execution_count": 89,
   "id": "8a6530e0",
   "metadata": {},
   "outputs": [
    {
     "data": {
      "text/plain": [
       "MPG                  float64\n",
       "Cylinders              int32\n",
       "Displacement         float64\n",
       "Horsepower             int64\n",
       "Weight                 int64\n",
       "Acceleration         float64\n",
       "Origin                object\n",
       "bore                 float64\n",
       "stroke               float64\n",
       "compression-ratio     object\n",
       "dtype: object"
      ]
     },
     "execution_count": 89,
     "metadata": {},
     "output_type": "execute_result"
    }
   ],
   "source": [
    "# Check data type\n",
    "data.dtypes"
   ]
  },
  {
   "cell_type": "code",
   "execution_count": 90,
   "id": "4841fc1e",
   "metadata": {},
   "outputs": [],
   "source": [
    "# Now we are good. Save file to another files\n",
    "data.to_csv('data/cars_cleaned_07052023.csv', index=False)"
   ]
  },
  {
   "cell_type": "markdown",
   "id": "c2687971",
   "metadata": {},
   "source": [
    "## THE END"
   ]
  },
  {
   "cell_type": "code",
   "execution_count": null,
   "id": "0dfc0858",
   "metadata": {},
   "outputs": [],
   "source": []
  }
 ],
 "metadata": {
  "kernelspec": {
   "display_name": "Python 3 (ipykernel)",
   "language": "python",
   "name": "python3"
  },
  "language_info": {
   "codemirror_mode": {
    "name": "ipython",
    "version": 3
   },
   "file_extension": ".py",
   "mimetype": "text/x-python",
   "name": "python",
   "nbconvert_exporter": "python",
   "pygments_lexer": "ipython3",
   "version": "3.9.13"
  },
  "toc": {
   "base_numbering": 1,
   "nav_menu": {},
   "number_sections": true,
   "sideBar": true,
   "skip_h1_title": false,
   "title_cell": "Table of Contents",
   "title_sidebar": "Contents",
   "toc_cell": false,
   "toc_position": {},
   "toc_section_display": true,
   "toc_window_display": false
  }
 },
 "nbformat": 4,
 "nbformat_minor": 5
}
